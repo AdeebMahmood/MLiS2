{
  "nbformat": 4,
  "nbformat_minor": 0,
  "metadata": {
    "colab": {
      "name": "tensorflow_intro.ipynb",
      "provenance": [],
      "authorship_tag": "ABX9TyM9HJXdKcV9IaTZPgpe6qno",
      "include_colab_link": true
    },
    "kernelspec": {
      "name": "python3",
      "display_name": "Python 3"
    }
  },
  "cells": [
    {
      "cell_type": "markdown",
      "metadata": {
        "id": "view-in-github",
        "colab_type": "text"
      },
      "source": [
        "<a href=\"https://colab.research.google.com/github/adammoss/MLiS2/blob/master/tensorflow_intro.ipynb\" target=\"_parent\"><img src=\"https://colab.research.google.com/assets/colab-badge.svg\" alt=\"Open In Colab\"/></a>"
      ]
    },
    {
      "cell_type": "code",
      "metadata": {
        "id": "jv_nlCjppJfO",
        "colab_type": "code",
        "colab": {}
      },
      "source": [
        "try:\n",
        "  # %tensorflow_version only exists in Colab.\n",
        "  %tensorflow_version 2.x\n",
        "except Exception:\n",
        "  pass"
      ],
      "execution_count": 0,
      "outputs": []
    },
    {
      "cell_type": "code",
      "metadata": {
        "id": "U4bTorEjpKWw",
        "colab_type": "code",
        "colab": {}
      },
      "source": [
        "from __future__ import absolute_import, division, print_function, unicode_literals\n",
        "\n",
        "import tensorflow as tf\n",
        "from tensorflow import keras\n",
        "from tensorflow.keras import layers\n",
        "import matplotlib.pyplot as plt\n",
        "import numpy as np"
      ],
      "execution_count": 0,
      "outputs": []
    },
    {
      "cell_type": "code",
      "metadata": {
        "id": "xJOi7MzEuSdp",
        "colab_type": "code",
        "colab": {}
      },
      "source": [
        "tf.random.set_seed(1)"
      ],
      "execution_count": 0,
      "outputs": []
    },
    {
      "cell_type": "code",
      "metadata": {
        "id": "118w5f3OpQFE",
        "colab_type": "code",
        "colab": {
          "base_uri": "https://localhost:8080/",
          "height": 34
        },
        "outputId": "0db88525-81a4-43e8-f45d-b5b6f90c6a55"
      },
      "source": [
        "print(tf.__version__)"
      ],
      "execution_count": 179,
      "outputs": [
        {
          "output_type": "stream",
          "text": [
            "2.1.0-rc1\n"
          ],
          "name": "stdout"
        }
      ]
    },
    {
      "cell_type": "code",
      "metadata": {
        "id": "uAbmzldMrgk0",
        "colab_type": "code",
        "colab": {
          "base_uri": "https://localhost:8080/",
          "height": 85
        },
        "outputId": "cf46787f-2117-4dfd-d17a-9a3327ddc82a"
      },
      "source": [
        "X = np.array([[0,0], [0,1], [1,0], [1,1]])\n",
        "print(X)"
      ],
      "execution_count": 180,
      "outputs": [
        {
          "output_type": "stream",
          "text": [
            "[[0 0]\n",
            " [0 1]\n",
            " [1 0]\n",
            " [1 1]]\n"
          ],
          "name": "stdout"
        }
      ]
    },
    {
      "cell_type": "code",
      "metadata": {
        "id": "WFp114mMrvBA",
        "colab_type": "code",
        "colab": {
          "base_uri": "https://localhost:8080/",
          "height": 85
        },
        "outputId": "f826bb59-0a4b-4fdf-f4b5-90663715b9d6"
      },
      "source": [
        "Y = np.array([[0], [1], [1], [0]])\n",
        "print(Y)"
      ],
      "execution_count": 181,
      "outputs": [
        {
          "output_type": "stream",
          "text": [
            "[[0]\n",
            " [1]\n",
            " [1]\n",
            " [0]]\n"
          ],
          "name": "stdout"
        }
      ]
    },
    {
      "cell_type": "code",
      "metadata": {
        "id": "dbqsE5jEpUAH",
        "colab_type": "code",
        "colab": {}
      },
      "source": [
        "def build_model():\n",
        "  model = keras.Sequential([\n",
        "    layers.Dense(2, activation='relu', input_shape=[X.shape[1]]),\n",
        "    layers.Dense(1)\n",
        "  ])\n",
        "\n",
        "  optimizer = tf.keras.optimizers.RMSprop(0.01)\n",
        "\n",
        "  model.compile(loss='mse',\n",
        "                optimizer=optimizer,\n",
        "                metrics=['mae', 'mse'])\n",
        "  return model"
      ],
      "execution_count": 0,
      "outputs": []
    },
    {
      "cell_type": "code",
      "metadata": {
        "id": "3F9l5FLvsk2i",
        "colab_type": "code",
        "colab": {}
      },
      "source": [
        "model = build_model()"
      ],
      "execution_count": 0,
      "outputs": []
    },
    {
      "cell_type": "code",
      "metadata": {
        "id": "Gu2pak_qrX9b",
        "colab_type": "code",
        "colab": {
          "base_uri": "https://localhost:8080/",
          "height": 221
        },
        "outputId": "4d4986a0-d874-4b84-be13-e108d54a305e"
      },
      "source": [
        "model.summary()"
      ],
      "execution_count": 184,
      "outputs": [
        {
          "output_type": "stream",
          "text": [
            "Model: \"sequential_14\"\n",
            "_________________________________________________________________\n",
            "Layer (type)                 Output Shape              Param #   \n",
            "=================================================================\n",
            "dense_28 (Dense)             (None, 2)                 6         \n",
            "_________________________________________________________________\n",
            "dense_29 (Dense)             (None, 1)                 3         \n",
            "=================================================================\n",
            "Total params: 9\n",
            "Trainable params: 9\n",
            "Non-trainable params: 0\n",
            "_________________________________________________________________\n"
          ],
          "name": "stdout"
        }
      ]
    },
    {
      "cell_type": "code",
      "metadata": {
        "id": "B7gGzMmBvyKZ",
        "colab_type": "code",
        "colab": {}
      },
      "source": [
        "num_epochs = 200"
      ],
      "execution_count": 0,
      "outputs": []
    },
    {
      "cell_type": "code",
      "metadata": {
        "id": "QmU4n1XBr2Om",
        "colab_type": "code",
        "colab": {
          "base_uri": "https://localhost:8080/",
          "height": 1000
        },
        "outputId": "04d505f9-64b3-4e6e-b925-e85c077a7e07"
      },
      "source": [
        "history = model.fit(X, Y, epochs=num_epochs, verbose=1)"
      ],
      "execution_count": 186,
      "outputs": [
        {
          "output_type": "stream",
          "text": [
            "Train on 4 samples\n",
            "Epoch 1/200\n",
            "4/4 [==============================] - 0s 80ms/sample - loss: 0.5845 - mae: 0.5698 - mse: 0.5845\n",
            "Epoch 2/200\n",
            "4/4 [==============================] - 0s 1ms/sample - loss: 0.5196 - mae: 0.5317 - mse: 0.5196\n",
            "Epoch 3/200\n",
            "4/4 [==============================] - 0s 1ms/sample - loss: 0.4786 - mae: 0.5070 - mse: 0.4786\n",
            "Epoch 4/200\n",
            "4/4 [==============================] - 0s 1ms/sample - loss: 0.4471 - mae: 0.4940 - mse: 0.4471\n",
            "Epoch 5/200\n",
            "4/4 [==============================] - 0s 1ms/sample - loss: 0.4208 - mae: 0.4906 - mse: 0.4208\n",
            "Epoch 6/200\n",
            "4/4 [==============================] - 0s 1ms/sample - loss: 0.3982 - mae: 0.4872 - mse: 0.3982\n",
            "Epoch 7/200\n",
            "4/4 [==============================] - 0s 2ms/sample - loss: 0.3781 - mae: 0.4840 - mse: 0.3781\n",
            "Epoch 8/200\n",
            "4/4 [==============================] - 0s 1ms/sample - loss: 0.3601 - mae: 0.4808 - mse: 0.3601\n",
            "Epoch 9/200\n",
            "4/4 [==============================] - 0s 1ms/sample - loss: 0.3438 - mae: 0.4778 - mse: 0.3438\n",
            "Epoch 10/200\n",
            "4/4 [==============================] - 0s 991us/sample - loss: 0.3290 - mae: 0.4748 - mse: 0.3290\n",
            "Epoch 11/200\n",
            "4/4 [==============================] - 0s 1ms/sample - loss: 0.3153 - mae: 0.4718 - mse: 0.3153\n",
            "Epoch 12/200\n",
            "4/4 [==============================] - 0s 966us/sample - loss: 0.3028 - mae: 0.4689 - mse: 0.3028\n",
            "Epoch 13/200\n",
            "4/4 [==============================] - 0s 925us/sample - loss: 0.2912 - mae: 0.4660 - mse: 0.2912\n",
            "Epoch 14/200\n",
            "4/4 [==============================] - 0s 1ms/sample - loss: 0.2805 - mae: 0.4632 - mse: 0.2805\n",
            "Epoch 15/200\n",
            "4/4 [==============================] - 0s 816us/sample - loss: 0.2712 - mae: 0.4619 - mse: 0.2712\n",
            "Epoch 16/200\n",
            "4/4 [==============================] - 0s 1ms/sample - loss: 0.2621 - mae: 0.4580 - mse: 0.2621\n",
            "Epoch 17/200\n",
            "4/4 [==============================] - 0s 1ms/sample - loss: 0.2539 - mae: 0.4550 - mse: 0.2539\n",
            "Epoch 18/200\n",
            "4/4 [==============================] - 0s 1ms/sample - loss: 0.2463 - mae: 0.4530 - mse: 0.2463\n",
            "Epoch 19/200\n",
            "4/4 [==============================] - 0s 958us/sample - loss: 0.2388 - mae: 0.4491 - mse: 0.2388\n",
            "Epoch 20/200\n",
            "4/4 [==============================] - 0s 1ms/sample - loss: 0.2322 - mae: 0.4463 - mse: 0.2322\n",
            "Epoch 21/200\n",
            "4/4 [==============================] - 0s 1ms/sample - loss: 0.2255 - mae: 0.4435 - mse: 0.2255\n",
            "Epoch 22/200\n",
            "4/4 [==============================] - 0s 1ms/sample - loss: 0.2195 - mae: 0.4401 - mse: 0.2195\n",
            "Epoch 23/200\n",
            "4/4 [==============================] - 0s 967us/sample - loss: 0.2136 - mae: 0.4371 - mse: 0.2136\n",
            "Epoch 24/200\n",
            "4/4 [==============================] - 0s 1ms/sample - loss: 0.2082 - mae: 0.4337 - mse: 0.2082\n",
            "Epoch 25/200\n",
            "4/4 [==============================] - 0s 1ms/sample - loss: 0.2026 - mae: 0.4300 - mse: 0.2026\n",
            "Epoch 26/200\n",
            "4/4 [==============================] - 0s 1ms/sample - loss: 0.1982 - mae: 0.4276 - mse: 0.1982\n",
            "Epoch 27/200\n",
            "4/4 [==============================] - 0s 1ms/sample - loss: 0.1931 - mae: 0.4234 - mse: 0.1931\n",
            "Epoch 28/200\n",
            "4/4 [==============================] - 0s 1ms/sample - loss: 0.1883 - mae: 0.4196 - mse: 0.1883\n",
            "Epoch 29/200\n",
            "4/4 [==============================] - 0s 1ms/sample - loss: 0.1840 - mae: 0.4162 - mse: 0.1840\n",
            "Epoch 30/200\n",
            "4/4 [==============================] - 0s 852us/sample - loss: 0.1801 - mae: 0.4130 - mse: 0.1801\n",
            "Epoch 31/200\n",
            "4/4 [==============================] - 0s 900us/sample - loss: 0.1760 - mae: 0.4088 - mse: 0.1760\n",
            "Epoch 32/200\n",
            "4/4 [==============================] - 0s 792us/sample - loss: 0.1721 - mae: 0.4050 - mse: 0.1721\n",
            "Epoch 33/200\n",
            "4/4 [==============================] - 0s 2ms/sample - loss: 0.1683 - mae: 0.4006 - mse: 0.1683\n",
            "Epoch 34/200\n",
            "4/4 [==============================] - 0s 1ms/sample - loss: 0.1647 - mae: 0.3967 - mse: 0.1647\n",
            "Epoch 35/200\n",
            "4/4 [==============================] - 0s 1ms/sample - loss: 0.1612 - mae: 0.3924 - mse: 0.1612\n",
            "Epoch 36/200\n",
            "4/4 [==============================] - 0s 1ms/sample - loss: 0.1581 - mae: 0.3896 - mse: 0.1581\n",
            "Epoch 37/200\n",
            "4/4 [==============================] - 0s 972us/sample - loss: 0.1546 - mae: 0.3851 - mse: 0.1546\n",
            "Epoch 38/200\n",
            "4/4 [==============================] - 0s 1ms/sample - loss: 0.1511 - mae: 0.3805 - mse: 0.1511\n",
            "Epoch 39/200\n",
            "4/4 [==============================] - 0s 1ms/sample - loss: 0.1476 - mae: 0.3761 - mse: 0.1476\n",
            "Epoch 40/200\n",
            "4/4 [==============================] - 0s 1ms/sample - loss: 0.1443 - mae: 0.3714 - mse: 0.1443\n",
            "Epoch 41/200\n",
            "4/4 [==============================] - 0s 1ms/sample - loss: 0.1408 - mae: 0.3667 - mse: 0.1408\n",
            "Epoch 42/200\n",
            "4/4 [==============================] - 0s 1ms/sample - loss: 0.1373 - mae: 0.3619 - mse: 0.1373\n",
            "Epoch 43/200\n",
            "4/4 [==============================] - 0s 1ms/sample - loss: 0.1338 - mae: 0.3571 - mse: 0.1338\n",
            "Epoch 44/200\n",
            "4/4 [==============================] - 0s 2ms/sample - loss: 0.1304 - mae: 0.3523 - mse: 0.1304\n",
            "Epoch 45/200\n",
            "4/4 [==============================] - 0s 1ms/sample - loss: 0.1268 - mae: 0.3471 - mse: 0.1268\n",
            "Epoch 46/200\n",
            "4/4 [==============================] - 0s 1ms/sample - loss: 0.1232 - mae: 0.3419 - mse: 0.1232\n",
            "Epoch 47/200\n",
            "4/4 [==============================] - 0s 1ms/sample - loss: 0.1196 - mae: 0.3366 - mse: 0.1196\n",
            "Epoch 48/200\n",
            "4/4 [==============================] - 0s 2ms/sample - loss: 0.1160 - mae: 0.3312 - mse: 0.1160\n",
            "Epoch 49/200\n",
            "4/4 [==============================] - 0s 2ms/sample - loss: 0.1123 - mae: 0.3256 - mse: 0.1123\n",
            "Epoch 50/200\n",
            "4/4 [==============================] - 0s 2ms/sample - loss: 0.1087 - mae: 0.3200 - mse: 0.1087\n",
            "Epoch 51/200\n",
            "4/4 [==============================] - 0s 2ms/sample - loss: 0.1050 - mae: 0.3143 - mse: 0.1050\n",
            "Epoch 52/200\n",
            "4/4 [==============================] - 0s 2ms/sample - loss: 0.1013 - mae: 0.3084 - mse: 0.1013\n",
            "Epoch 53/200\n",
            "4/4 [==============================] - 0s 2ms/sample - loss: 0.0976 - mae: 0.3024 - mse: 0.0976\n",
            "Epoch 54/200\n",
            "4/4 [==============================] - 0s 1ms/sample - loss: 0.0940 - mae: 0.2963 - mse: 0.0940\n",
            "Epoch 55/200\n",
            "4/4 [==============================] - 0s 2ms/sample - loss: 0.0903 - mae: 0.2902 - mse: 0.0903\n",
            "Epoch 56/200\n",
            "4/4 [==============================] - 0s 2ms/sample - loss: 0.0867 - mae: 0.2839 - mse: 0.0867\n",
            "Epoch 57/200\n",
            "4/4 [==============================] - 0s 2ms/sample - loss: 0.0831 - mae: 0.2775 - mse: 0.0831\n",
            "Epoch 58/200\n",
            "4/4 [==============================] - 0s 1ms/sample - loss: 0.0796 - mae: 0.2710 - mse: 0.0796\n",
            "Epoch 59/200\n",
            "4/4 [==============================] - 0s 1ms/sample - loss: 0.0761 - mae: 0.2645 - mse: 0.0761\n",
            "Epoch 60/200\n",
            "4/4 [==============================] - 0s 2ms/sample - loss: 0.0726 - mae: 0.2579 - mse: 0.0726\n",
            "Epoch 61/200\n",
            "4/4 [==============================] - 0s 1ms/sample - loss: 0.0697 - mae: 0.2523 - mse: 0.0697\n",
            "Epoch 62/200\n",
            "4/4 [==============================] - 0s 2ms/sample - loss: 0.0674 - mae: 0.2460 - mse: 0.0674\n",
            "Epoch 63/200\n",
            "4/4 [==============================] - 0s 4ms/sample - loss: 0.0649 - mae: 0.2444 - mse: 0.0649\n",
            "Epoch 64/200\n",
            "4/4 [==============================] - 0s 2ms/sample - loss: 0.0613 - mae: 0.2359 - mse: 0.0613\n",
            "Epoch 65/200\n",
            "4/4 [==============================] - 0s 1ms/sample - loss: 0.0581 - mae: 0.2278 - mse: 0.0581\n",
            "Epoch 66/200\n",
            "4/4 [==============================] - 0s 1ms/sample - loss: 0.0553 - mae: 0.2221 - mse: 0.0553\n",
            "Epoch 67/200\n",
            "4/4 [==============================] - 0s 1ms/sample - loss: 0.0523 - mae: 0.2147 - mse: 0.0523\n",
            "Epoch 68/200\n",
            "4/4 [==============================] - 0s 1ms/sample - loss: 0.0496 - mae: 0.2090 - mse: 0.0496\n",
            "Epoch 69/200\n",
            "4/4 [==============================] - 0s 1ms/sample - loss: 0.0477 - mae: 0.2033 - mse: 0.0477\n",
            "Epoch 70/200\n",
            "4/4 [==============================] - 0s 2ms/sample - loss: 0.0455 - mae: 0.2024 - mse: 0.0455\n",
            "Epoch 71/200\n",
            "4/4 [==============================] - 0s 1ms/sample - loss: 0.0425 - mae: 0.1942 - mse: 0.0425\n",
            "Epoch 72/200\n",
            "4/4 [==============================] - 0s 2ms/sample - loss: 0.0398 - mae: 0.1864 - mse: 0.0398\n",
            "Epoch 73/200\n",
            "4/4 [==============================] - 0s 809us/sample - loss: 0.0372 - mae: 0.1790 - mse: 0.0372\n",
            "Epoch 74/200\n",
            "4/4 [==============================] - 0s 1ms/sample - loss: 0.0350 - mae: 0.1736 - mse: 0.0350\n",
            "Epoch 75/200\n",
            "4/4 [==============================] - 0s 2ms/sample - loss: 0.0327 - mae: 0.1666 - mse: 0.0327\n",
            "Epoch 76/200\n",
            "4/4 [==============================] - 0s 2ms/sample - loss: 0.0315 - mae: 0.1672 - mse: 0.0315\n",
            "Epoch 77/200\n",
            "4/4 [==============================] - 0s 2ms/sample - loss: 0.0291 - mae: 0.1590 - mse: 0.0291\n",
            "Epoch 78/200\n",
            "4/4 [==============================] - 0s 1ms/sample - loss: 0.0268 - mae: 0.1514 - mse: 0.0268\n",
            "Epoch 79/200\n",
            "4/4 [==============================] - 0s 3ms/sample - loss: 0.0247 - mae: 0.1441 - mse: 0.0247\n",
            "Epoch 80/200\n",
            "4/4 [==============================] - 0s 850us/sample - loss: 0.0229 - mae: 0.1375 - mse: 0.0229\n",
            "Epoch 81/200\n",
            "4/4 [==============================] - 0s 1ms/sample - loss: 0.0211 - mae: 0.1322 - mse: 0.0211\n",
            "Epoch 82/200\n",
            "4/4 [==============================] - 0s 998us/sample - loss: 0.0195 - mae: 0.1259 - mse: 0.0195\n",
            "Epoch 83/200\n",
            "4/4 [==============================] - 0s 1ms/sample - loss: 0.0185 - mae: 0.1269 - mse: 0.0185\n",
            "Epoch 84/200\n",
            "4/4 [==============================] - 0s 1ms/sample - loss: 0.0168 - mae: 0.1185 - mse: 0.0168\n",
            "Epoch 85/200\n",
            "4/4 [==============================] - 0s 2ms/sample - loss: 0.0152 - mae: 0.1112 - mse: 0.0152\n",
            "Epoch 86/200\n",
            "4/4 [==============================] - 0s 2ms/sample - loss: 0.0137 - mae: 0.1049 - mse: 0.0137\n",
            "Epoch 87/200\n",
            "4/4 [==============================] - 0s 1ms/sample - loss: 0.0123 - mae: 0.0985 - mse: 0.0123\n",
            "Epoch 88/200\n",
            "4/4 [==============================] - 0s 2ms/sample - loss: 0.0112 - mae: 0.0942 - mse: 0.0112\n",
            "Epoch 89/200\n",
            "4/4 [==============================] - 0s 2ms/sample - loss: 0.0100 - mae: 0.0879 - mse: 0.0100\n",
            "Epoch 90/200\n",
            "4/4 [==============================] - 0s 3ms/sample - loss: 0.0090 - mae: 0.0828 - mse: 0.0090\n",
            "Epoch 91/200\n",
            "4/4 [==============================] - 0s 1ms/sample - loss: 0.0083 - mae: 0.0838 - mse: 0.0083\n",
            "Epoch 92/200\n",
            "4/4 [==============================] - 0s 2ms/sample - loss: 0.0073 - mae: 0.0763 - mse: 0.0073\n",
            "Epoch 93/200\n",
            "4/4 [==============================] - 0s 2ms/sample - loss: 0.0063 - mae: 0.0699 - mse: 0.0063\n",
            "Epoch 94/200\n",
            "4/4 [==============================] - 0s 1ms/sample - loss: 0.0056 - mae: 0.0646 - mse: 0.0056\n",
            "Epoch 95/200\n",
            "4/4 [==============================] - 0s 1ms/sample - loss: 0.0049 - mae: 0.0594 - mse: 0.0049\n",
            "Epoch 96/200\n",
            "4/4 [==============================] - 0s 1ms/sample - loss: 0.0043 - mae: 0.0551 - mse: 0.0043\n",
            "Epoch 97/200\n",
            "4/4 [==============================] - 0s 1ms/sample - loss: 0.0038 - mae: 0.0517 - mse: 0.0038\n",
            "Epoch 98/200\n",
            "4/4 [==============================] - 0s 2ms/sample - loss: 0.0034 - mae: 0.0471 - mse: 0.0034\n",
            "Epoch 99/200\n",
            "4/4 [==============================] - 0s 2ms/sample - loss: 0.0029 - mae: 0.0441 - mse: 0.0029\n",
            "Epoch 100/200\n",
            "4/4 [==============================] - 0s 1ms/sample - loss: 0.0024 - mae: 0.0408 - mse: 0.0024\n",
            "Epoch 101/200\n",
            "4/4 [==============================] - 0s 1ms/sample - loss: 0.0019 - mae: 0.0355 - mse: 0.0019\n",
            "Epoch 102/200\n",
            "4/4 [==============================] - 0s 1ms/sample - loss: 0.0016 - mae: 0.0329 - mse: 0.0016\n",
            "Epoch 103/200\n",
            "4/4 [==============================] - 0s 1ms/sample - loss: 0.0013 - mae: 0.0293 - mse: 0.0013\n",
            "Epoch 104/200\n",
            "4/4 [==============================] - 0s 1ms/sample - loss: 0.0013 - mae: 0.0324 - mse: 0.0013\n",
            "Epoch 105/200\n",
            "4/4 [==============================] - 0s 1ms/sample - loss: 9.6729e-04 - mae: 0.0247 - mse: 9.6729e-04\n",
            "Epoch 106/200\n",
            "4/4 [==============================] - 0s 1ms/sample - loss: 7.8900e-04 - mae: 0.0227 - mse: 7.8900e-04\n",
            "Epoch 107/200\n",
            "4/4 [==============================] - 0s 1ms/sample - loss: 6.4884e-04 - mae: 0.0209 - mse: 6.4884e-04\n",
            "Epoch 108/200\n",
            "4/4 [==============================] - 0s 980us/sample - loss: 5.3892e-04 - mae: 0.0178 - mse: 5.3892e-04\n",
            "Epoch 109/200\n",
            "4/4 [==============================] - 0s 1ms/sample - loss: 4.5953e-04 - mae: 0.0174 - mse: 4.5953e-04\n",
            "Epoch 110/200\n",
            "4/4 [==============================] - 0s 874us/sample - loss: 4.5090e-04 - mae: 0.0139 - mse: 4.5090e-04\n",
            "Epoch 111/200\n",
            "4/4 [==============================] - 0s 1ms/sample - loss: 3.7699e-04 - mae: 0.0150 - mse: 3.7699e-04\n",
            "Epoch 112/200\n",
            "4/4 [==============================] - 0s 1ms/sample - loss: 3.1035e-04 - mae: 0.0116 - mse: 3.1035e-04\n",
            "Epoch 113/200\n",
            "4/4 [==============================] - 0s 2ms/sample - loss: 2.4806e-04 - mae: 0.0125 - mse: 2.4806e-04\n",
            "Epoch 114/200\n",
            "4/4 [==============================] - 0s 908us/sample - loss: 2.0746e-04 - mae: 0.0101 - mse: 2.0746e-04\n",
            "Epoch 115/200\n",
            "4/4 [==============================] - 0s 1ms/sample - loss: 1.5123e-04 - mae: 0.0105 - mse: 1.5123e-04\n",
            "Epoch 116/200\n",
            "4/4 [==============================] - 0s 1ms/sample - loss: 1.3969e-04 - mae: 0.0087 - mse: 1.3969e-04\n",
            "Epoch 117/200\n",
            "4/4 [==============================] - 0s 1ms/sample - loss: 9.9563e-05 - mae: 0.0091 - mse: 9.9563e-05\n",
            "Epoch 118/200\n",
            "4/4 [==============================] - 0s 1ms/sample - loss: 1.0667e-04 - mae: 0.0081 - mse: 1.0667e-04\n",
            "Epoch 119/200\n",
            "4/4 [==============================] - 0s 1ms/sample - loss: 7.9019e-05 - mae: 0.0084 - mse: 7.9019e-05\n",
            "Epoch 120/200\n",
            "4/4 [==============================] - 0s 1ms/sample - loss: 9.7479e-05 - mae: 0.0080 - mse: 9.7479e-05\n",
            "Epoch 121/200\n",
            "4/4 [==============================] - 0s 929us/sample - loss: 8.1996e-05 - mae: 0.0085 - mse: 8.1996e-05\n",
            "Epoch 122/200\n",
            "4/4 [==============================] - 0s 768us/sample - loss: 1.2588e-04 - mae: 0.0092 - mse: 1.2588e-04\n",
            "Epoch 123/200\n",
            "4/4 [==============================] - 0s 1ms/sample - loss: 1.2085e-04 - mae: 0.0100 - mse: 1.2085e-04\n",
            "Epoch 124/200\n",
            "4/4 [==============================] - 0s 990us/sample - loss: 1.5728e-04 - mae: 0.0105 - mse: 1.5728e-04\n",
            "Epoch 125/200\n",
            "4/4 [==============================] - 0s 730us/sample - loss: 1.5620e-04 - mae: 0.0113 - mse: 1.5620e-04\n",
            "Epoch 126/200\n",
            "4/4 [==============================] - 0s 1ms/sample - loss: 1.8808e-04 - mae: 0.0112 - mse: 1.8808e-04\n",
            "Epoch 127/200\n",
            "4/4 [==============================] - 0s 775us/sample - loss: 1.7697e-04 - mae: 0.0119 - mse: 1.7697e-04\n",
            "Epoch 128/200\n",
            "4/4 [==============================] - 0s 857us/sample - loss: 1.7091e-04 - mae: 0.0112 - mse: 1.7091e-04\n",
            "Epoch 129/200\n",
            "4/4 [==============================] - 0s 871us/sample - loss: 1.6294e-04 - mae: 0.0115 - mse: 1.6294e-04\n",
            "Epoch 130/200\n",
            "4/4 [==============================] - 0s 1ms/sample - loss: 2.0670e-04 - mae: 0.0123 - mse: 2.0670e-04\n",
            "Epoch 131/200\n",
            "4/4 [==============================] - 0s 1ms/sample - loss: 1.8732e-04 - mae: 0.0123 - mse: 1.8732e-04\n",
            "Epoch 132/200\n",
            "4/4 [==============================] - 0s 1ms/sample - loss: 1.7801e-04 - mae: 0.0115 - mse: 1.7801e-04\n",
            "Epoch 133/200\n",
            "4/4 [==============================] - 0s 990us/sample - loss: 1.6621e-04 - mae: 0.0114 - mse: 1.6621e-04\n",
            "Epoch 134/200\n",
            "4/4 [==============================] - 0s 1ms/sample - loss: 1.6411e-04 - mae: 0.0111 - mse: 1.6411e-04\n",
            "Epoch 135/200\n",
            "4/4 [==============================] - 0s 1ms/sample - loss: 1.6174e-04 - mae: 0.0112 - mse: 1.6174e-04\n",
            "Epoch 136/200\n",
            "4/4 [==============================] - 0s 1000us/sample - loss: 1.6911e-04 - mae: 0.0113 - mse: 1.6911e-04\n",
            "Epoch 137/200\n",
            "4/4 [==============================] - 0s 1ms/sample - loss: 1.7536e-04 - mae: 0.0116 - mse: 1.7536e-04\n",
            "Epoch 138/200\n",
            "4/4 [==============================] - 0s 1ms/sample - loss: 1.8987e-04 - mae: 0.0119 - mse: 1.8987e-04\n",
            "Epoch 139/200\n",
            "4/4 [==============================] - 0s 2ms/sample - loss: 1.9904e-04 - mae: 0.0123 - mse: 1.9904e-04\n",
            "Epoch 140/200\n",
            "4/4 [==============================] - 0s 1ms/sample - loss: 2.1325e-04 - mae: 0.0126 - mse: 2.1325e-04\n",
            "Epoch 141/200\n",
            "4/4 [==============================] - 0s 1ms/sample - loss: 2.1600e-04 - mae: 0.0128 - mse: 2.1600e-04\n",
            "Epoch 142/200\n",
            "4/4 [==============================] - 0s 1ms/sample - loss: 2.2149e-04 - mae: 0.0129 - mse: 2.2149e-04\n",
            "Epoch 143/200\n",
            "4/4 [==============================] - 0s 1ms/sample - loss: 2.1373e-04 - mae: 0.0127 - mse: 2.1373e-04\n",
            "Epoch 144/200\n",
            "4/4 [==============================] - 0s 1ms/sample - loss: 2.1091e-04 - mae: 0.0125 - mse: 2.1091e-04\n",
            "Epoch 145/200\n",
            "4/4 [==============================] - 0s 1ms/sample - loss: 1.9879e-04 - mae: 0.0123 - mse: 1.9879e-04\n",
            "Epoch 146/200\n",
            "4/4 [==============================] - 0s 1ms/sample - loss: 1.9506e-04 - mae: 0.0120 - mse: 1.9506e-04\n",
            "Epoch 147/200\n",
            "4/4 [==============================] - 0s 1ms/sample - loss: 1.8609e-04 - mae: 0.0119 - mse: 1.8609e-04\n",
            "Epoch 148/200\n",
            "4/4 [==============================] - 0s 1ms/sample - loss: 1.8682e-04 - mae: 0.0118 - mse: 1.8682e-04\n",
            "Epoch 149/200\n",
            "4/4 [==============================] - 0s 1ms/sample - loss: 1.8371e-04 - mae: 0.0118 - mse: 1.8371e-04\n",
            "Epoch 150/200\n",
            "4/4 [==============================] - 0s 1ms/sample - loss: 1.8992e-04 - mae: 0.0119 - mse: 1.8992e-04\n",
            "Epoch 151/200\n",
            "4/4 [==============================] - 0s 1ms/sample - loss: 1.9125e-04 - mae: 0.0120 - mse: 1.9125e-04\n",
            "Epoch 152/200\n",
            "4/4 [==============================] - 0s 1ms/sample - loss: 2.0056e-04 - mae: 0.0122 - mse: 2.0056e-04\n",
            "Epoch 153/200\n",
            "4/4 [==============================] - 0s 1ms/sample - loss: 2.0229e-04 - mae: 0.0123 - mse: 2.0229e-04\n",
            "Epoch 154/200\n",
            "4/4 [==============================] - 0s 1ms/sample - loss: 2.1034e-04 - mae: 0.0125 - mse: 2.1034e-04\n",
            "Epoch 155/200\n",
            "4/4 [==============================] - 0s 1ms/sample - loss: 2.0824e-04 - mae: 0.0125 - mse: 2.0824e-04\n",
            "Epoch 156/200\n",
            "4/4 [==============================] - 0s 1ms/sample - loss: 2.1194e-04 - mae: 0.0125 - mse: 2.1194e-04\n",
            "Epoch 157/200\n",
            "4/4 [==============================] - 0s 1ms/sample - loss: 2.0535e-04 - mae: 0.0124 - mse: 2.0535e-04\n",
            "Epoch 158/200\n",
            "4/4 [==============================] - 0s 1ms/sample - loss: 2.0567e-04 - mae: 0.0123 - mse: 2.0567e-04\n",
            "Epoch 159/200\n",
            "4/4 [==============================] - 0s 1ms/sample - loss: 1.9768e-04 - mae: 0.0122 - mse: 1.9768e-04\n",
            "Epoch 160/200\n",
            "4/4 [==============================] - 0s 1ms/sample - loss: 1.9801e-04 - mae: 0.0121 - mse: 1.9801e-04\n",
            "Epoch 161/200\n",
            "4/4 [==============================] - 0s 983us/sample - loss: 1.9191e-04 - mae: 0.0120 - mse: 1.9191e-04\n",
            "Epoch 162/200\n",
            "4/4 [==============================] - 0s 996us/sample - loss: 1.9467e-04 - mae: 0.0120 - mse: 1.9467e-04\n",
            "Epoch 163/200\n",
            "4/4 [==============================] - 0s 950us/sample - loss: 1.9158e-04 - mae: 0.0120 - mse: 1.9158e-04\n",
            "Epoch 164/200\n",
            "4/4 [==============================] - 0s 988us/sample - loss: 1.9703e-04 - mae: 0.0120 - mse: 1.9703e-04\n",
            "Epoch 165/200\n",
            "4/4 [==============================] - 0s 1ms/sample - loss: 1.9588e-04 - mae: 0.0121 - mse: 1.9588e-04\n",
            "Epoch 166/200\n",
            "4/4 [==============================] - 0s 1ms/sample - loss: 2.0246e-04 - mae: 0.0122 - mse: 2.0246e-04\n",
            "Epoch 167/200\n",
            "4/4 [==============================] - 0s 1ms/sample - loss: 2.0102e-04 - mae: 0.0123 - mse: 2.0102e-04\n",
            "Epoch 168/200\n",
            "4/4 [==============================] - 0s 1ms/sample - loss: 2.0656e-04 - mae: 0.0123 - mse: 2.0656e-04\n",
            "Epoch 169/200\n",
            "4/4 [==============================] - 0s 1ms/sample - loss: 2.0307e-04 - mae: 0.0123 - mse: 2.0307e-04\n",
            "Epoch 170/200\n",
            "4/4 [==============================] - 0s 1ms/sample - loss: 2.0650e-04 - mae: 0.0123 - mse: 2.0650e-04\n",
            "Epoch 171/200\n",
            "4/4 [==============================] - 0s 1ms/sample - loss: 2.0106e-04 - mae: 0.0123 - mse: 2.0106e-04\n",
            "Epoch 172/200\n",
            "4/4 [==============================] - 0s 1ms/sample - loss: 2.0311e-04 - mae: 0.0122 - mse: 2.0311e-04\n",
            "Epoch 173/200\n",
            "4/4 [==============================] - 0s 1ms/sample - loss: 1.9729e-04 - mae: 0.0122 - mse: 1.9729e-04\n",
            "Epoch 174/200\n",
            "4/4 [==============================] - 0s 1ms/sample - loss: 1.9957e-04 - mae: 0.0121 - mse: 1.9957e-04\n",
            "Epoch 175/200\n",
            "4/4 [==============================] - 0s 1ms/sample - loss: 1.9483e-04 - mae: 0.0121 - mse: 1.9483e-04\n",
            "Epoch 176/200\n",
            "4/4 [==============================] - 0s 1ms/sample - loss: 1.9841e-04 - mae: 0.0121 - mse: 1.9841e-04\n",
            "Epoch 177/200\n",
            "4/4 [==============================] - 0s 1ms/sample - loss: 1.9515e-04 - mae: 0.0121 - mse: 1.9515e-04\n",
            "Epoch 178/200\n",
            "4/4 [==============================] - 0s 1ms/sample - loss: 1.9997e-04 - mae: 0.0121 - mse: 1.9997e-04\n",
            "Epoch 179/200\n",
            "4/4 [==============================] - 0s 1ms/sample - loss: 1.9749e-04 - mae: 0.0122 - mse: 1.9749e-04\n",
            "Epoch 180/200\n",
            "4/4 [==============================] - 0s 1ms/sample - loss: 2.0266e-04 - mae: 0.0122 - mse: 2.0266e-04\n",
            "Epoch 181/200\n",
            "4/4 [==============================] - 0s 1ms/sample - loss: 1.9982e-04 - mae: 0.0122 - mse: 1.9982e-04\n",
            "Epoch 182/200\n",
            "4/4 [==============================] - 0s 1ms/sample - loss: 2.0432e-04 - mae: 0.0123 - mse: 2.0432e-04\n",
            "Epoch 183/200\n",
            "4/4 [==============================] - 0s 1ms/sample - loss: 2.0043e-04 - mae: 0.0123 - mse: 2.0043e-04\n",
            "Epoch 184/200\n",
            "4/4 [==============================] - 0s 1ms/sample - loss: 2.0393e-04 - mae: 0.0122 - mse: 2.0393e-04\n",
            "Epoch 185/200\n",
            "4/4 [==============================] - 0s 1ms/sample - loss: 1.9920e-04 - mae: 0.0122 - mse: 1.9920e-04\n",
            "Epoch 186/200\n",
            "4/4 [==============================] - 0s 1ms/sample - loss: 2.0216e-04 - mae: 0.0122 - mse: 2.0216e-04\n",
            "Epoch 187/200\n",
            "4/4 [==============================] - 0s 1ms/sample - loss: 1.9739e-04 - mae: 0.0122 - mse: 1.9739e-04\n",
            "Epoch 188/200\n",
            "4/4 [==============================] - 0s 1ms/sample - loss: 2.0057e-04 - mae: 0.0121 - mse: 2.0057e-04\n",
            "Epoch 189/200\n",
            "4/4 [==============================] - 0s 1ms/sample - loss: 1.9641e-04 - mae: 0.0121 - mse: 1.9641e-04\n",
            "Epoch 190/200\n",
            "4/4 [==============================] - 0s 1ms/sample - loss: 2.0027e-04 - mae: 0.0121 - mse: 2.0027e-04\n",
            "Epoch 191/200\n",
            "4/4 [==============================] - 0s 1ms/sample - loss: 1.9679e-04 - mae: 0.0121 - mse: 1.9679e-04\n",
            "Epoch 192/200\n",
            "4/4 [==============================] - 0s 1ms/sample - loss: 2.0120e-04 - mae: 0.0122 - mse: 2.0120e-04\n",
            "Epoch 193/200\n",
            "4/4 [==============================] - 0s 1ms/sample - loss: 1.9801e-04 - mae: 0.0122 - mse: 1.9801e-04\n",
            "Epoch 194/200\n",
            "4/4 [==============================] - 0s 1ms/sample - loss: 2.0248e-04 - mae: 0.0122 - mse: 2.0248e-04\n",
            "Epoch 195/200\n",
            "4/4 [==============================] - 0s 1ms/sample - loss: 1.9902e-04 - mae: 0.0122 - mse: 1.9902e-04\n",
            "Epoch 196/200\n",
            "4/4 [==============================] - 0s 1ms/sample - loss: 2.0312e-04 - mae: 0.0122 - mse: 2.0312e-04\n",
            "Epoch 197/200\n",
            "4/4 [==============================] - 0s 1ms/sample - loss: 1.9914e-04 - mae: 0.0122 - mse: 1.9914e-04\n",
            "Epoch 198/200\n",
            "4/4 [==============================] - 0s 1ms/sample - loss: 2.0276e-04 - mae: 0.0122 - mse: 2.0276e-04\n",
            "Epoch 199/200\n",
            "4/4 [==============================] - 0s 980us/sample - loss: 1.9845e-04 - mae: 0.0122 - mse: 1.9845e-04\n",
            "Epoch 200/200\n",
            "4/4 [==============================] - 0s 1ms/sample - loss: 2.0187e-04 - mae: 0.0122 - mse: 2.0187e-04\n"
          ],
          "name": "stdout"
        }
      ]
    },
    {
      "cell_type": "code",
      "metadata": {
        "id": "oTXRl_e4vFl8",
        "colab_type": "code",
        "colab": {
          "base_uri": "https://localhost:8080/",
          "height": 282
        },
        "outputId": "587adf96-41c9-4a8c-e5a8-7eb6ff13ac7d"
      },
      "source": [
        "plt.plot(history.history['loss'])"
      ],
      "execution_count": 187,
      "outputs": [
        {
          "output_type": "execute_result",
          "data": {
            "text/plain": [
              "[<matplotlib.lines.Line2D at 0x7f1146e9c0b8>]"
            ]
          },
          "metadata": {
            "tags": []
          },
          "execution_count": 187
        },
        {
          "output_type": "display_data",
          "data": {
            "image/png": "[encoded data removed]",
            "text/plain": [
              "<Figure size 432x288 with 1 Axes>"
            ]
          },
          "metadata": {
            "tags": []
          }
        }
      ]
    },
    {
      "cell_type": "code",
      "metadata": {
        "id": "S5BBfRxTwDPO",
        "colab_type": "code",
        "colab": {
          "base_uri": "https://localhost:8080/",
          "height": 85
        },
        "outputId": "14ac2392-a783-4cad-d570-43d39e4328ce"
      },
      "source": [
        "model.predict(X)"
      ],
      "execution_count": 188,
      "outputs": [
        {
          "output_type": "execute_result",
          "data": {
            "text/plain": [
              "array([[0.00512964],\n",
              "       [1.0193268 ],\n",
              "       [1.0190849 ],\n",
              "       [0.00512964]], dtype=float32)"
            ]
          },
          "metadata": {
            "tags": []
          },
          "execution_count": 188
        }
      ]
    }
  ]
}