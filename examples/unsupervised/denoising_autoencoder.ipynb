{
  "nbformat": 4,
  "nbformat_minor": 0,
  "metadata": {
    "colab": {
      "name": "denoising_autoencoder.ipynb",
      "provenance": [],
      "authorship_tag": "ABX9TyOImk70PHiWadRpt8in//il",
      "include_colab_link": true
    },
    "kernelspec": {
      "name": "python3",
      "display_name": "Python 3"
    }
  },
  "cells": [
    {
      "cell_type": "markdown",
      "metadata": {
        "id": "view-in-github",
        "colab_type": "text"
      },
      "source": [
        "<a href=\"https://colab.research.google.com/github/adammoss/MLiS2/blob/master/examples/unsupervised/denoising_autoencoder.ipynb\" target=\"_parent\"><img src=\"https://colab.research.google.com/assets/colab-badge.svg\" alt=\"Open In Colab\"/></a>"
      ]
    },
    {
      "cell_type": "code",
      "metadata": {
        "id": "mmKRYcmhYRZF",
        "colab_type": "code",
        "colab": {
          "base_uri": "https://localhost:8080/",
          "height": 34
        },
        "outputId": "a5bbc7e8-488c-4b0d-bf0a-f53e7b309e68"
      },
      "source": [
        "try:\n",
        "  # %tensorflow_version only exists in Colab.\n",
        "  %tensorflow_version 2.x\n",
        "except Exception:\n",
        "  pass"
      ],
      "execution_count": 1,
      "outputs": [
        {
          "output_type": "stream",
          "text": [
            "TensorFlow 2.x selected.\n"
          ],
          "name": "stdout"
        }
      ]
    },
    {
      "cell_type": "code",
      "metadata": {
        "id": "6VplN5pNYS2i",
        "colab_type": "code",
        "colab": {}
      },
      "source": [
        "import tensorflow as tf\n",
        "from tensorflow import keras\n",
        "from tensorflow.keras import layers, models\n",
        "import numpy as np\n",
        "import matplotlib.pyplot as plt"
      ],
      "execution_count": 0,
      "outputs": []
    },
    {
      "cell_type": "code",
      "metadata": {
        "id": "doR6HO8OYUje",
        "colab_type": "code",
        "colab": {}
      },
      "source": [
        "tf.random.set_seed(1)"
      ],
      "execution_count": 0,
      "outputs": []
    },
    {
      "cell_type": "code",
      "metadata": {
        "id": "t6VEftDDYWGY",
        "colab_type": "code",
        "colab": {
          "base_uri": "https://localhost:8080/",
          "height": 34
        },
        "outputId": "1e1c7c54-7d8a-436d-c81e-413b64200645"
      },
      "source": [
        "print(tf.__version__)"
      ],
      "execution_count": 4,
      "outputs": [
        {
          "output_type": "stream",
          "text": [
            "2.1.0\n"
          ],
          "name": "stdout"
        }
      ]
    },
    {
      "cell_type": "code",
      "metadata": {
        "id": "NfbmFuPsYXuq",
        "colab_type": "code",
        "colab": {}
      },
      "source": [
        "class Encoder(layers.Layer):\n",
        "  def __init__(self, hidden_dim):  \n",
        "    super(Encoder, self).__init__()\n",
        "    self.hidden_layer = layers.Dense(units=hidden_dim, activation=tf.nn.relu)\n",
        "  def call(self, x):\n",
        "    x = self.hidden_layer(x)\n",
        "    return x"
      ],
      "execution_count": 0,
      "outputs": []
    },
    {
      "cell_type": "code",
      "metadata": {
        "id": "K0F6cA9_YZau",
        "colab_type": "code",
        "colab": {}
      },
      "source": [
        "class Decoder(layers.Layer):\n",
        "  def __init__(self, data_dim):\n",
        "    super(Decoder, self).__init__()\n",
        "    self.output_layer = layers.Dense(units=data_dim, activation=tf.nn.relu)\n",
        "  def call(self, x):\n",
        "    x = self.output_layer(x)\n",
        "    return x"
      ],
      "execution_count": 0,
      "outputs": []
    },
    {
      "cell_type": "code",
      "metadata": {
        "id": "6_ZxMl37YbLd",
        "colab_type": "code",
        "colab": {}
      },
      "source": [
        "class Autoencoder(tf.keras.Model):\n",
        "  def __init__(self, data_dim, hidden_dim):\n",
        "    super(Autoencoder, self).__init__()\n",
        "    self.encoder = Encoder(hidden_dim)\n",
        "    self.decoder = Decoder(data_dim)\n",
        "  def call(self, x):\n",
        "    x = self.encoder(x)\n",
        "    x = self.decoder(x)\n",
        "    return x"
      ],
      "execution_count": 0,
      "outputs": []
    },
    {
      "cell_type": "code",
      "metadata": {
        "id": "5JHWtn4oYdLq",
        "colab_type": "code",
        "colab": {
          "base_uri": "https://localhost:8080/",
          "height": 51
        },
        "outputId": "b451a49f-878a-4bce-c4b5-789f5584b142"
      },
      "source": [
        "(X_train, Y_train), (X_test, Y_test) =  tf.keras.datasets.mnist.load_data()\n",
        "X_train = X_train/ 255\n",
        "X_test = X_test/ 255\n",
        "X_train = np.reshape(X_train, (X_train.shape[0], X_train.shape[1] * X_train.shape[2])).astype(np.float32)\n",
        "X_test = np.reshape(X_test, (X_test.shape[0], X_test.shape[1] * X_test.shape[2])).astype(np.float32)"
      ],
      "execution_count": 8,
      "outputs": [
        {
          "output_type": "stream",
          "text": [
            "Downloading data from https://storage.googleapis.com/tensorflow/tf-keras-datasets/mnist.npz\n",
            "11493376/11490434 [==============================] - 0s 0us/step\n"
          ],
          "name": "stdout"
        }
      ]
    },
    {
      "cell_type": "code",
      "metadata": {
        "id": "93U5dBe9Ye9k",
        "colab_type": "code",
        "colab": {}
      },
      "source": [
        "noise_factor = 0.5\n",
        "X_train_noisy = X_train + noise_factor * np.random.normal(loc=0.0, scale=1.0, size=X_train.shape) \n",
        "X_test_noisy = X_test + noise_factor * np.random.normal(loc=0.0, scale=1.0, size=X_test.shape)\n",
        "X_train_noisy = np.clip(X_train_noisy, 0., 1.)\n",
        "X_test_noisy = np.clip(X_test_noisy, 0., 1.) "
      ],
      "execution_count": 0,
      "outputs": []
    },
    {
      "cell_type": "code",
      "metadata": {
        "id": "_6_ZKdOqYrXX",
        "colab_type": "code",
        "colab": {}
      },
      "source": [
        "autoencoder = Autoencoder(X_train.shape[1], 100)"
      ],
      "execution_count": 0,
      "outputs": []
    },
    {
      "cell_type": "code",
      "metadata": {
        "id": "nL8ltK2je9na",
        "colab_type": "code",
        "colab": {}
      },
      "source": [
        "autoencoder.compile(optimizer='adam', loss='mse')"
      ],
      "execution_count": 0,
      "outputs": []
    },
    {
      "cell_type": "code",
      "metadata": {
        "id": "uM87OctPfAJ1",
        "colab_type": "code",
        "colab": {
          "base_uri": "https://localhost:8080/",
          "height": 221
        },
        "outputId": "22a6d013-ad5f-4ebc-ac44-88d85eff1389"
      },
      "source": [
        "autoencoder.build(X_train.shape)\n",
        "autoencoder.summary()"
      ],
      "execution_count": 17,
      "outputs": [
        {
          "output_type": "stream",
          "text": [
            "Model: \"autoencoder_1\"\n",
            "_________________________________________________________________\n",
            "Layer (type)                 Output Shape              Param #   \n",
            "=================================================================\n",
            "encoder_1 (Encoder)          multiple                  78500     \n",
            "_________________________________________________________________\n",
            "decoder_1 (Decoder)          multiple                  79184     \n",
            "=================================================================\n",
            "Total params: 157,684\n",
            "Trainable params: 157,684\n",
            "Non-trainable params: 0\n",
            "_________________________________________________________________\n"
          ],
          "name": "stdout"
        }
      ]
    },
    {
      "cell_type": "code",
      "metadata": {
        "id": "x3jpcM-nfCNU",
        "colab_type": "code",
        "colab": {
          "base_uri": "https://localhost:8080/",
          "height": 714
        },
        "outputId": "a7168242-3110-4a98-df5b-da7ec7cef3aa"
      },
      "source": [
        "history = autoencoder.fit(X_train_noisy, X_train, epochs=20, batch_size=256)"
      ],
      "execution_count": 18,
      "outputs": [
        {
          "output_type": "stream",
          "text": [
            "Train on 60000 samples\n",
            "Epoch 1/20\n",
            "60000/60000 [==============================] - 3s 45us/sample - loss: 0.0441\n",
            "Epoch 2/20\n",
            "60000/60000 [==============================] - 3s 42us/sample - loss: 0.0243\n",
            "Epoch 3/20\n",
            "60000/60000 [==============================] - 3s 42us/sample - loss: 0.0215\n",
            "Epoch 4/20\n",
            "60000/60000 [==============================] - 3s 42us/sample - loss: 0.0205\n",
            "Epoch 5/20\n",
            "60000/60000 [==============================] - 3s 42us/sample - loss: 0.0200\n",
            "Epoch 6/20\n",
            "60000/60000 [==============================] - 3s 42us/sample - loss: 0.0197\n",
            "Epoch 7/20\n",
            "60000/60000 [==============================] - 3s 42us/sample - loss: 0.0196\n",
            "Epoch 8/20\n",
            "60000/60000 [==============================] - 2s 41us/sample - loss: 0.0194\n",
            "Epoch 9/20\n",
            "60000/60000 [==============================] - 3s 42us/sample - loss: 0.0193\n",
            "Epoch 10/20\n",
            "60000/60000 [==============================] - 3s 43us/sample - loss: 0.0192\n",
            "Epoch 11/20\n",
            "60000/60000 [==============================] - 3s 42us/sample - loss: 0.0192\n",
            "Epoch 12/20\n",
            "60000/60000 [==============================] - 3s 42us/sample - loss: 0.0191\n",
            "Epoch 13/20\n",
            "60000/60000 [==============================] - 3s 42us/sample - loss: 0.0190\n",
            "Epoch 14/20\n",
            "60000/60000 [==============================] - 3s 42us/sample - loss: 0.0189\n",
            "Epoch 15/20\n",
            "60000/60000 [==============================] - 3s 42us/sample - loss: 0.0188\n",
            "Epoch 16/20\n",
            "60000/60000 [==============================] - 3s 43us/sample - loss: 0.0187\n",
            "Epoch 17/20\n",
            "60000/60000 [==============================] - 2s 42us/sample - loss: 0.0187\n",
            "Epoch 18/20\n",
            "60000/60000 [==============================] - 3s 43us/sample - loss: 0.0186\n",
            "Epoch 19/20\n",
            "60000/60000 [==============================] - 3s 43us/sample - loss: 0.0184\n",
            "Epoch 20/20\n",
            "60000/60000 [==============================] - 3s 43us/sample - loss: 0.0183\n"
          ],
          "name": "stdout"
        }
      ]
    },
    {
      "cell_type": "code",
      "metadata": {
        "id": "bhRbR7ekfGUu",
        "colab_type": "code",
        "colab": {}
      },
      "source": [
        "X_decoded = autoencoder.predict(X_test_noisy)"
      ],
      "execution_count": 0,
      "outputs": []
    },
    {
      "cell_type": "code",
      "metadata": {
        "id": "Gbmy76n_fiuk",
        "colab_type": "code",
        "colab": {
          "base_uri": "https://localhost:8080/",
          "height": 248
        },
        "outputId": "dcec1aa5-e780-46bb-a790-84f0e48102da"
      },
      "source": [
        "n = 10 \n",
        "plt.figure(figsize=(20, 4))\n",
        "for i in range(n):\n",
        "    ax = plt.subplot(2, n, i + 1)\n",
        "    plt.imshow(X_test_noisy[i].reshape(28, 28), cmap='viridis')\n",
        "    ax.get_xaxis().set_visible(False)\n",
        "    ax.get_yaxis().set_visible(False)\n",
        "    ax = plt.subplot(2, n, i + 1 + n)\n",
        "    plt.imshow(X_decoded[i].reshape(28, 28), cmap='viridis')\n",
        "    ax.get_xaxis().set_visible(False)\n",
        "    ax.get_yaxis().set_visible(False)\n",
        "plt.show()"
      ],
      "execution_count": 21,
      "outputs": [
        {
          "output_type": "display_data",
          "data": {
            "image/png": "[encoded data removed]",
            "text/plain": [
              "<Figure size 1440x288 with 20 Axes>"
            ]
          },
          "metadata": {
            "tags": []
          }
        }
      ]
    },
    {
      "cell_type": "code",
      "metadata": {
        "id": "CWNIo6d-fq2W",
        "colab_type": "code",
        "colab": {}
      },
      "source": [
        ""
      ],
      "execution_count": 0,
      "outputs": []
    }
  ]
}