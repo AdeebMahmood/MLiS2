{
  "nbformat": 4,
  "nbformat_minor": 0,
  "metadata": {
    "colab": {
      "name": "vanilla_autoencoder.ipynb",
      "provenance": [],
      "authorship_tag": "ABX9TyPPjLmDx5tugJeIR8RLF6nb",
      "include_colab_link": true
    },
    "kernelspec": {
      "name": "python3",
      "display_name": "Python 3"
    }
  },
  "cells": [
    {
      "cell_type": "markdown",
      "metadata": {
        "id": "view-in-github",
        "colab_type": "text"
      },
      "source": [
        "<a href=\"https://colab.research.google.com/github/adammoss/MLiS2/blob/master/examples/unsupervised/vanilla_autoencoder.ipynb\" target=\"_parent\"><img src=\"https://colab.research.google.com/assets/colab-badge.svg\" alt=\"Open In Colab\"/></a>"
      ]
    },
    {
      "cell_type": "code",
      "metadata": {
        "id": "8t3rwK8p0gZL",
        "colab_type": "code",
        "colab": {
          "base_uri": "https://localhost:8080/",
          "height": 34
        },
        "outputId": "38ec3eb9-7d10-48b6-d091-e80538e5eaf2"
      },
      "source": [
        "try:\n",
        "  # %tensorflow_version only exists in Colab.\n",
        "  %tensorflow_version 2.x\n",
        "except Exception:\n",
        "  pass"
      ],
      "execution_count": 1,
      "outputs": [
        {
          "output_type": "stream",
          "text": [
            "TensorFlow 2.x selected.\n"
          ],
          "name": "stdout"
        }
      ]
    },
    {
      "cell_type": "code",
      "metadata": {
        "id": "1pkA2Zhu0hK0",
        "colab_type": "code",
        "colab": {}
      },
      "source": [
        "import tensorflow as tf\n",
        "from tensorflow import keras\n",
        "from tensorflow.keras import layers, models\n",
        "import numpy as np\n",
        "import matplotlib.pyplot as plt"
      ],
      "execution_count": 0,
      "outputs": []
    },
    {
      "cell_type": "code",
      "metadata": {
        "id": "D6pHoe7z0q-N",
        "colab_type": "code",
        "colab": {}
      },
      "source": [
        "class Encoder(layers.Layer):\n",
        "  def __init__(self, hidden_dim):  \n",
        "    super(Encoder, self).__init__()\n",
        "    self.hidden_layer = layers.Dense(units=hidden_dim, activation=tf.nn.relu)\n",
        "  def call(self, x):\n",
        "    x = self.hidden_layer(x)\n",
        "    return x"
      ],
      "execution_count": 0,
      "outputs": []
    },
    {
      "cell_type": "code",
      "metadata": {
        "id": "pg7I_D-a079r",
        "colab_type": "code",
        "colab": {}
      },
      "source": [
        "class Decoder(layers.Layer):\n",
        "  def __init__(self, data_dim):\n",
        "    super(Decoder, self).__init__()\n",
        "    self.output_layer = layers.Dense(units=data_dim, activation=tf.nn.relu)\n",
        "  def call(self, x):\n",
        "    x = self.output_layer(x)\n",
        "    return x"
      ],
      "execution_count": 0,
      "outputs": []
    },
    {
      "cell_type": "code",
      "metadata": {
        "id": "34Pr-7bo1HPE",
        "colab_type": "code",
        "colab": {}
      },
      "source": [
        "class Autoencoder(tf.keras.Model):\n",
        "  def __init__(self, data_dim, hidden_dim):\n",
        "    super(Autoencoder, self).__init__()\n",
        "    self.encoder = Encoder(hidden_dim)\n",
        "    self.decoder = Decoder(data_dim)\n",
        "  def call(self, x):\n",
        "    x = self.encoder(x)\n",
        "    x = self.decoder(x)\n",
        "    return x"
      ],
      "execution_count": 0,
      "outputs": []
    },
    {
      "cell_type": "code",
      "metadata": {
        "id": "6wHZ6s0c2hMk",
        "colab_type": "code",
        "colab": {
          "base_uri": "https://localhost:8080/",
          "height": 51
        },
        "outputId": "791b18fc-3b13-43ca-fd60-33f23fe8dad7"
      },
      "source": [
        "(X_train, Y_train), (X_test, Y_test) =  tf.keras.datasets.mnist.load_data()\n",
        "X_train = X_train/ 255\n",
        "X_test = X_test/ 255\n",
        "X_train = np.reshape(X_train, (X_train.shape[0], X_train.shape[1] * X_train.shape[2])).astype(np.float32)\n",
        "X_test = np.reshape(X_test, (X_test.shape[0], X_test.shape[1] * X_test.shape[2])).astype(np.float32)"
      ],
      "execution_count": 6,
      "outputs": [
        {
          "output_type": "stream",
          "text": [
            "Downloading data from https://storage.googleapis.com/tensorflow/tf-keras-datasets/mnist.npz\n",
            "11493376/11490434 [==============================] - 0s 0us/step\n"
          ],
          "name": "stdout"
        }
      ]
    },
    {
      "cell_type": "code",
      "metadata": {
        "id": "Qzlk8Xpc2dr0",
        "colab_type": "code",
        "colab": {}
      },
      "source": [
        "autoencoder = Autoencoder(X_train.shape[1], 100)"
      ],
      "execution_count": 0,
      "outputs": []
    },
    {
      "cell_type": "code",
      "metadata": {
        "id": "8T9Y4aEI296Z",
        "colab_type": "code",
        "colab": {}
      },
      "source": [
        "autoencoder.compile(optimizer='adam', loss='mse')"
      ],
      "execution_count": 0,
      "outputs": []
    },
    {
      "cell_type": "code",
      "metadata": {
        "id": "uSOea4kq6E4-",
        "colab_type": "code",
        "outputId": "6c9a7876-c8bc-4b4c-8c1b-4b73bc811885",
        "colab": {
          "base_uri": "https://localhost:8080/",
          "height": 221
        }
      },
      "source": [
        "autoencoder.build(X_train.shape)\n",
        "autoencoder.summary()"
      ],
      "execution_count": 9,
      "outputs": [
        {
          "output_type": "stream",
          "text": [
            "Model: \"autoencoder\"\n",
            "_________________________________________________________________\n",
            "Layer (type)                 Output Shape              Param #   \n",
            "=================================================================\n",
            "encoder (Encoder)            multiple                  78500     \n",
            "_________________________________________________________________\n",
            "decoder (Decoder)            multiple                  79184     \n",
            "=================================================================\n",
            "Total params: 157,684\n",
            "Trainable params: 157,684\n",
            "Non-trainable params: 0\n",
            "_________________________________________________________________\n"
          ],
          "name": "stdout"
        }
      ]
    },
    {
      "cell_type": "code",
      "metadata": {
        "id": "OIaFY6eI3cHb",
        "colab_type": "code",
        "outputId": "dff1cb32-da1a-4da0-8cdb-5a605eedecf5",
        "colab": {
          "base_uri": "https://localhost:8080/",
          "height": 714
        }
      },
      "source": [
        "history = autoencoder.fit(X_train, X_train, epochs=20, batch_size=256)"
      ],
      "execution_count": 10,
      "outputs": [
        {
          "output_type": "stream",
          "text": [
            "Train on 60000 samples\n",
            "Epoch 1/20\n",
            "60000/60000 [==============================] - 3s 46us/sample - loss: 0.0274\n",
            "Epoch 2/20\n",
            "60000/60000 [==============================] - 2s 37us/sample - loss: 0.0103\n",
            "Epoch 3/20\n",
            "60000/60000 [==============================] - 2s 36us/sample - loss: 0.0086\n",
            "Epoch 4/20\n",
            "60000/60000 [==============================] - 2s 37us/sample - loss: 0.0078\n",
            "Epoch 5/20\n",
            "60000/60000 [==============================] - 2s 36us/sample - loss: 0.0074\n",
            "Epoch 6/20\n",
            "60000/60000 [==============================] - 2s 37us/sample - loss: 0.0071\n",
            "Epoch 7/20\n",
            "60000/60000 [==============================] - 2s 37us/sample - loss: 0.0070\n",
            "Epoch 8/20\n",
            "60000/60000 [==============================] - 2s 38us/sample - loss: 0.0068\n",
            "Epoch 9/20\n",
            "60000/60000 [==============================] - 2s 38us/sample - loss: 0.0068\n",
            "Epoch 10/20\n",
            "60000/60000 [==============================] - 2s 37us/sample - loss: 0.0067\n",
            "Epoch 11/20\n",
            "60000/60000 [==============================] - 2s 36us/sample - loss: 0.0067\n",
            "Epoch 12/20\n",
            "60000/60000 [==============================] - 2s 36us/sample - loss: 0.0066\n",
            "Epoch 13/20\n",
            "60000/60000 [==============================] - 2s 36us/sample - loss: 0.0066\n",
            "Epoch 14/20\n",
            "60000/60000 [==============================] - 2s 37us/sample - loss: 0.0066\n",
            "Epoch 15/20\n",
            "60000/60000 [==============================] - 2s 38us/sample - loss: 0.0065\n",
            "Epoch 16/20\n",
            "60000/60000 [==============================] - 2s 39us/sample - loss: 0.0065\n",
            "Epoch 17/20\n",
            "60000/60000 [==============================] - 2s 36us/sample - loss: 0.0065\n",
            "Epoch 18/20\n",
            "60000/60000 [==============================] - 2s 37us/sample - loss: 0.0065\n",
            "Epoch 19/20\n",
            "60000/60000 [==============================] - 2s 38us/sample - loss: 0.0065\n",
            "Epoch 20/20\n",
            "60000/60000 [==============================] - 2s 38us/sample - loss: 0.0064\n"
          ],
          "name": "stdout"
        }
      ]
    },
    {
      "cell_type": "code",
      "metadata": {
        "id": "PU8CDqt624nV",
        "colab_type": "code",
        "colab": {}
      },
      "source": [
        "X_decoded = autoencoder.predict(X_test)"
      ],
      "execution_count": 0,
      "outputs": []
    },
    {
      "cell_type": "code",
      "metadata": {
        "id": "t2h7eGkZ4fvm",
        "colab_type": "code",
        "outputId": "ac7d6114-6fcf-4e1d-d429-44891049d7d5",
        "colab": {
          "base_uri": "https://localhost:8080/",
          "height": 248
        }
      },
      "source": [
        "n = 10 \n",
        "plt.figure(figsize=(20, 4))\n",
        "for i in range(n):\n",
        "    ax = plt.subplot(2, n, i + 1)\n",
        "    plt.imshow(X_test[i].reshape(28, 28), cmap='viridis')\n",
        "    ax.get_xaxis().set_visible(False)\n",
        "    ax.get_yaxis().set_visible(False)\n",
        "    ax = plt.subplot(2, n, i + 1 + n)\n",
        "    plt.imshow(X_decoded[i].reshape(28, 28), cmap='viridis')\n",
        "    ax.get_xaxis().set_visible(False)\n",
        "    ax.get_yaxis().set_visible(False)\n",
        "plt.show()"
      ],
      "execution_count": 12,
      "outputs": [
        {
          "output_type": "display_data",
          "data": {
            "image/png": "[encoded data removed]",
            "text/plain": [
              "<Figure size 1440x288 with 20 Axes>"
            ]
          },
          "metadata": {
            "tags": []
          }
        }
      ]
    },
    {
      "cell_type": "code",
      "metadata": {
        "id": "1aSb4O7MKoP8",
        "colab_type": "code",
        "colab": {}
      },
      "source": [
        ""
      ],
      "execution_count": 0,
      "outputs": []
    }
  ]
}