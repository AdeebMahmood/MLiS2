{
  "nbformat": 4,
  "nbformat_minor": 0,
  "metadata": {
    "colab": {
      "name": "rbm.ipynb",
      "provenance": [],
      "authorship_tag": "ABX9TyPOfz0GqISHvaA62xqFkT7g",
      "include_colab_link": true
    },
    "kernelspec": {
      "name": "python3",
      "display_name": "Python 3"
    }
  },
  "cells": [
    {
      "cell_type": "markdown",
      "metadata": {
        "id": "view-in-github",
        "colab_type": "text"
      },
      "source": [
        "<a href=\"https://colab.research.google.com/github/adammoss/MLiS2/blob/master/examples/unsupervised/rbm.ipynb\" target=\"_parent\"><img src=\"https://colab.research.google.com/assets/colab-badge.svg\" alt=\"Open In Colab\"/></a>"
      ]
    },
    {
      "cell_type": "code",
      "metadata": {
        "id": "oCBZYFu0KxGu",
        "colab_type": "code",
        "colab": {}
      },
      "source": [
        "try:\n",
        "  # %tensorflow_version only exists in Colab.\n",
        "  %tensorflow_version 2.x\n",
        "except Exception:\n",
        "  pass"
      ],
      "execution_count": 0,
      "outputs": []
    },
    {
      "cell_type": "code",
      "metadata": {
        "id": "r1U38FH2KyZ9",
        "colab_type": "code",
        "colab": {}
      },
      "source": [
        "import tensorflow as tf\n",
        "import numpy as np\n",
        "import matplotlib.pyplot as plt"
      ],
      "execution_count": 0,
      "outputs": []
    },
    {
      "cell_type": "code",
      "metadata": {
        "id": "pBjBbpWmK7B4",
        "colab_type": "code",
        "colab": {}
      },
      "source": [
        "tf.random.set_seed(1)"
      ],
      "execution_count": 0,
      "outputs": []
    },
    {
      "cell_type": "code",
      "metadata": {
        "id": "OF8ELwHrLLGT",
        "colab_type": "code",
        "outputId": "5168152a-90ed-48b0-d3b1-7668729bc7c3",
        "colab": {
          "base_uri": "https://localhost:8080/",
          "height": 34
        }
      },
      "source": [
        "print(tf.__version__)"
      ],
      "execution_count": 215,
      "outputs": [
        {
          "output_type": "stream",
          "text": [
            "2.1.0\n"
          ],
          "name": "stdout"
        }
      ]
    },
    {
      "cell_type": "code",
      "metadata": {
        "id": "aPyNipA-LO3s",
        "colab_type": "code",
        "colab": {}
      },
      "source": [
        "class RBM:\n",
        "    \n",
        "  def __init__(self, input_size, hidden_size):\n",
        "    \n",
        "    self._input_size = input_size # Size of visible layer\n",
        "    self._hidden_size = hidden_size # Size of hidden layer\n",
        "          \n",
        "    # Initialise weights to small random values\n",
        "    self.w = tf.random.normal((input_size, hidden_size), stddev=0.01, dtype=np.float32)\n",
        "    #self.w = tf.random.normal((input_size, hidden_size), \n",
        "    #                          stddev=2*np.sqrt(1/(input_size + hidden_size)), \n",
        "    #                          dtype=np.float32)\n",
        "    self.hb = tf.zeros([hidden_size], np.float32)\n",
        "    self.vb = tf.zeros([input_size], np.float32)\n",
        "\n",
        "  def sample_prob(self, probs):\n",
        "    return tf.nn.relu(tf.sign(probs - tf.random.uniform(tf.shape(probs))))\n",
        "\n",
        "  def prob_h_given_v(self, v):\n",
        "    return tf.nn.sigmoid(tf.matmul(v, self.w) + self.hb)\n",
        "\n",
        "  def sample_h_given_v(self, v):\n",
        "    prob = self.prob_h_given_v(v)\n",
        "    return self.sample_prob(prob), prob\n",
        "\n",
        "  def prob_v_given_h(self, h):\n",
        "    return tf.nn.sigmoid(tf.matmul(h, tf.transpose(self.w)) + self.vb)\n",
        "\n",
        "  def sample_v_given_h(self, h):\n",
        "    prob = self.prob_v_given_h(h)\n",
        "    return self.sample_prob(prob), prob"
      ],
      "execution_count": 0,
      "outputs": []
    },
    {
      "cell_type": "markdown",
      "metadata": {
        "id": "mlQG5_ZkiXLU",
        "colab_type": "text"
      },
      "source": [
        "Read in MNIST data, convert to binary units andf flatten"
      ]
    },
    {
      "cell_type": "code",
      "metadata": {
        "id": "r_vWyL-GLtCR",
        "colab_type": "code",
        "colab": {}
      },
      "source": [
        "(train_data, _), (test_data, _) =  tf.keras.datasets.mnist.load_data()\n",
        "train_data = np.round(train_data/ 255)\n",
        "test_data = np.round(test_data/ 255)\n",
        "train_data = np.reshape(train_data, (train_data.shape[0], train_data.shape[1] * train_data.shape[2])).astype(np.float32)\n",
        "test_data = np.reshape(test_data, (test_data.shape[0], test_data.shape[1] * test_data.shape[2])).astype(np.float32)"
      ],
      "execution_count": 0,
      "outputs": []
    },
    {
      "cell_type": "code",
      "metadata": {
        "id": "mUQ4JM_Un_Ky",
        "colab_type": "code",
        "colab": {}
      },
      "source": [
        "BATCH_SIZE = 100"
      ],
      "execution_count": 0,
      "outputs": []
    },
    {
      "cell_type": "code",
      "metadata": {
        "id": "V_0cLOIrn3Gb",
        "colab_type": "code",
        "colab": {}
      },
      "source": [
        "dataset = tf.data.Dataset.from_tensor_slices(train_data).batch(BATCH_SIZE).shuffle(10000)"
      ],
      "execution_count": 0,
      "outputs": []
    },
    {
      "cell_type": "code",
      "metadata": {
        "id": "BmRUqP9TpNnS",
        "colab_type": "code",
        "colab": {}
      },
      "source": [
        "input_size = train_data.shape[1]\n",
        "rbm = RBM(input_size, 100)"
      ],
      "execution_count": 0,
      "outputs": []
    },
    {
      "cell_type": "code",
      "metadata": {
        "id": "ZZBTL3Ob6Qf8",
        "colab_type": "code",
        "colab": {}
      },
      "source": [
        "EPOCHS = 10\n",
        "LEARNING_RATE = 0.01"
      ],
      "execution_count": 0,
      "outputs": []
    },
    {
      "cell_type": "code",
      "metadata": {
        "id": "aGxFZHstn2cx",
        "colab_type": "code",
        "colab": {
          "base_uri": "https://localhost:8080/",
          "height": 187
        },
        "outputId": "bcd32cf4-842f-4dcf-f86c-3aa5654e27a0"
      },
      "source": [
        "loss = []\n",
        "for epoch in range(EPOCHS):\n",
        "  err = 0\n",
        "  for batch in dataset:\n",
        "    # Perform CD-1\n",
        "    h0, h0_prob = rbm.sample_h_given_v(batch)\n",
        "    v1, v1_prob = rbm.sample_v_given_h(h0)\n",
        "    h1, h1_prob = rbm.sample_h_given_v(v1)\n",
        "    # Calculate gradients \n",
        "    positive_grad = tf.matmul(tf.transpose(batch), h0_prob)\n",
        "    negative_grad = tf.matmul(tf.transpose(v1), h1_prob)\n",
        "    #Update parameters\n",
        "    rbm.w += LEARNING_RATE *(positive_grad - negative_grad) / BATCH_SIZE\n",
        "    rbm.vb += LEARNING_RATE * tf.reduce_mean(batch - v1, 0)\n",
        "    rbm.hb += LEARNING_RATE * tf.reduce_mean(h0 - h1, 0)\n",
        "    #Find the reconstruction error\n",
        "    err += tf.math.reduce_sum(tf.square(batch - v1))\n",
        "  print ('Epoch: %d' % epoch,'reconstruction error: %f' % err)\n",
        "  loss.append(err)      "
      ],
      "execution_count": 222,
      "outputs": [
        {
          "output_type": "stream",
          "text": [
            "Epoch: 0 reconstruction error: 9195681.000000\n",
            "Epoch: 1 reconstruction error: 6537361.000000\n",
            "Epoch: 2 reconstruction error: 5810751.000000\n",
            "Epoch: 3 reconstruction error: 5392046.000000\n",
            "Epoch: 4 reconstruction error: 5104972.000000\n",
            "Epoch: 5 reconstruction error: 4882735.000000\n",
            "Epoch: 6 reconstruction error: 4705222.000000\n",
            "Epoch: 7 reconstruction error: 4553861.000000\n",
            "Epoch: 8 reconstruction error: 4430806.000000\n",
            "Epoch: 9 reconstruction error: 4321342.000000\n"
          ],
          "name": "stdout"
        }
      ]
    },
    {
      "cell_type": "code",
      "metadata": {
        "id": "vi7mdQpx8GW2",
        "colab_type": "code",
        "colab": {
          "base_uri": "https://localhost:8080/",
          "height": 279
        },
        "outputId": "435132e9-5c6b-4c88-bb36-1f0816379c29"
      },
      "source": [
        "plt.plot(loss)\n",
        "plt.xlabel('Epochs')\n",
        "plt.ylabel('Reconstruction error')\n",
        "plt.show()"
      ],
      "execution_count": 223,
      "outputs": [
        {
          "output_type": "display_data",
          "data": {
            "image/png": "[encoded data removed]",
            "text/plain": [
              "<Figure size 432x288 with 1 Axes>"
            ]
          },
          "metadata": {
            "tags": []
          }
        }
      ]
    },
    {
      "cell_type": "code",
      "metadata": {
        "id": "4fUgAA3b8Wtk",
        "colab_type": "code",
        "colab": {
          "base_uri": "https://localhost:8080/",
          "height": 1000
        },
        "outputId": "66f7ba8c-2e72-4919-daef-cddc3251d21f"
      },
      "source": [
        "for v in dataset.take(1):\n",
        "  for step in range(100):\n",
        "    if step % 10 == 0:\n",
        "      fig, axes = plt.subplots(1, 5, sharex=True, sharey=True, figsize=(20,4))  \n",
        "      for i in range(5):\n",
        "        axes[i].imshow(tf.reshape(v[i],[28, 28]))\n",
        "        axes[i].get_xaxis().set_visible(False)\n",
        "        axes[i].get_yaxis().set_visible(False)\n",
        "      plt.show()\n",
        "    h, _ = rbm.sample_h_given_v(v)\n",
        "    v, _ = rbm.sample_v_given_h(h)"
      ],
      "execution_count": 229,
      "outputs": [
        {
          "output_type": "display_data",
          "data": {
            "image/png": "[encoded data removed]",
            "text/plain": [
              "<Figure size 1440x288 with 5 Axes>"
            ]
          },
          "metadata": {
            "tags": []
          }
        },
        {
          "output_type": "display_data",
          "data": {
            "image/png": "[encoded data removed]",
            "text/plain": [
              "<Figure size 1440x288 with 5 Axes>"
            ]
          },
          "metadata": {
            "tags": []
          }
        },
        {
          "output_type": "display_data",
          "data": {
            "image/png": "[encoded data removed]",
            "text/plain": [
              "<Figure size 1440x288 with 5 Axes>"
            ]
          },
          "metadata": {
            "tags": []
          }
        },
        {
          "output_type": "display_data",
          "data": {
            "image/png": "[encoded data removed]",
            "text/plain": [
              "<Figure size 1440x288 with 5 Axes>"
            ]
          },
          "metadata": {
            "tags": []
          }
        },
        {
          "output_type": "display_data",
          "data": {
            "image/png": "[encoded data removed]",
            "text/plain": [
              "<Figure size 1440x288 with 5 Axes>"
            ]
          },
          "metadata": {
            "tags": []
          }
        },
        {
          "output_type": "display_data",
          "data": {
            "image/png": "[encoded data removed]",
            "text/plain": [
              "<Figure size 1440x288 with 5 Axes>"
            ]
          },
          "metadata": {
            "tags": []
          }
        },
        {
          "output_type": "display_data",
          "data": {
            "image/png": "[encoded data removed]",
            "text/plain": [
              "<Figure size 1440x288 with 5 Axes>"
            ]
          },
          "metadata": {
            "tags": []
          }
        },
        {
          "output_type": "display_data",
          "data": {
            "image/png": "[encoded data removed]",
            "text/plain": [
              "<Figure size 1440x288 with 5 Axes>"
            ]
          },
          "metadata": {
            "tags": []
          }
        },
        {
          "output_type": "display_data",
          "data": {
            "image/png": "[encoded data removed]",
            "text/plain": [
              "<Figure size 1440x288 with 5 Axes>"
            ]
          },
          "metadata": {
            "tags": []
          }
        },
        {
          "output_type": "display_data",
          "data": {
            "image/png": "[encoded data removed]",
            "text/plain": [
              "<Figure size 1440x288 with 5 Axes>"
            ]
          },
          "metadata": {
            "tags": []
          }
        }
      ]
    },
    {
      "cell_type": "code",
      "metadata": {
        "id": "SEo9s1Y7N6rA",
        "colab_type": "code",
        "colab": {}
      },
      "source": [
        ""
      ],
      "execution_count": 0,
      "outputs": []
    }
  ]
}