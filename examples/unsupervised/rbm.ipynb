{
  "nbformat": 4,
  "nbformat_minor": 0,
  "metadata": {
    "colab": {
      "name": "rbm.ipynb",
      "provenance": [],
      "authorship_tag": "ABX9TyNhj81XDOd4Q4JSc2Gc0Mym",
      "include_colab_link": true
    },
    "kernelspec": {
      "name": "python3",
      "display_name": "Python 3"
    }
  },
  "cells": [
    {
      "cell_type": "markdown",
      "metadata": {
        "id": "view-in-github",
        "colab_type": "text"
      },
      "source": [
        "<a href=\"https://colab.research.google.com/github/adammoss/MLiS2/blob/master/examples/unsupervised/rbm.ipynb\" target=\"_parent\"><img src=\"https://colab.research.google.com/assets/colab-badge.svg\" alt=\"Open In Colab\"/></a>"
      ]
    },
    {
      "cell_type": "code",
      "metadata": {
        "id": "oCBZYFu0KxGu",
        "colab_type": "code",
        "colab": {}
      },
      "source": [
        "try:\n",
        "  # %tensorflow_version only exists in Colab.\n",
        "  %tensorflow_version 2.x\n",
        "except Exception:\n",
        "  pass"
      ],
      "execution_count": 0,
      "outputs": []
    },
    {
      "cell_type": "code",
      "metadata": {
        "id": "r1U38FH2KyZ9",
        "colab_type": "code",
        "colab": {}
      },
      "source": [
        "import tensorflow as tf\n",
        "import numpy as np\n",
        "import matplotlib.pyplot as plt"
      ],
      "execution_count": 0,
      "outputs": []
    },
    {
      "cell_type": "code",
      "metadata": {
        "id": "pBjBbpWmK7B4",
        "colab_type": "code",
        "colab": {}
      },
      "source": [
        "tf.random.set_seed(2)"
      ],
      "execution_count": 0,
      "outputs": []
    },
    {
      "cell_type": "code",
      "metadata": {
        "id": "OF8ELwHrLLGT",
        "colab_type": "code",
        "colab": {
          "base_uri": "https://localhost:8080/",
          "height": 34
        },
        "outputId": "45f3713a-3556-4a09-bfc4-78a3fdebaf68"
      },
      "source": [
        "print(tf.__version__)"
      ],
      "execution_count": 207,
      "outputs": [
        {
          "output_type": "stream",
          "text": [
            "2.1.0\n"
          ],
          "name": "stdout"
        }
      ]
    },
    {
      "cell_type": "code",
      "metadata": {
        "id": "aPyNipA-LO3s",
        "colab_type": "code",
        "colab": {}
      },
      "source": [
        "class RBM:\n",
        "    \n",
        "  def __init__(self, input_size, hidden_size, lr=1.0, batchsize=100):\n",
        "\n",
        "      self._input_size = input_size # Size of visible layer\n",
        "      self._hidden_size = hidden_size # Size of hidden layer\n",
        "      self.learning_rate = lr \n",
        "      self.batchsize = batchsize      \n",
        "      \n",
        "      # Initialise weights to small random values\n",
        "      self.w = tf.random.normal((input_size, hidden_size), stddev=0.01, dtype=np.float32)\n",
        "      self.hb = tf.zeros([hidden_size], np.float32)\n",
        "      self.vb = tf.zeros([input_size], np.float32)\n",
        "\n",
        "  def prob_h_given_v(self, v):\n",
        "      return tf.nn.sigmoid(tf.matmul(v, self.w) + self.hb)\n",
        "\n",
        "  def sample_h_given_v(self, v):\n",
        "      return self.sample_prob(self.prob_h_given_v(v))\n",
        "\n",
        "  def prob_v_given_h(self, h):\n",
        "      return tf.nn.sigmoid(tf.matmul(h, tf.transpose(self.w)) + self.vb)\n",
        "\n",
        "  def sample_v_given_h(self, h):\n",
        "      return self.sample_prob(self.prob_v_given_h(h))\n",
        "\n",
        "  def sample_prob(self, probs):\n",
        "      return tf.nn.relu(tf.sign(probs - tf.random.uniform(tf.shape(probs))))\n",
        "      \n",
        "  def sample(self, visible, steps=500):\n",
        "    v = visible\n",
        "    for step in range(steps):\n",
        "      h = self.sample_h_given_v(v)\n",
        "      v = self.sample_v_given_h(h)\n",
        "    return v\n",
        "\n",
        "  # Training method for the model\n",
        "  def train(self, X, epochs=10):\n",
        "      \n",
        "    loss = []\n",
        "    for epoch in range(epochs):\n",
        "        #For each step/batch\n",
        "        for start, end in zip(range(0, len(X), self.batchsize),range(self.batchsize,len(X), self.batchsize)):\n",
        "            batch = X[start:end]\n",
        "            \n",
        "            # Perform 1 step of CD\n",
        "            \n",
        "            h0 = self.sample_h_given_v(batch)\n",
        "            v1 = self.sample_v_given_h(h0)\n",
        "            h1 = self.sample_h_given_v(v1)\n",
        "            \n",
        "            # Calculate gradients \n",
        "            positive_grad = tf.matmul(tf.transpose(batch), h0)\n",
        "            negative_grad = tf.matmul(tf.transpose(v1), h1)\n",
        "            \n",
        "            #Update parameters\n",
        "            self.w += self.learning_rate *(positive_grad - negative_grad) / tf.dtypes.cast(tf.shape(batch)[0],tf.float32)\n",
        "            #self.w += self.learning_rate * tf.reduce_mean(positive_grad - negative_grad)\n",
        "            self.vb += self.learning_rate * tf.reduce_mean(batch - v1, 0)\n",
        "            self.hb += self.learning_rate * tf.reduce_mean(h0 - h1, 0)\n",
        "            \n",
        "        #Find the error rate\n",
        "        err = tf.reduce_mean(tf.square(batch - v1))\n",
        "        print ('Epoch: %d' % epoch,'reconstruction error: %f' % err)\n",
        "        loss.append(err)          \n",
        "        \n",
        "    return loss"
      ],
      "execution_count": 0,
      "outputs": []
    },
    {
      "cell_type": "markdown",
      "metadata": {
        "id": "mlQG5_ZkiXLU",
        "colab_type": "text"
      },
      "source": [
        "Read in MNIST data, convert to binary units andf flatten"
      ]
    },
    {
      "cell_type": "code",
      "metadata": {
        "id": "r_vWyL-GLtCR",
        "colab_type": "code",
        "colab": {
          "base_uri": "https://localhost:8080/",
          "height": 265
        },
        "outputId": "283bd4cf-702f-4fac-f82d-e6e0c9b2cbac"
      },
      "source": [
        "(train_data, _), (test_data, _) =  tf.keras.datasets.mnist.load_data()\n",
        "train_data = np.round(train_data/ 255)\n",
        "test_data = np.round(test_data/ 255)\n",
        "plt.imshow(train_data[0])\n",
        "plt.show()\n",
        "train_data = np.reshape(train_data, (train_data.shape[0], train_data.shape[1] * train_data.shape[2])).astype(np.float32)\n",
        "test_data = np.reshape(test_data, (test_data.shape[0], test_data.shape[1] * test_data.shape[2])).astype(np.float32)"
      ],
      "execution_count": 209,
      "outputs": [
        {
          "output_type": "display_data",
          "data": {
            "image/png": "[encoded data removed]",
            "text/plain": [
              "<Figure size 432x288 with 1 Axes>"
            ]
          },
          "metadata": {
            "tags": []
          }
        }
      ]
    },
    {
      "cell_type": "code",
      "metadata": {
        "id": "BmRUqP9TpNnS",
        "colab_type": "code",
        "colab": {}
      },
      "source": [
        "input_size = train_data.shape[1]\n",
        "rbm = RBM(input_size, 200)"
      ],
      "execution_count": 0,
      "outputs": []
    },
    {
      "cell_type": "code",
      "metadata": {
        "id": "64fQ7Q3SpTej",
        "colab_type": "code",
        "colab": {
          "base_uri": "https://localhost:8080/",
          "height": 227
        },
        "outputId": "93868b6f-6cd1-4ffb-bcf3-8ba093a71010"
      },
      "source": [
        "samples = rbm.sample(train_data[0:5])\n",
        "fig, axes = plt.subplots(1, 5, sharex=True, sharey=True, figsize=(20,4))\n",
        "for i in range(5):\n",
        "  axes[i].imshow(tf.reshape(samples[i],[28, 28]))\n",
        "  axes[i].get_xaxis().set_visible(False)\n",
        "  axes[i].get_yaxis().set_visible(False)"
      ],
      "execution_count": 211,
      "outputs": [
        {
          "output_type": "display_data",
          "data": {
            "image/png": "[encoded data removed]",
            "text/plain": [
              "<Figure size 1440x288 with 5 Axes>"
            ]
          },
          "metadata": {
            "tags": []
          }
        }
      ]
    },
    {
      "cell_type": "code",
      "metadata": {
        "id": "O-_i9Ij1Lv_l",
        "colab_type": "code",
        "colab": {
          "base_uri": "https://localhost:8080/",
          "height": 187
        },
        "outputId": "31e4a993-50b4-40e0-f675-65178d786f5f"
      },
      "source": [
        "err = rbm.train(train_data, 10)"
      ],
      "execution_count": 212,
      "outputs": [
        {
          "output_type": "stream",
          "text": [
            "Epoch: 0 reconstruction error: 0.063163\n",
            "Epoch: 1 reconstruction error: 0.052908\n",
            "Epoch: 2 reconstruction error: 0.050625\n",
            "Epoch: 3 reconstruction error: 0.048202\n",
            "Epoch: 4 reconstruction error: 0.045217\n",
            "Epoch: 5 reconstruction error: 0.043622\n",
            "Epoch: 6 reconstruction error: 0.043559\n",
            "Epoch: 7 reconstruction error: 0.044196\n",
            "Epoch: 8 reconstruction error: 0.041671\n",
            "Epoch: 9 reconstruction error: 0.041059\n"
          ],
          "name": "stdout"
        }
      ]
    },
    {
      "cell_type": "code",
      "metadata": {
        "id": "AAFXiUeDpmAC",
        "colab_type": "code",
        "colab": {
          "base_uri": "https://localhost:8080/",
          "height": 227
        },
        "outputId": "5e396a5f-596c-4fc9-b91b-a1079f400eff"
      },
      "source": [
        "samples = rbm.sample(train_data[0:5])\n",
        "fig, axes = plt.subplots(1, 5, sharex=True, sharey=True, figsize=(20,4))\n",
        "for i in range(5):\n",
        "  axes[i].imshow(tf.reshape(samples[i],[28, 28]))\n",
        "  axes[i].get_xaxis().set_visible(False)\n",
        "  axes[i].get_yaxis().set_visible(False)"
      ],
      "execution_count": 213,
      "outputs": [
        {
          "output_type": "display_data",
          "data": {
            "image/png": "[encoded data removed]",
            "text/plain": [
              "<Figure size 1440x288 with 5 Axes>"
            ]
          },
          "metadata": {
            "tags": []
          }
        }
      ]
    },
    {
      "cell_type": "code",
      "metadata": {
        "id": "2EJb4ATiLyiA",
        "colab_type": "code",
        "colab": {
          "base_uri": "https://localhost:8080/",
          "height": 279
        },
        "outputId": "35734344-0d3a-4056-d3db-2da488741f99"
      },
      "source": [
        "plt.plot(err)\n",
        "plt.xlabel('epochs')\n",
        "plt.ylabel('cost')\n",
        "plt.show()"
      ],
      "execution_count": 215,
      "outputs": [
        {
          "output_type": "display_data",
          "data": {
            "image/png": "[encoded data removed]",
            "text/plain": [
              "<Figure size 432x288 with 1 Axes>"
            ]
          },
          "metadata": {
            "tags": []
          }
        }
      ]
    },
    {
      "cell_type": "code",
      "metadata": {
        "id": "SEo9s1Y7N6rA",
        "colab_type": "code",
        "colab": {}
      },
      "source": [
        ""
      ],
      "execution_count": 0,
      "outputs": []
    }
  ]
}