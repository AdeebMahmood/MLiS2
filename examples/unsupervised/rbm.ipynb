{
  "nbformat": 4,
  "nbformat_minor": 0,
  "metadata": {
    "colab": {
      "name": "rbm.ipynb",
      "provenance": [],
      "authorship_tag": "ABX9TyN5KZabN9pcwQQcr90Qha64",
      "include_colab_link": true
    },
    "kernelspec": {
      "name": "python3",
      "display_name": "Python 3"
    }
  },
  "cells": [
    {
      "cell_type": "markdown",
      "metadata": {
        "id": "view-in-github",
        "colab_type": "text"
      },
      "source": [
        "<a href=\"https://colab.research.google.com/github/adammoss/MLiS2/blob/master/examples/unsupervised/rbm.ipynb\" target=\"_parent\"><img src=\"https://colab.research.google.com/assets/colab-badge.svg\" alt=\"Open In Colab\"/></a>"
      ]
    },
    {
      "cell_type": "code",
      "metadata": {
        "id": "oCBZYFu0KxGu",
        "colab_type": "code",
        "colab": {
          "base_uri": "https://localhost:8080/",
          "height": 34
        },
        "outputId": "20efcce6-fa4a-43fb-a85f-85e49f0862cf"
      },
      "source": [
        "try:\n",
        "  # %tensorflow_version only exists in Colab.\n",
        "  %tensorflow_version 2.x\n",
        "except Exception:\n",
        "  pass"
      ],
      "execution_count": 1,
      "outputs": [
        {
          "output_type": "stream",
          "text": [
            "TensorFlow 2.x selected.\n"
          ],
          "name": "stdout"
        }
      ]
    },
    {
      "cell_type": "code",
      "metadata": {
        "id": "r1U38FH2KyZ9",
        "colab_type": "code",
        "colab": {}
      },
      "source": [
        "import tensorflow as tf\n",
        "import numpy as np\n",
        "import matplotlib.pyplot as plt"
      ],
      "execution_count": 0,
      "outputs": []
    },
    {
      "cell_type": "code",
      "metadata": {
        "id": "pBjBbpWmK7B4",
        "colab_type": "code",
        "colab": {}
      },
      "source": [
        "tf.random.set_seed(1)"
      ],
      "execution_count": 0,
      "outputs": []
    },
    {
      "cell_type": "code",
      "metadata": {
        "id": "OF8ELwHrLLGT",
        "colab_type": "code",
        "colab": {
          "base_uri": "https://localhost:8080/",
          "height": 34
        },
        "outputId": "dcf06622-989b-47ae-af25-877a3e61d27e"
      },
      "source": [
        "print(tf.__version__)"
      ],
      "execution_count": 5,
      "outputs": [
        {
          "output_type": "stream",
          "text": [
            "2.1.0\n"
          ],
          "name": "stdout"
        }
      ]
    },
    {
      "cell_type": "code",
      "metadata": {
        "id": "aPyNipA-LO3s",
        "colab_type": "code",
        "colab": {}
      },
      "source": [
        "class RBM:\n",
        "    \n",
        "  def __init__(self, input_size, hidden_size, lr=1.0, batchsize=100):\n",
        "\n",
        "      self._input_size = input_size # Size of visible layer\n",
        "      self._hidden_size = hidden_size # Size of hidden layer\n",
        "      self.learning_rate = lr \n",
        "      self.batchsize = batchsize      \n",
        "      \n",
        "      # Initialise weights to small random values\n",
        "      self.w = tf.random.normal((input_size, hidden_size), stddev=0.01, dtype=np.float32)\n",
        "      self.hb = tf.zeros([hidden_size], np.float32)\n",
        "      self.vb = tf.zeros([input_size], np.float32)\n",
        "\n",
        "  def prob_h_given_v(self, visible, w, hb):\n",
        "      return tf.nn.sigmoid(tf.matmul(visible, w) + hb)\n",
        "\n",
        "  def prob_v_given_h(self, hidden, w, vb):\n",
        "      return tf.nn.sigmoid(tf.matmul(hidden, tf.transpose(w)) + vb)\n",
        "\n",
        "  # Generate the sample probability\n",
        "  def sample_prob(self, probs):\n",
        "      return tf.nn.relu(tf.sign(probs - tf.random.uniform(tf.shape(probs))))\n",
        "\n",
        "  def rbm_reconstruct(self,X):\n",
        "    h = tf.nn.sigmoid(tf.matmul(X, self.w) + self.hb)\n",
        "    reconstruct = tf.nn.sigmoid(tf.matmul(h, tf.transpose(self.w)) + self.vb)\n",
        "    return reconstruct\n",
        "\n",
        "  # Training method for the model\n",
        "  def train(self, X, epochs=10):\n",
        "      \n",
        "    loss = []\n",
        "    for epoch in range(epochs):\n",
        "        #For each step/batch\n",
        "        for start, end in zip(range(0, len(X), self.batchsize),range(self.batchsize,len(X), self.batchsize)):\n",
        "            batch = X[start:end]\n",
        "            \n",
        "            #Initialize with sample probabilities\n",
        "            \n",
        "            h0 = self.sample_prob(self.prob_h_given_v(batch, self.w, self.hb))\n",
        "            v1 = self.sample_prob(self.prob_v_given_h(h0, self.w, self.vb))\n",
        "            h1 = self.prob_h_given_v(v1, self.w, self.hb)\n",
        "            \n",
        "            #Create the Gradients\n",
        "            positive_grad = tf.matmul(tf.transpose(batch), h0)\n",
        "            negative_grad = tf.matmul(tf.transpose(v1), h1)\n",
        "            \n",
        "            #Update learning rates \n",
        "            self.w = self.w + self.learning_rate *(positive_grad - negative_grad) / tf.dtypes.cast(tf.shape(batch)[0],tf.float32)\n",
        "            self.vb = self.vb +  self.learning_rate * tf.reduce_mean(batch - v1, 0)\n",
        "            self.hb = self.hb +  self.learning_rate * tf.reduce_mean(h0 - h1, 0)\n",
        "            \n",
        "        #Find the error rate\n",
        "        err = tf.reduce_mean(tf.square(batch - v1))\n",
        "        print ('Epoch: %d' % epoch,'reconstruction error: %f' % err)\n",
        "        loss.append(err)\n",
        "        \n",
        "    return loss"
      ],
      "execution_count": 0,
      "outputs": []
    },
    {
      "cell_type": "code",
      "metadata": {
        "id": "r_vWyL-GLtCR",
        "colab_type": "code",
        "colab": {}
      },
      "source": [
        "(train_data, _), (test_data, _) =  tf.keras.datasets.mnist.load_data()\n",
        "train_data = train_data/np.float32(255)\n",
        "train_data = np.reshape(train_data, (train_data.shape[0], 784))\n",
        "test_data = test_data/np.float32(255)\n",
        "test_data = np.reshape(test_data, (test_data.shape[0], 784))"
      ],
      "execution_count": 0,
      "outputs": []
    },
    {
      "cell_type": "code",
      "metadata": {
        "id": "O-_i9Ij1Lv_l",
        "colab_type": "code",
        "colab": {
          "base_uri": "https://localhost:8080/",
          "height": 187
        },
        "outputId": "03bb354b-de07-4b60-c3ee-6bbb57b991fe"
      },
      "source": [
        "#Size of inputs is the number of inputs in the training set\n",
        "input_size = train_data.shape[1]\n",
        "rbm = RBM(input_size, 20)\n",
        "err = rbm.train(train_data, 10)"
      ],
      "execution_count": 18,
      "outputs": [
        {
          "output_type": "stream",
          "text": [
            "Epoch: 0 reconstruction error: 0.093404\n",
            "Epoch: 1 reconstruction error: 0.093206\n",
            "Epoch: 2 reconstruction error: 0.090904\n",
            "Epoch: 3 reconstruction error: 0.089345\n",
            "Epoch: 4 reconstruction error: 0.088806\n",
            "Epoch: 5 reconstruction error: 0.087180\n",
            "Epoch: 6 reconstruction error: 0.088006\n",
            "Epoch: 7 reconstruction error: 0.087766\n",
            "Epoch: 8 reconstruction error: 0.086934\n",
            "Epoch: 9 reconstruction error: 0.087257\n"
          ],
          "name": "stdout"
        }
      ]
    },
    {
      "cell_type": "code",
      "metadata": {
        "id": "2EJb4ATiLyiA",
        "colab_type": "code",
        "colab": {
          "base_uri": "https://localhost:8080/",
          "height": 279
        },
        "outputId": "c9596e3e-a12b-4e0e-aa9c-66eef17f6c30"
      },
      "source": [
        "plt.plot(err)\n",
        "plt.xlabel('epochs')\n",
        "plt.ylabel('cost')\n",
        "plt.show()"
      ],
      "execution_count": 19,
      "outputs": [
        {
          "output_type": "display_data",
          "data": {
            "image/png": "[encoded data removed]",
            "text/plain": [
              "<Figure size 432x288 with 1 Axes>"
            ]
          },
          "metadata": {
            "tags": []
          }
        }
      ]
    },
    {
      "cell_type": "code",
      "metadata": {
        "id": "3SvyAjMdN6BF",
        "colab_type": "code",
        "colab": {
          "base_uri": "https://localhost:8080/",
          "height": 252
        },
        "outputId": "050991a8-de24-483c-a1b9-527576c233ef"
      },
      "source": [
        "out = rbm.rbm_reconstruct(test_data)\n",
        "# Plotting original and reconstructed images\n",
        "row, col = 2, 8\n",
        "idx = np.random.randint(0, 100, row * col // 2)\n",
        "f, axarr = plt.subplots(row, col, sharex=True, sharey=True, figsize=(20,4))\n",
        "for fig, row in zip([test_data,out], axarr):\n",
        "    for i,ax in zip(idx,row):\n",
        "        ax.imshow(tf.reshape(fig[i],[28, 28]), cmap='Greys_r')\n",
        "        ax.get_xaxis().set_visible(False)\n",
        "        ax.get_yaxis().set_visible(False)"
      ],
      "execution_count": 20,
      "outputs": [
        {
          "output_type": "display_data",
          "data": {
            "image/png": "[encoded data removed]",
            "text/plain": [
              "<Figure size 1440x288 with 16 Axes>"
            ]
          },
          "metadata": {
            "tags": []
          }
        }
      ]
    },
    {
      "cell_type": "code",
      "metadata": {
        "id": "SEo9s1Y7N6rA",
        "colab_type": "code",
        "colab": {}
      },
      "source": [
        ""
      ],
      "execution_count": 0,
      "outputs": []
    }
  ]
}