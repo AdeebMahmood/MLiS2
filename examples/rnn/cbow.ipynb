{
  "nbformat": 4,
  "nbformat_minor": 0,
  "metadata": {
    "colab": {
      "name": "cbow.ipynb",
      "provenance": [],
      "authorship_tag": "ABX9TyNtjkptAryRLRFkkZJzxYUG",
      "include_colab_link": true
    },
    "kernelspec": {
      "name": "python3",
      "display_name": "Python 3"
    }
  },
  "cells": [
    {
      "cell_type": "markdown",
      "metadata": {
        "id": "view-in-github",
        "colab_type": "text"
      },
      "source": [
        "<a href=\"https://colab.research.google.com/github/adammoss/MLiS2/blob/master/examples/rnn/cbow.ipynb\" target=\"_parent\"><img src=\"https://colab.research.google.com/assets/colab-badge.svg\" alt=\"Open In Colab\"/></a>"
      ]
    },
    {
      "cell_type": "code",
      "metadata": {
        "id": "F8z3epFRK85X",
        "colab_type": "code",
        "colab": {}
      },
      "source": [
        "try:\n",
        "  # %tensorflow_version only exists in Colab.\n",
        "  %tensorflow_version 2.x\n",
        "except Exception:\n",
        "  pass"
      ],
      "execution_count": 0,
      "outputs": []
    },
    {
      "cell_type": "code",
      "metadata": {
        "id": "X6RjOQA0LAwF",
        "colab_type": "code",
        "colab": {}
      },
      "source": [
        "from __future__ import absolute_import, division, print_function, unicode_literals\n",
        "\n",
        "import tensorflow as tf\n",
        "from tensorflow import keras\n",
        "from tensorflow.keras import layers\n",
        "import matplotlib.pyplot as plt\n",
        "import numpy as np\n",
        "import gensim\n",
        "import seaborn as sns\n",
        "from sklearn.decomposition import PCA\n",
        "from sklearn.manifold import TSNE\n",
        "import pandas as pd"
      ],
      "execution_count": 0,
      "outputs": []
    },
    {
      "cell_type": "code",
      "metadata": {
        "id": "nZ0tB0zQSwAE",
        "colab_type": "code",
        "colab": {}
      },
      "source": [
        "sns.set_style(\"darkgrid\")"
      ],
      "execution_count": 0,
      "outputs": []
    },
    {
      "cell_type": "code",
      "metadata": {
        "id": "PTo52U4uLlMY",
        "colab_type": "code",
        "colab": {}
      },
      "source": [
        "tf.random.set_seed(1)"
      ],
      "execution_count": 0,
      "outputs": []
    },
    {
      "cell_type": "code",
      "metadata": {
        "id": "ePX29JpULpiu",
        "colab_type": "code",
        "outputId": "6bf704b3-c893-47bc-fbe7-221b8164547b",
        "colab": {
          "base_uri": "https://localhost:8080/",
          "height": 34
        }
      },
      "source": [
        "print(tf.__version__)"
      ],
      "execution_count": 143,
      "outputs": [
        {
          "output_type": "stream",
          "text": [
            "2.1.0\n"
          ],
          "name": "stdout"
        }
      ]
    },
    {
      "cell_type": "markdown",
      "metadata": {
        "id": "pr_pSHPrVJrF",
        "colab_type": "text"
      },
      "source": [
        "Load Alice in Wonderland corpus"
      ]
    },
    {
      "cell_type": "code",
      "metadata": {
        "id": "bAKBFQtlLqBF",
        "colab_type": "code",
        "colab": {}
      },
      "source": [
        "path = keras.utils.get_file('alice.txt', origin='http://www.gutenberg.org/files/11/11-0.txt')\n",
        "corpus = open(path).readlines()[:1000]\n",
        "corpus = [sentence for sentence in corpus if sentence.count(' ') >= 2]"
      ],
      "execution_count": 0,
      "outputs": []
    },
    {
      "cell_type": "code",
      "metadata": {
        "id": "cpqxA34QfZyU",
        "colab_type": "code",
        "colab": {
          "base_uri": "https://localhost:8080/",
          "height": 34
        },
        "outputId": "7b189592-a1ac-427b-e6ff-b06a8eba4ac0"
      },
      "source": [
        "print(\"Nmber of setences: %d\" % len(corpus))"
      ],
      "execution_count": 162,
      "outputs": [
        {
          "output_type": "stream",
          "text": [
            "Nmber of setences: 763\n"
          ],
          "name": "stdout"
        }
      ]
    },
    {
      "cell_type": "code",
      "metadata": {
        "id": "PqMizEZuRq3u",
        "colab_type": "code",
        "colab": {}
      },
      "source": [
        "tokenizer = keras.preprocessing.text.Tokenizer()\n",
        "tokenizer.fit_on_texts(corpus)\n",
        "corpus = tokenizer.texts_to_sequences(corpus)\n",
        "nb_samples = sum(len(s) for s in corpus)\n",
        "word_dim = len(tokenizer.word_index) + 1\n",
        "embedding_dim = 50\n",
        "window_size = 2"
      ],
      "execution_count": 0,
      "outputs": []
    },
    {
      "cell_type": "code",
      "metadata": {
        "id": "RmbLOb06L9hf",
        "colab_type": "code",
        "outputId": "9953acc1-17cb-4713-b1b9-d28603a065a3",
        "colab": {
          "base_uri": "https://localhost:8080/",
          "height": 34
        }
      },
      "source": [
        "print(\"Found %d unique words\" % word_dim)"
      ],
      "execution_count": 146,
      "outputs": [
        {
          "output_type": "stream",
          "text": [
            "Found 1670 unique words\n"
          ],
          "name": "stdout"
        }
      ]
    },
    {
      "cell_type": "code",
      "metadata": {
        "id": "YR6-Qt_QMOTf",
        "colab_type": "code",
        "colab": {}
      },
      "source": [
        "def generate_data(corpus, window_size, word_dim):\n",
        "  maxlen = window_size*2\n",
        "  for words in corpus:\n",
        "    L = len(words)\n",
        "    for index, word in enumerate(words):\n",
        "      contexts = []\n",
        "      labels   = []            \n",
        "      s = index - window_size\n",
        "      e = index + window_size + 1\n",
        "      contexts.append([words[i] for i in range(s, e) if 0 <= i < L and i != index])\n",
        "      labels.append(word)\n",
        "      x = keras.preprocessing.sequence.pad_sequences(contexts, maxlen=maxlen)\n",
        "      y = keras.utils.to_categorical(labels, word_dim)\n",
        "      yield (x, y)"
      ],
      "execution_count": 0,
      "outputs": []
    },
    {
      "cell_type": "code",
      "metadata": {
        "id": "0f7d7aDrM3Yy",
        "colab_type": "code",
        "colab": {}
      },
      "source": [
        "cbow = keras.Sequential()\n",
        "cbow.add(layers.Embedding(input_dim=word_dim, output_dim=embedding_dim, input_length=window_size*2))\n",
        "cbow.add(layers.Lambda(lambda x: keras.backend.mean(x, axis=1), output_shape=(embedding_dim,)))\n",
        "cbow.add(layers.Dense(word_dim, activation='softmax'))"
      ],
      "execution_count": 0,
      "outputs": []
    },
    {
      "cell_type": "code",
      "metadata": {
        "id": "wZmnk3uXNATk",
        "colab_type": "code",
        "outputId": "9c755414-3f86-444d-a1a9-db0c793e4ace",
        "colab": {
          "base_uri": "https://localhost:8080/",
          "height": 255
        }
      },
      "source": [
        "cbow.summary()"
      ],
      "execution_count": 149,
      "outputs": [
        {
          "output_type": "stream",
          "text": [
            "Model: \"sequential_6\"\n",
            "_________________________________________________________________\n",
            "Layer (type)                 Output Shape              Param #   \n",
            "=================================================================\n",
            "embedding_6 (Embedding)      (None, 4, 50)             83500     \n",
            "_________________________________________________________________\n",
            "lambda_6 (Lambda)            (None, 50)                0         \n",
            "_________________________________________________________________\n",
            "dense_6 (Dense)              (None, 1670)              85170     \n",
            "=================================================================\n",
            "Total params: 168,670\n",
            "Trainable params: 168,670\n",
            "Non-trainable params: 0\n",
            "_________________________________________________________________\n"
          ],
          "name": "stdout"
        }
      ]
    },
    {
      "cell_type": "code",
      "metadata": {
        "id": "ZC29_rayOS9S",
        "colab_type": "code",
        "colab": {}
      },
      "source": [
        "cbow.compile(loss='categorical_crossentropy', optimizer='adam')"
      ],
      "execution_count": 0,
      "outputs": []
    },
    {
      "cell_type": "code",
      "metadata": {
        "id": "iI6p6a_XQJp0",
        "colab_type": "code",
        "colab": {}
      },
      "source": [
        "EPOCHS = 50"
      ],
      "execution_count": 0,
      "outputs": []
    },
    {
      "cell_type": "code",
      "metadata": {
        "id": "N7khnlNYO8Mc",
        "colab_type": "code",
        "outputId": "af0381f2-b406-4965-c3ab-218ae11a8dd2",
        "colab": {
          "base_uri": "https://localhost:8080/",
          "height": 867
        }
      },
      "source": [
        "for epoch in range(EPOCHS):\n",
        "    loss = 0.\n",
        "    for x, y in generate_data(corpus, window_size, word_dim):\n",
        "        loss += cbow.train_on_batch(x, y)\n",
        "    print(epoch, loss)"
      ],
      "execution_count": 152,
      "outputs": [
        {
          "output_type": "stream",
          "text": [
            "0 60956.90238344669\n",
            "1 53900.02279514074\n",
            "2 50723.06730273366\n",
            "3 47934.5849442482\n",
            "4 45309.833967886865\n",
            "5 42775.77981475368\n",
            "6 40373.641888419166\n",
            "7 38122.567268683575\n",
            "8 36016.304894146975\n",
            "9 34047.865109242965\n",
            "10 32208.952756148763\n",
            "11 30489.292821922805\n",
            "12 28875.449059393723\n",
            "13 27349.74358373019\n",
            "14 25901.18210765021\n",
            "15 24524.107137677027\n",
            "16 23218.164045992016\n",
            "17 21987.917958937323\n",
            "18 20838.936551275663\n",
            "19 19773.93890939711\n",
            "20 18793.25276069352\n",
            "21 17893.553881899687\n",
            "22 17068.24513838104\n",
            "23 16311.0064725931\n",
            "24 15615.35599416538\n",
            "25 14975.397048127663\n",
            "26 14385.679147525196\n",
            "27 13841.391934687534\n",
            "28 13338.371263700392\n",
            "29 12873.00139745824\n",
            "30 12441.669309500488\n",
            "31 12041.075338870774\n",
            "32 11668.426724156714\n",
            "33 11321.276443706702\n",
            "34 10997.3596588082\n",
            "35 10694.54284193155\n",
            "36 10410.913212027412\n",
            "37 10144.824350830924\n",
            "38 9894.89574141462\n",
            "39 9659.910018866622\n",
            "40 9438.747413970921\n",
            "41 9230.357172074138\n",
            "42 9033.676699448204\n",
            "43 8847.806737677834\n",
            "44 8671.904963418972\n",
            "45 8505.28017141492\n",
            "46 8347.277620613744\n",
            "47 8197.22658125054\n",
            "48 8054.691689183659\n",
            "49 7919.2112462589375\n"
          ],
          "name": "stdout"
        }
      ]
    },
    {
      "cell_type": "code",
      "metadata": {
        "id": "02BmA-nsPZwN",
        "colab_type": "code",
        "outputId": "eddc03dc-65af-4ec9-e196-0a130996d0dc",
        "colab": {
          "base_uri": "https://localhost:8080/",
          "height": 34
        }
      },
      "source": [
        "f = open('vectors.txt' ,'w')\n",
        "f.write('{} {}\\n'.format(word_dim-1, embedding_dim))"
      ],
      "execution_count": 153,
      "outputs": [
        {
          "output_type": "execute_result",
          "data": {
            "text/plain": [
              "8"
            ]
          },
          "metadata": {
            "tags": []
          },
          "execution_count": 153
        }
      ]
    },
    {
      "cell_type": "code",
      "metadata": {
        "id": "-6GGJdKwQjft",
        "colab_type": "code",
        "colab": {}
      },
      "source": [
        "vectors = cbow.get_weights()[0]\n",
        "for word, i in tokenizer.word_index.items():\n",
        "    str_vec = ' '.join(map(str, list(vectors[i, :])))\n",
        "    f.write('{} {}\\n'.format(word, str_vec))\n",
        "f.close()"
      ],
      "execution_count": 0,
      "outputs": []
    },
    {
      "cell_type": "code",
      "metadata": {
        "id": "Rm-theZrQ3ri",
        "colab_type": "code",
        "outputId": "93b5b456-91a1-492c-cd49-0eaeb4cdf6cc",
        "colab": {
          "base_uri": "https://localhost:8080/",
          "height": 71
        }
      },
      "source": [
        "w2v = gensim.models.KeyedVectors.load_word2vec_format('./vectors.txt', binary=False)"
      ],
      "execution_count": 155,
      "outputs": [
        {
          "output_type": "stream",
          "text": [
            "/usr/local/lib/python3.6/dist-packages/smart_open/smart_open_lib.py:402: UserWarning: This function is deprecated, use smart_open.open instead. See the migration notes for details: https://github.com/RaRe-Technologies/smart_open/blob/master/README.rst#migrating-to-the-new-open-function\n",
            "  'See the migration notes for details: %s' % _MIGRATION_NOTES_URL\n"
          ],
          "name": "stderr"
        }
      ]
    },
    {
      "cell_type": "code",
      "metadata": {
        "id": "1LUdlAQfREat",
        "colab_type": "code",
        "outputId": "8a982a97-e836-445a-8556-ca3b176b6285",
        "colab": {
          "base_uri": "https://localhost:8080/",
          "height": 241
        }
      },
      "source": [
        "w2v.most_similar(positive=['alice'])"
      ],
      "execution_count": 156,
      "outputs": [
        {
          "output_type": "stream",
          "text": [
            "/usr/local/lib/python3.6/dist-packages/gensim/matutils.py:737: FutureWarning: Conversion of the second argument of issubdtype from `int` to `np.signedinteger` is deprecated. In future, it will be treated as `np.int64 == np.dtype(int).type`.\n",
            "  if np.issubdtype(vec.dtype, np.int):\n"
          ],
          "name": "stderr"
        },
        {
          "output_type": "execute_result",
          "data": {
            "text/plain": [
              "[('when', 0.3810272514820099),\n",
              " ('child', 0.353360652923584),\n",
              " ('certain', 0.3337939977645874),\n",
              " ('sternly', 0.33136823773384094),\n",
              " ('splendidly', 0.32554909586906433),\n",
              " ('returning', 0.3082260191440582),\n",
              " ('magpie', 0.3078852891921997),\n",
              " ('mouse—of', 0.30231595039367676),\n",
              " ('submitted', 0.29560714960098267),\n",
              " ('latin', 0.2883782386779785)]"
            ]
          },
          "metadata": {
            "tags": []
          },
          "execution_count": 156
        }
      ]
    },
    {
      "cell_type": "code",
      "metadata": {
        "id": "WsAVhICLSgMO",
        "colab_type": "code",
        "colab": {}
      },
      "source": [
        "def tsnescatterplot(model, word, embedding_dim):\n",
        "    \"\"\" Plot in seaborn the results from the t-SNE dimensionality reduction algorithm of the vectors of a query word, and its list of most similar words\n",
        "    \"\"\"\n",
        "    arrays = np.empty((0, embedding_dim), dtype='f')\n",
        "    word_labels = [word]\n",
        "    color_list  = ['red']\n",
        "\n",
        "    # adds the vector of the query word\n",
        "    arrays = np.append(arrays, model.__getitem__([word]), axis=0)\n",
        "    \n",
        "    # gets list of most similar words\n",
        "    close_words = model.most_similar([word])\n",
        "    \n",
        "    # adds the vector for each of the closest words to the array\n",
        "    for wrd_score in close_words:\n",
        "        wrd_vector = model.__getitem__([wrd_score[0]])\n",
        "        word_labels.append(wrd_score[0])\n",
        "        color_list.append('blue')\n",
        "        arrays = np.append(arrays, wrd_vector, axis=0)\n",
        "\n",
        "    # Reduces the dimensionality to 10 dimensions with PCA\n",
        "    reduc = PCA(n_components=10).fit_transform(arrays)\n",
        "    \n",
        "    # Finds t-SNE coordinates for 2 dimensions\n",
        "    np.set_printoptions(suppress=True)\n",
        "    \n",
        "    Y = TSNE(n_components=2, random_state=0, perplexity=15).fit_transform(reduc)\n",
        "    \n",
        "    # Sets everything up to plot\n",
        "    df = pd.DataFrame({'x': [x for x in Y[:, 0]],\n",
        "                       'y': [y for y in Y[:, 1]],\n",
        "                       'words': word_labels,\n",
        "                       'color': color_list})\n",
        "    \n",
        "    fig, _ = plt.subplots()\n",
        "    fig.set_size_inches(9, 9)\n",
        "    \n",
        "    # Basic plot\n",
        "    p1 = sns.regplot(data=df,\n",
        "                     x=\"x\",\n",
        "                     y=\"y\",\n",
        "                     fit_reg=False,\n",
        "                     marker=\"o\",\n",
        "                     scatter_kws={'s': 40,\n",
        "                                  'facecolors': df['color']\n",
        "                                 }\n",
        "                    )\n",
        "    \n",
        "    # Adds annotations one by one with a loop\n",
        "    for line in range(0, df.shape[0]):\n",
        "         p1.text(df[\"x\"][line],\n",
        "                 df['y'][line],\n",
        "                 '  ' + df[\"words\"][line].title(),\n",
        "                 horizontalalignment='left',\n",
        "                 verticalalignment='bottom', size='medium',\n",
        "                 color=df['color'][line],\n",
        "                 weight='normal'\n",
        "                ).set_size(15)\n",
        "    \n",
        "    plt.xlim(Y[:, 0].min()-50, Y[:, 0].max()+50)\n",
        "    plt.ylim(Y[:, 1].min()-50, Y[:, 1].max()+50)\n",
        "            \n",
        "    plt.title('t-SNE visualization for {}'.format(word.title()))"
      ],
      "execution_count": 0,
      "outputs": []
    },
    {
      "cell_type": "code",
      "metadata": {
        "id": "CeqIeMshTFLM",
        "colab_type": "code",
        "colab": {
          "base_uri": "https://localhost:8080/",
          "height": 621
        },
        "outputId": "fb3f290d-f031-4c75-b9d6-df216b08d96a"
      },
      "source": [
        "tsnescatterplot(w2v, 'alice', embedding_dim)"
      ],
      "execution_count": 158,
      "outputs": [
        {
          "output_type": "stream",
          "text": [
            "/usr/local/lib/python3.6/dist-packages/gensim/matutils.py:737: FutureWarning: Conversion of the second argument of issubdtype from `int` to `np.signedinteger` is deprecated. In future, it will be treated as `np.int64 == np.dtype(int).type`.\n",
            "  if np.issubdtype(vec.dtype, np.int):\n"
          ],
          "name": "stderr"
        },
        {
          "output_type": "display_data",
          "data": {
            "image/png": "[encoded data removed]",
            "text/plain": [
              "<Figure size 648x648 with 1 Axes>"
            ]
          },
          "metadata": {
            "tags": []
          }
        }
      ]
    },
    {
      "cell_type": "code",
      "metadata": {
        "id": "MiK4ORCxTst4",
        "colab_type": "code",
        "colab": {
          "base_uri": "https://localhost:8080/",
          "height": 621
        },
        "outputId": "69f57bbc-8d20-49b5-cfec-bc2f22fd0dae"
      },
      "source": [
        "tsnescatterplot(w2v, 'rabbit', embedding_dim)"
      ],
      "execution_count": 159,
      "outputs": [
        {
          "output_type": "stream",
          "text": [
            "/usr/local/lib/python3.6/dist-packages/gensim/matutils.py:737: FutureWarning: Conversion of the second argument of issubdtype from `int` to `np.signedinteger` is deprecated. In future, it will be treated as `np.int64 == np.dtype(int).type`.\n",
            "  if np.issubdtype(vec.dtype, np.int):\n"
          ],
          "name": "stderr"
        },
        {
          "output_type": "display_data",
          "data": {
            "image/png": "[encoded data removed]",
            "text/plain": [
              "<Figure size 648x648 with 1 Axes>"
            ]
          },
          "metadata": {
            "tags": []
          }
        }
      ]
    }
  ]
}