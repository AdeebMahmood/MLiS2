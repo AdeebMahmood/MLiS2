{
  "nbformat": 4,
  "nbformat_minor": 0,
  "metadata": {
    "colab": {
      "name": "cbow.ipynb",
      "provenance": [],
      "authorship_tag": "ABX9TyNTHCXGm0GThJ4ch+P2+JTR",
      "include_colab_link": true
    },
    "kernelspec": {
      "name": "python3",
      "display_name": "Python 3"
    }
  },
  "cells": [
    {
      "cell_type": "markdown",
      "metadata": {
        "id": "view-in-github",
        "colab_type": "text"
      },
      "source": [
        "<a href=\"https://colab.research.google.com/github/adammoss/MLiS2/blob/master/examples/rnn/cbow.ipynb\" target=\"_parent\"><img src=\"https://colab.research.google.com/assets/colab-badge.svg\" alt=\"Open In Colab\"/></a>"
      ]
    },
    {
      "cell_type": "code",
      "metadata": {
        "id": "F8z3epFRK85X",
        "colab_type": "code",
        "colab": {
          "base_uri": "https://localhost:8080/",
          "height": 34
        },
        "outputId": "b5d296ba-fff9-4bcd-9cfc-82af52508ffa"
      },
      "source": [
        "try:\n",
        "  # %tensorflow_version only exists in Colab.\n",
        "  %tensorflow_version 2.x\n",
        "except Exception:\n",
        "  pass"
      ],
      "execution_count": 2,
      "outputs": [
        {
          "output_type": "stream",
          "text": [
            "TensorFlow 2.x selected.\n"
          ],
          "name": "stdout"
        }
      ]
    },
    {
      "cell_type": "code",
      "metadata": {
        "id": "X6RjOQA0LAwF",
        "colab_type": "code",
        "colab": {}
      },
      "source": [
        "from __future__ import absolute_import, division, print_function, unicode_literals\n",
        "\n",
        "import tensorflow as tf\n",
        "from tensorflow import keras\n",
        "from tensorflow.keras import layers\n",
        "import matplotlib.pyplot as plt\n",
        "import numpy as np\n",
        "import gensim"
      ],
      "execution_count": 0,
      "outputs": []
    },
    {
      "cell_type": "code",
      "metadata": {
        "id": "PTo52U4uLlMY",
        "colab_type": "code",
        "colab": {}
      },
      "source": [
        "tf.random.set_seed(1)"
      ],
      "execution_count": 0,
      "outputs": []
    },
    {
      "cell_type": "code",
      "metadata": {
        "id": "ePX29JpULpiu",
        "colab_type": "code",
        "colab": {
          "base_uri": "https://localhost:8080/",
          "height": 34
        },
        "outputId": "1f7afbf3-43b2-476c-d3ff-f231433eeb18"
      },
      "source": [
        "print(tf.__version__)"
      ],
      "execution_count": 5,
      "outputs": [
        {
          "output_type": "stream",
          "text": [
            "2.1.0\n"
          ],
          "name": "stdout"
        }
      ]
    },
    {
      "cell_type": "code",
      "metadata": {
        "id": "bAKBFQtlLqBF",
        "colab_type": "code",
        "colab": {}
      },
      "source": [
        "path = keras.utils.get_file('alice.txt', origin='http://www.gutenberg.org/files/11/11-0.txt')\n",
        "corpus = open(path).readlines()[:500]\n",
        "corpus = [sentence for sentence in corpus if sentence.count(' ') >= 2]\n",
        "\n",
        "tokenizer = keras.preprocessing.text.Tokenizer()\n",
        "tokenizer.fit_on_texts(corpus)\n",
        "corpus = tokenizer.texts_to_sequences(corpus)\n",
        "nb_samples = sum(len(s) for s in corpus)\n",
        "word_dim = len(tokenizer.word_index) + 1\n",
        "embedding_dim = 100\n",
        "window_size = 2"
      ],
      "execution_count": 0,
      "outputs": []
    },
    {
      "cell_type": "code",
      "metadata": {
        "id": "RmbLOb06L9hf",
        "colab_type": "code",
        "colab": {
          "base_uri": "https://localhost:8080/",
          "height": 34
        },
        "outputId": "bf1a5e08-5cf4-4cfd-a837-c543c01f7984"
      },
      "source": [
        "print(\"Found %d unique words\" % word_dim)"
      ],
      "execution_count": 20,
      "outputs": [
        {
          "output_type": "stream",
          "text": [
            "Found 1103 unique words\n"
          ],
          "name": "stdout"
        }
      ]
    },
    {
      "cell_type": "code",
      "metadata": {
        "id": "YR6-Qt_QMOTf",
        "colab_type": "code",
        "colab": {}
      },
      "source": [
        "def generate_data(corpus, window_size, word_dim):\n",
        "  maxlen = window_size*2\n",
        "  for words in corpus:\n",
        "    L = len(words)\n",
        "    for index, word in enumerate(words):\n",
        "      contexts = []\n",
        "      labels   = []            \n",
        "      s = index - window_size\n",
        "      e = index + window_size + 1\n",
        "      contexts.append([words[i] for i in range(s, e) if 0 <= i < L and i != index])\n",
        "      labels.append(word)\n",
        "      x = keras.preprocessing.sequence.pad_sequences(contexts, maxlen=maxlen)\n",
        "      y = keras.utils.to_categorical(labels, word_dim)\n",
        "      yield (x, y)"
      ],
      "execution_count": 0,
      "outputs": []
    },
    {
      "cell_type": "code",
      "metadata": {
        "id": "0f7d7aDrM3Yy",
        "colab_type": "code",
        "colab": {}
      },
      "source": [
        "cbow = keras.Sequential()\n",
        "cbow.add(layers.Embedding(input_dim=word_dim, output_dim=embedding_dim, input_length=window_size*2))\n",
        "cbow.add(layers.Lambda(lambda x: keras.backend.mean(x, axis=1), output_shape=(embedding_dim,)))\n",
        "cbow.add(layers.Dense(word_dim, activation='softmax'))"
      ],
      "execution_count": 0,
      "outputs": []
    },
    {
      "cell_type": "code",
      "metadata": {
        "id": "wZmnk3uXNATk",
        "colab_type": "code",
        "colab": {
          "base_uri": "https://localhost:8080/",
          "height": 255
        },
        "outputId": "0074bc1a-745f-468d-a344-ea40d22722fc"
      },
      "source": [
        "cbow.summary()"
      ],
      "execution_count": 33,
      "outputs": [
        {
          "output_type": "stream",
          "text": [
            "Model: \"sequential_5\"\n",
            "_________________________________________________________________\n",
            "Layer (type)                 Output Shape              Param #   \n",
            "=================================================================\n",
            "embedding_4 (Embedding)      (None, 4, 100)            110300    \n",
            "_________________________________________________________________\n",
            "lambda_3 (Lambda)            (None, 100)               0         \n",
            "_________________________________________________________________\n",
            "dense_2 (Dense)              (None, 1103)              111403    \n",
            "=================================================================\n",
            "Total params: 221,703\n",
            "Trainable params: 221,703\n",
            "Non-trainable params: 0\n",
            "_________________________________________________________________\n"
          ],
          "name": "stdout"
        }
      ]
    },
    {
      "cell_type": "code",
      "metadata": {
        "id": "ZC29_rayOS9S",
        "colab_type": "code",
        "colab": {}
      },
      "source": [
        "cbow.compile(loss='categorical_crossentropy', optimizer='adam')"
      ],
      "execution_count": 0,
      "outputs": []
    },
    {
      "cell_type": "code",
      "metadata": {
        "id": "iI6p6a_XQJp0",
        "colab_type": "code",
        "colab": {}
      },
      "source": [
        "EPOCHS = 10"
      ],
      "execution_count": 0,
      "outputs": []
    },
    {
      "cell_type": "code",
      "metadata": {
        "id": "N7khnlNYO8Mc",
        "colab_type": "code",
        "colab": {
          "base_uri": "https://localhost:8080/",
          "height": 187
        },
        "outputId": "67ab5362-132c-4402-80e5-390f82848602"
      },
      "source": [
        "for epoch in range(EPOCHS):\n",
        "    loss = 0.\n",
        "    for x, y in generate_data(corpus, window_size, V):\n",
        "        loss += cbow.train_on_batch(x, y)\n",
        "    print(epoch, loss)"
      ],
      "execution_count": 35,
      "outputs": [
        {
          "output_type": "stream",
          "text": [
            "0 30694.245127916336\n",
            "1 26644.468227624893\n",
            "2 24520.527456611395\n",
            "3 22430.948384150863\n",
            "4 20346.574242837727\n",
            "5 18315.21217214316\n",
            "6 16384.445414680988\n",
            "7 14579.34523926489\n",
            "8 12909.14413444139\n",
            "9 11377.445527866483\n"
          ],
          "name": "stdout"
        }
      ]
    },
    {
      "cell_type": "code",
      "metadata": {
        "id": "02BmA-nsPZwN",
        "colab_type": "code",
        "colab": {
          "base_uri": "https://localhost:8080/",
          "height": 34
        },
        "outputId": "019b2b16-f212-452b-cd22-6df5ddf9500d"
      },
      "source": [
        "f = open('vectors.txt' ,'w')\n",
        "f.write('{} {}\\n'.format(word_dim-1, embedding_dim))"
      ],
      "execution_count": 44,
      "outputs": [
        {
          "output_type": "execute_result",
          "data": {
            "text/plain": [
              "9"
            ]
          },
          "metadata": {
            "tags": []
          },
          "execution_count": 44
        }
      ]
    },
    {
      "cell_type": "code",
      "metadata": {
        "id": "-6GGJdKwQjft",
        "colab_type": "code",
        "colab": {}
      },
      "source": [
        "vectors = cbow.get_weights()[0]\n",
        "for word, i in tokenizer.word_index.items():\n",
        "    str_vec = ' '.join(map(str, list(vectors[i, :])))\n",
        "    f.write('{} {}\\n'.format(word, str_vec))\n",
        "f.close()"
      ],
      "execution_count": 0,
      "outputs": []
    },
    {
      "cell_type": "code",
      "metadata": {
        "id": "Rm-theZrQ3ri",
        "colab_type": "code",
        "colab": {
          "base_uri": "https://localhost:8080/",
          "height": 71
        },
        "outputId": "53c7d093-ab52-4195-ed21-39181928ec95"
      },
      "source": [
        "w2v = gensim.models.KeyedVectors.load_word2vec_format('./vectors.txt', binary=False)"
      ],
      "execution_count": 46,
      "outputs": [
        {
          "output_type": "stream",
          "text": [
            "/usr/local/lib/python3.6/dist-packages/smart_open/smart_open_lib.py:402: UserWarning: This function is deprecated, use smart_open.open instead. See the migration notes for details: https://github.com/RaRe-Technologies/smart_open/blob/master/README.rst#migrating-to-the-new-open-function\n",
            "  'See the migration notes for details: %s' % _MIGRATION_NOTES_URL\n"
          ],
          "name": "stderr"
        }
      ]
    },
    {
      "cell_type": "code",
      "metadata": {
        "id": "1LUdlAQfREat",
        "colab_type": "code",
        "colab": {
          "base_uri": "https://localhost:8080/",
          "height": 241
        },
        "outputId": "f5c7d959-28b3-4f15-fc95-63fb618a72cf"
      },
      "source": [
        "w2v.most_similar(positive=['alice'])"
      ],
      "execution_count": 47,
      "outputs": [
        {
          "output_type": "stream",
          "text": [
            "/usr/local/lib/python3.6/dist-packages/gensim/matutils.py:737: FutureWarning: Conversion of the second argument of issubdtype from `int` to `np.signedinteger` is deprecated. In future, it will be treated as `np.int64 == np.dtype(int).type`.\n",
            "  if np.issubdtype(vec.dtype, np.int):\n"
          ],
          "name": "stderr"
        },
        {
          "output_type": "execute_result",
          "data": {
            "text/plain": [
              "[('severely', 0.4334946274757385),\n",
              " ('anxiously', 0.37974250316619873),\n",
              " ('cry', 0.3641851544380188),\n",
              " ('hurt', 0.3614460527896881),\n",
              " ('indeed', 0.3588726818561554),\n",
              " ('“well', 0.3446401357650757),\n",
              " ('saying', 0.3297501504421234),\n",
              " ('hadn’t', 0.3283589780330658),\n",
              " ('child', 0.32811883091926575),\n",
              " ('she', 0.32219991087913513)]"
            ]
          },
          "metadata": {
            "tags": []
          },
          "execution_count": 47
        }
      ]
    },
    {
      "cell_type": "code",
      "metadata": {
        "id": "DqjCSfbLRMLD",
        "colab_type": "code",
        "colab": {}
      },
      "source": [
        ""
      ],
      "execution_count": 0,
      "outputs": []
    }
  ]
}