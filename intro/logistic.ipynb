{
  "nbformat": 4,
  "nbformat_minor": 0,
  "metadata": {
    "colab": {
      "name": "logistic.ipynb",
      "provenance": [],
      "authorship_tag": "ABX9TyNWw99hXXmtp/guNA88eiQ+",
      "include_colab_link": true
    },
    "kernelspec": {
      "name": "python3",
      "display_name": "Python 3"
    }
  },
  "cells": [
    {
      "cell_type": "markdown",
      "metadata": {
        "id": "view-in-github",
        "colab_type": "text"
      },
      "source": [
        "<a href=\"https://colab.research.google.com/github/adammoss/MLiS2/blob/master/intro/logistic.ipynb\" target=\"_parent\"><img src=\"https://colab.research.google.com/assets/colab-badge.svg\" alt=\"Open In Colab\"/></a>"
      ]
    },
    {
      "cell_type": "markdown",
      "metadata": {
        "id": "pZAKI-4lIw1E",
        "colab_type": "text"
      },
      "source": [
        "The logistic model is given by \n",
        "$\n",
        "\\hat{y} = \\sigma \\left( \\mathbf{x}^T \\mathbf{w} \\right)\\,,\n",
        "$\n",
        "where $\\sigma$ is the sigmoid function. \n",
        "\n",
        "Logistic regression is commonly used to estimate the probability that an example belong to a specific binary class, i.e. \n",
        "$\n",
        "\\hat{y}  = P (y = 1 |  \\mathbf{x})\\,.\n",
        "$\n",
        "\n",
        "There is no general closed form solution for the weights, so we will use a similar iterative procedure to the perceptron algorithm. Since  the activation function is differentiable we can use gradient descent,  and if the loss function is convex it is guaranteed to find the optimal solution.  Gradient descent proposes a new set of weights\n",
        "\n",
        " $\n",
        " \\mathbf{w}  \\rightarrow  \\mathbf{w}  - \\alpha \\nabla_{\\mathbf{w}}  L  (\\mathbf{w})\\,, \n",
        " $\n",
        "\n",
        "where $\\alpha$ is the learning rate, a positive scalar that determines the size of the update. There are several ways to choose $\\alpha$, which we will discuss later on. For now we will set it to a small constant.  \n",
        "\n",
        "We will again attempt to learn the AND and XOR functions, but now use the BCE loss.  In the logistic model the gradient of the BCE loss with respect to the weights can be shown to be \n",
        "\n",
        " $\n",
        " \\nabla_{\\mathbf{w}}  L  (\\mathbf{w})  = \\frac{1}{N} \\sum^N_i \\left( \\hat{y}^{(i)}  - y^{(i)} \\right) \\mathbf{x}^{(i)} = \\frac{1}{N} \\mathbf{X}^T \\left( \\hat{\\mathbf{Y}} -  \\mathbf{Y}\\right)\\,,\n",
        " $\n",
        "\n",
        "Gradient descent for logistic regression therefore strongly resembles the perceptron learning algorithm. "
      ]
    },
    {
      "cell_type": "code",
      "metadata": {
        "id": "kdryppQfK6a_",
        "colab_type": "code",
        "colab": {}
      },
      "source": [
        "import numpy as np\n",
        "import matplotlib.pyplot as plt\n",
        "from matplotlib import cm"
      ],
      "execution_count": 0,
      "outputs": []
    },
    {
      "cell_type": "code",
      "metadata": {
        "id": "7mlM8FhhLkzQ",
        "colab_type": "code",
        "colab": {}
      },
      "source": [
        "def sigmoid(x):\n",
        "  return 1/(1 + np.exp(-x)) "
      ],
      "execution_count": 0,
      "outputs": []
    },
    {
      "cell_type": "markdown",
      "metadata": {
        "id": "bxhRPFl2LAu0",
        "colab_type": "text"
      },
      "source": [
        "Let us first attempt to learn the AND function. We will set the initial weights to a small random value, the learning rate to  𝛼=0.01  and use a fixed number of iterations.\n",
        "\n"
      ]
    },
    {
      "cell_type": "code",
      "metadata": {
        "id": "JrO22m2aLDZf",
        "colab_type": "code",
        "colab": {
          "base_uri": "https://localhost:8080/",
          "height": 85
        },
        "outputId": "bf266343-cfb4-4ca5-9362-6e4d4e19e0f3"
      },
      "source": [
        "X = np.array([[1,0,0], [1,0,1], [1,1,0], [1,1,1]])\n",
        "print(X)"
      ],
      "execution_count": 211,
      "outputs": [
        {
          "output_type": "stream",
          "text": [
            "[[1 0 0]\n",
            " [1 0 1]\n",
            " [1 1 0]\n",
            " [1 1 1]]\n"
          ],
          "name": "stdout"
        }
      ]
    },
    {
      "cell_type": "code",
      "metadata": {
        "id": "39SFBVMuLGah",
        "colab_type": "code",
        "colab": {
          "base_uri": "https://localhost:8080/",
          "height": 85
        },
        "outputId": "6f9151f2-9b3e-4c8a-9dd1-f3d5d51ae70d"
      },
      "source": [
        "Y = np.array([[0], [0], [0], [1]])\n",
        "print(Y)"
      ],
      "execution_count": 212,
      "outputs": [
        {
          "output_type": "stream",
          "text": [
            "[[0]\n",
            " [0]\n",
            " [0]\n",
            " [1]]\n"
          ],
          "name": "stdout"
        }
      ]
    },
    {
      "cell_type": "code",
      "metadata": {
        "id": "gLEfr5B6LIfT",
        "colab_type": "code",
        "colab": {
          "base_uri": "https://localhost:8080/",
          "height": 68
        },
        "outputId": "9dfb12eb-efea-4e21-f84b-13091f20b018"
      },
      "source": [
        "np.random.seed(0)\n",
        "w = 0.1 * np.random.random(size=(3, 1))\n",
        "print(w)"
      ],
      "execution_count": 213,
      "outputs": [
        {
          "output_type": "stream",
          "text": [
            "[[0.05488135]\n",
            " [0.07151894]\n",
            " [0.06027634]]\n"
          ],
          "name": "stdout"
        }
      ]
    },
    {
      "cell_type": "code",
      "metadata": {
        "id": "-aC0XZ07LKqD",
        "colab_type": "code",
        "colab": {}
      },
      "source": [
        "learning_rate = 0.1\n",
        "num_epochs = 10000"
      ],
      "execution_count": 0,
      "outputs": []
    },
    {
      "cell_type": "code",
      "metadata": {
        "id": "bOyWUef4LM0I",
        "colab_type": "code",
        "colab": {}
      },
      "source": [
        "for i in range(num_epochs):\n",
        "  Yhat = sigmoid(np.matmul(X, w))\n",
        "  w -= learning_rate * np.matmul(X.T, Yhat - Y)"
      ],
      "execution_count": 0,
      "outputs": []
    },
    {
      "cell_type": "code",
      "metadata": {
        "id": "T1wnuSlpN1HP",
        "colab_type": "code",
        "colab": {
          "base_uri": "https://localhost:8080/",
          "height": 68
        },
        "outputId": "822fc6a5-f84c-4f7e-ee0f-13a02c501e08"
      },
      "source": [
        "print(w)"
      ],
      "execution_count": 216,
      "outputs": [
        {
          "output_type": "stream",
          "text": [
            "[[-15.5074077 ]\n",
            " [ 10.22541225]\n",
            " [ 10.22541225]]\n"
          ],
          "name": "stdout"
        }
      ]
    },
    {
      "cell_type": "code",
      "metadata": {
        "id": "aY949NtlPV4O",
        "colab_type": "code",
        "colab": {
          "base_uri": "https://localhost:8080/",
          "height": 85
        },
        "outputId": "70b346e8-978b-4fd6-8b51-6e7ac78ad064"
      },
      "source": [
        "Yhat = sigmoid(np.matmul(X, w))\n",
        "print(Yhat)"
      ],
      "execution_count": 217,
      "outputs": [
        {
          "output_type": "stream",
          "text": [
            "[[1.84169761e-07]\n",
            " [5.05658027e-03]\n",
            " [5.05658027e-03]\n",
            " [9.92920285e-01]]\n"
          ],
          "name": "stdout"
        }
      ]
    },
    {
      "cell_type": "code",
      "metadata": {
        "id": "gJH3asrxPYii",
        "colab_type": "code",
        "colab": {}
      },
      "source": [
        "id0 = np.where(Y[:, 0] == 0)\n",
        "id1 = np.where(Y[:, 0] == 1)"
      ],
      "execution_count": 0,
      "outputs": []
    },
    {
      "cell_type": "code",
      "metadata": {
        "id": "h77E-k9kPjqK",
        "colab_type": "code",
        "colab": {}
      },
      "source": [
        "xx, yy = np.mgrid[-1:2:.01, -1:2:.01]\n",
        "Yhat = sigmoid(w[0] + w[1] * xx + w[2] * yy)"
      ],
      "execution_count": 0,
      "outputs": []
    },
    {
      "cell_type": "code",
      "metadata": {
        "id": "pkOME0amPnNF",
        "colab_type": "code",
        "colab": {
          "base_uri": "https://localhost:8080/",
          "height": 285
        },
        "outputId": "fcc4bf56-83d8-486e-9771-d91fc029f76e"
      },
      "source": [
        "plt.figure()\n",
        "plt.contourf(xx, yy, Yhat, alpha=0.5)\n",
        "plt.scatter(X[id0, 1], X[id0, 2], color='blue')\n",
        "plt.scatter(X[id1, 1], X[id1, 2], color='red')\n",
        "plt.xlabel('$x_1$', fontsize=16)\n",
        "plt.ylabel('$x_2$', fontsize=16)\n",
        "plt.show()"
      ],
      "execution_count": 220,
      "outputs": [
        {
          "output_type": "display_data",
          "data": {
            "image/png": "[encoded data removed]",
            "text/plain": [
              "<Figure size 432x288 with 1 Axes>"
            ]
          },
          "metadata": {
            "tags": []
          }
        }
      ]
    },
    {
      "cell_type": "code",
      "metadata": {
        "id": "erAA4KhuPpVr",
        "colab_type": "code",
        "colab": {
          "base_uri": "https://localhost:8080/",
          "height": 85
        },
        "outputId": "f9cf7d8f-d69b-4e6f-cc73-b77b74deb341"
      },
      "source": [
        "Y = np.array([[0], [1], [1], [0]])\n",
        "print(Y)"
      ],
      "execution_count": 221,
      "outputs": [
        {
          "output_type": "stream",
          "text": [
            "[[0]\n",
            " [1]\n",
            " [1]\n",
            " [0]]\n"
          ],
          "name": "stdout"
        }
      ]
    },
    {
      "cell_type": "code",
      "metadata": {
        "id": "LN8cPKjuP1BW",
        "colab_type": "code",
        "colab": {
          "base_uri": "https://localhost:8080/",
          "height": 68
        },
        "outputId": "4f4ddba6-3696-4a26-9035-a308691b2af3"
      },
      "source": [
        "np.random.seed(0)\n",
        "w = 0.1 * np.random.random(size=(3, 1))\n",
        "print(w)"
      ],
      "execution_count": 222,
      "outputs": [
        {
          "output_type": "stream",
          "text": [
            "[[0.05488135]\n",
            " [0.07151894]\n",
            " [0.06027634]]\n"
          ],
          "name": "stdout"
        }
      ]
    },
    {
      "cell_type": "code",
      "metadata": {
        "id": "bYV_66S1P6FF",
        "colab_type": "code",
        "colab": {}
      },
      "source": [
        "for i in range(num_epochs):\n",
        "  Yhat = sigmoid(np.matmul(X, w))\n",
        "  w -= learning_rate * np.matmul(X.T, Yhat - Y)"
      ],
      "execution_count": 0,
      "outputs": []
    },
    {
      "cell_type": "code",
      "metadata": {
        "id": "hgOz8509P9xo",
        "colab_type": "code",
        "colab": {
          "base_uri": "https://localhost:8080/",
          "height": 68
        },
        "outputId": "768eefb0-a1bc-404d-da37-db940902f831"
      },
      "source": [
        "print(w)"
      ],
      "execution_count": 224,
      "outputs": [
        {
          "output_type": "stream",
          "text": [
            "[[-3.28399605e-16]\n",
            " [ 2.41896455e-16]\n",
            " [ 2.47572488e-16]]\n"
          ],
          "name": "stdout"
        }
      ]
    },
    {
      "cell_type": "code",
      "metadata": {
        "id": "QrBSdgLGQDGV",
        "colab_type": "code",
        "colab": {
          "base_uri": "https://localhost:8080/",
          "height": 85
        },
        "outputId": "17416538-407a-43aa-fc03-37e96a1ce84e"
      },
      "source": [
        "Yhat = sigmoid(np.matmul(X, w))\n",
        "print(Yhat)"
      ],
      "execution_count": 225,
      "outputs": [
        {
          "output_type": "stream",
          "text": [
            "[[0.5]\n",
            " [0.5]\n",
            " [0.5]\n",
            " [0.5]]\n"
          ],
          "name": "stdout"
        }
      ]
    },
    {
      "cell_type": "code",
      "metadata": {
        "id": "fwPHe5NGQFbf",
        "colab_type": "code",
        "colab": {}
      },
      "source": [
        "id0 = np.where(Y[:, 0] == 0)\n",
        "id1 = np.where(Y[:, 0] == 1)"
      ],
      "execution_count": 0,
      "outputs": []
    },
    {
      "cell_type": "code",
      "metadata": {
        "id": "o3UcGXxxQKKN",
        "colab_type": "code",
        "colab": {}
      },
      "source": [
        "xx, yy = np.mgrid[-1:2:.01, -1:2:.01]\n",
        "Yhat = sigmoid(w[0] + w[1] * xx + w[2] * yy)"
      ],
      "execution_count": 0,
      "outputs": []
    },
    {
      "cell_type": "code",
      "metadata": {
        "id": "X5ug51lCQNbr",
        "colab_type": "code",
        "colab": {
          "base_uri": "https://localhost:8080/",
          "height": 285
        },
        "outputId": "02d5d88a-e654-45ce-dea3-3e4d25620af4"
      },
      "source": [
        "plt.figure()\n",
        "plt.contourf(xx, yy, Yhat, alpha=0.5)\n",
        "plt.scatter(X[id0, 1], X[id0, 2], color='blue')\n",
        "plt.scatter(X[id1, 1], X[id1, 2], color='red')\n",
        "plt.xlabel('$x_1$', fontsize=16)\n",
        "plt.ylabel('$x_2$', fontsize=16)\n",
        "plt.show()"
      ],
      "execution_count": 228,
      "outputs": [
        {
          "output_type": "display_data",
          "data": {
            "image/png": "[encoded data removed]",
            "text/plain": [
              "<Figure size 432x288 with 1 Axes>"
            ]
          },
          "metadata": {
            "tags": []
          }
        }
      ]
    }
  ]
}