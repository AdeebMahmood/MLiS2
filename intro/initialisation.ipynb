{
  "nbformat": 4,
  "nbformat_minor": 0,
  "metadata": {
    "colab": {
      "name": "initialisation.ipynb",
      "provenance": [],
      "authorship_tag": "ABX9TyOcJ9cfEPQxqSqg+yLaBpMs",
      "include_colab_link": true
    },
    "kernelspec": {
      "name": "python3",
      "display_name": "Python 3"
    }
  },
  "cells": [
    {
      "cell_type": "markdown",
      "metadata": {
        "id": "view-in-github",
        "colab_type": "text"
      },
      "source": [
        "<a href=\"https://colab.research.google.com/github/adammoss/MLiS2/blob/master/intro/initialisation.ipynb\" target=\"_parent\"><img src=\"https://colab.research.google.com/assets/colab-badge.svg\" alt=\"Open In Colab\"/></a>"
      ]
    },
    {
      "cell_type": "markdown",
      "metadata": {
        "id": "cqhT7wvaomGZ",
        "colab_type": "text"
      },
      "source": [
        "During back-propogation, it is important that gradients do not become either too small or too large as the algorithm progresses down to the lower layers. If the gradients become small, training will proceed at a much slower rate and may not converge. This is called the vanishing gradients problem. If the gradients become too large, the algorithm may diverge. This is called the exploding gradients problem, and is mostly encountered in recurrent neural networks.\n",
        "\n",
        "To see why this can be a problem, consider a deep MLP with 100 hidden layers, each with 100 hidden units (setting the bias of each to zero for simplicity) and a sigmoid activation function. We assume the input data (also with dimension 100) and the weights are normally distributed with zero mean and unit variance, i.e. $\\mathcal{N}(0, 1)$. \n"
      ]
    },
    {
      "cell_type": "code",
      "metadata": {
        "id": "4Gq67iQ-JTVV",
        "colab_type": "code",
        "colab": {}
      },
      "source": [
        "import numpy as np\n",
        "import matplotlib.pyplot as plt"
      ],
      "execution_count": 0,
      "outputs": []
    },
    {
      "cell_type": "code",
      "metadata": {
        "id": "toG3BQWar8_s",
        "colab_type": "code",
        "colab": {}
      },
      "source": [
        "np.random.seed(0)"
      ],
      "execution_count": 0,
      "outputs": []
    },
    {
      "cell_type": "code",
      "metadata": {
        "id": "remhT_x1hPFS",
        "colab_type": "code",
        "colab": {}
      },
      "source": [
        "def sigmoid(x):\n",
        "  return 1/(1 + np.exp(-x))"
      ],
      "execution_count": 0,
      "outputs": []
    },
    {
      "cell_type": "code",
      "metadata": {
        "id": "kydy6eldnxUd",
        "colab_type": "code",
        "colab": {}
      },
      "source": [
        "hidden_units = 100"
      ],
      "execution_count": 0,
      "outputs": []
    },
    {
      "cell_type": "code",
      "metadata": {
        "id": "XEhKV33ygc4N",
        "colab_type": "code",
        "colab": {}
      },
      "source": [
        "X = np.random.normal(size=(1000, hidden_units))"
      ],
      "execution_count": 0,
      "outputs": []
    },
    {
      "cell_type": "code",
      "metadata": {
        "id": "0jeXWXlcjMW8",
        "colab_type": "code",
        "colab": {}
      },
      "source": [
        "def test_initialisation(X, num_layers, activation, scale):\n",
        "  a = np.copy(X)\n",
        "  plt.figure(figsize=(15,10))\n",
        "  for i in range(num_layers):\n",
        "    W = np.random.normal(scale=scale, size=(hidden_units, hidden_units))\n",
        "    z = np.matmul(a, W)\n",
        "    a = np.copy(activation(z))\n",
        "    if i % 20 == 0:\n",
        "      ax = plt.subplot(2,2,1)\n",
        "      _ = ax.hist(a.flatten(), label='Layer ' + str(i))\n",
        "      ax.set_xlabel('$\\Phi$', fontsize=14)\n",
        "      ax = plt.subplot(2,2,2)\n",
        "      _ = ax.hist(a.flatten() * (1 - a.flatten() ), label='Layer ' + str(i))\n",
        "      ax.set_xlabel('$\\Phi^{\\prime}$', fontsize=14)\n",
        "  plt.legend()\n",
        "  plt.show()"
      ],
      "execution_count": 0,
      "outputs": []
    },
    {
      "cell_type": "markdown",
      "metadata": {
        "id": "MLvdIdsBQFyN",
        "colab_type": "text"
      },
      "source": [
        "The distribution of activations and their gradient after every 20th layer is shown below. The activations immediately saturate and the gradients become small. \n"
      ]
    },
    {
      "cell_type": "code",
      "metadata": {
        "id": "c9_BMeKBnkce",
        "colab_type": "code",
        "outputId": "45d2f1f7-8a63-4316-9c6f-8ca58c3475ed",
        "colab": {
          "base_uri": "https://localhost:8080/",
          "height": 402
        }
      },
      "source": [
        "test_initialisation(X, 100, sigmoid, 1)"
      ],
      "execution_count": 38,
      "outputs": [
        {
          "output_type": "stream",
          "text": [
            "/usr/local/lib/python3.6/dist-packages/ipykernel_launcher.py:9: MatplotlibDeprecationWarning: Adding an axes using the same arguments as a previous axes currently reuses the earlier instance.  In a future version, a new instance will always be created and returned.  Meanwhile, this warning can be suppressed, and the future behavior ensured, by passing a unique label to each axes instance.\n",
            "  if __name__ == '__main__':\n",
            "/usr/local/lib/python3.6/dist-packages/ipykernel_launcher.py:12: MatplotlibDeprecationWarning: Adding an axes using the same arguments as a previous axes currently reuses the earlier instance.  In a future version, a new instance will always be created and returned.  Meanwhile, this warning can be suppressed, and the future behavior ensured, by passing a unique label to each axes instance.\n",
            "  if sys.path[0] == '':\n"
          ],
          "name": "stderr"
        },
        {
          "output_type": "display_data",
          "data": {
            "image/png": "[encoded data removed]",
            "text/plain": [
              "<Figure size 1080x720 with 2 Axes>"
            ]
          },
          "metadata": {
            "tags": []
          }
        }
      ]
    },
    {
      "cell_type": "markdown",
      "metadata": {
        "id": "_rGdTkHRQUs3",
        "colab_type": "text"
      },
      "source": [
        "Ideally, we would to preserve the signal variance throughout the network, such that it neither dies out nor saturates. The variance of the output of a neuron should therefore be equal to the variance of its inputs. To understand how this can be achieved, consider the  input to the $i$th neuron in layer $\\ell$\n",
        "\n",
        "$\n",
        "z^{(\\ell)}_i =  \\sum_{j=1}^{n_{\\rm inputs}} a_j^{(\\ell-1)} W_{ji}^{(\\ell)} \\,.\n",
        "$\n",
        "\n",
        "The variance of this is \n",
        "\n",
        "$\n",
        "{\\rm Var} [z^{(\\ell)}_i ] =  \\sum_{j=1}^{n_{\\rm inputs}} {\\rm Var}  [a_j^{(\\ell-1)}] \\, {\\rm Var}[W_{ji}^{(\\ell)}]\\,,\n",
        "$\n",
        "\n",
        "which is equal to  $n_{\\rm inputs} {\\rm Var}  [a_j^{(\\ell-1)}] \\, {\\rm Var}[W_{ji}^{(\\ell)}]$ if the variance of each input is the same. \n",
        "\n",
        "In order for the variance out to be equal to the variance in, the variance of the weights should therefore by rescaled by $1 / n_{\\rm inputs}$. During back-propogation, we would also like to preserve the gradient variance, which can be achieved by rescaling the variance of the weights by $1 / n_{\\rm outputs}$, where $n_{\\rm outputs}$ is the number of outputs from a neuron. A simple heuristic that balances both requirements is a weight initialisation of either \n",
        "\n",
        "$\n",
        "W_{ij} \\sim \\mathcal{U} \\left( -\\sqrt{\\frac{6}{n_{\\rm inputs}+n_{\\rm outputs}}},  \\sqrt{\\frac{6}{n_{\\rm inputs}+n_{\\rm outputs}}}\\right)\\,,\n",
        "$\n",
        "\n",
        "if the weights are initially drawn from a uniform distribution, and \n",
        "\n",
        "$\n",
        "W_{ij} \\sim \\mathcal{N} \\left( 0,  \\sqrt{\\frac{2}{n_{\\rm inputs}+n_{\\rm outputs}}}\\right)\\,,\n",
        "$\n",
        "\n",
        "if the initial weights are drawn from a normal distribution. Both are commonly used and give similar results. This initialisation strategy is called Xavier initialisation or  Glorot initialisation. \n",
        "\n",
        "The results of using Xavier initialisation are shown below. It can be seen that activations and their gradients retain similar variance throughout the the network."
      ]
    },
    {
      "cell_type": "code",
      "metadata": {
        "id": "DVyGFFF1huHr",
        "colab_type": "code",
        "outputId": "e1a3a566-c9e7-4895-99d2-a7428cc69ade",
        "colab": {
          "base_uri": "https://localhost:8080/",
          "height": 402
        }
      },
      "source": [
        "test_initialisation(X, 100, sigmoid, np.sqrt(1 / hidden_units))"
      ],
      "execution_count": 39,
      "outputs": [
        {
          "output_type": "stream",
          "text": [
            "/usr/local/lib/python3.6/dist-packages/ipykernel_launcher.py:9: MatplotlibDeprecationWarning: Adding an axes using the same arguments as a previous axes currently reuses the earlier instance.  In a future version, a new instance will always be created and returned.  Meanwhile, this warning can be suppressed, and the future behavior ensured, by passing a unique label to each axes instance.\n",
            "  if __name__ == '__main__':\n",
            "/usr/local/lib/python3.6/dist-packages/ipykernel_launcher.py:12: MatplotlibDeprecationWarning: Adding an axes using the same arguments as a previous axes currently reuses the earlier instance.  In a future version, a new instance will always be created and returned.  Meanwhile, this warning can be suppressed, and the future behavior ensured, by passing a unique label to each axes instance.\n",
            "  if sys.path[0] == '':\n"
          ],
          "name": "stderr"
        },
        {
          "output_type": "display_data",
          "data": {
            "image/png": "[encoded data removed]",
            "text/plain": [
              "<Figure size 1080x720 with 2 Axes>"
            ]
          },
          "metadata": {
            "tags": []
          }
        }
      ]
    }
  ]
}