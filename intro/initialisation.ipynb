{
  "nbformat": 4,
  "nbformat_minor": 0,
  "metadata": {
    "colab": {
      "name": "initialisation.ipynb",
      "provenance": [],
      "authorship_tag": "ABX9TyMU0NJZ3MYi7YgVjamRXoke",
      "include_colab_link": true
    },
    "kernelspec": {
      "name": "python3",
      "display_name": "Python 3"
    }
  },
  "cells": [
    {
      "cell_type": "markdown",
      "metadata": {
        "id": "view-in-github",
        "colab_type": "text"
      },
      "source": [
        "<a href=\"https://colab.research.google.com/github/adammoss/MLiS2/blob/master/intro/initialisation.ipynb\" target=\"_parent\"><img src=\"https://colab.research.google.com/assets/colab-badge.svg\" alt=\"Open In Colab\"/></a>"
      ]
    },
    {
      "cell_type": "markdown",
      "metadata": {
        "id": "cqhT7wvaomGZ",
        "colab_type": "text"
      },
      "source": [
        "During back-propogation, it is important that gradients do not become either too small or too large as the algorithm progresses down to the lower layers. If the gradients become small, training will proceed at a much slower rate and may not converge. This is called the vanishing gradients problem. If the gradients become too large, the algorithm may diverge. This is called the exploding gradients problem, and is mostly encountered in recurrent neural networks."
      ]
    },
    {
      "cell_type": "code",
      "metadata": {
        "id": "4Gq67iQ-JTVV",
        "colab_type": "code",
        "colab": {}
      },
      "source": [
        "import numpy as np\n",
        "import matplotlib.pyplot as plt"
      ],
      "execution_count": 0,
      "outputs": []
    },
    {
      "cell_type": "code",
      "metadata": {
        "id": "toG3BQWar8_s",
        "colab_type": "code",
        "colab": {}
      },
      "source": [
        "np.random.seed(0)"
      ],
      "execution_count": 0,
      "outputs": []
    },
    {
      "cell_type": "code",
      "metadata": {
        "id": "remhT_x1hPFS",
        "colab_type": "code",
        "colab": {}
      },
      "source": [
        "def sigmoid(x):\n",
        "  return 1/(1 + np.exp(-x))"
      ],
      "execution_count": 0,
      "outputs": []
    },
    {
      "cell_type": "code",
      "metadata": {
        "id": "kydy6eldnxUd",
        "colab_type": "code",
        "colab": {}
      },
      "source": [
        "hidden_units = 100"
      ],
      "execution_count": 0,
      "outputs": []
    },
    {
      "cell_type": "code",
      "metadata": {
        "id": "XEhKV33ygc4N",
        "colab_type": "code",
        "colab": {}
      },
      "source": [
        "X = np.random.normal(size=(1000, hidden_units))"
      ],
      "execution_count": 0,
      "outputs": []
    },
    {
      "cell_type": "code",
      "metadata": {
        "id": "0jeXWXlcjMW8",
        "colab_type": "code",
        "colab": {}
      },
      "source": [
        "def test_initialisation(X, num_layers, activation, scale):\n",
        "  a = np.copy(X)\n",
        "  plt.figure()\n",
        "  for i in range(num_layers):\n",
        "    W = np.random.normal(scale=scale, size=(hidden_units, hidden_units))\n",
        "    z = np.matmul(a, W)\n",
        "    a = np.copy(activation(z))\n",
        "    if i % 20 == 0:\n",
        "      _ = plt.hist(a.flatten(), label='Layer ' + str(i))\n",
        "  plt.xlabel('Activation', fontsize=14)\n",
        "  plt.legend()\n",
        "  plt.show()"
      ],
      "execution_count": 0,
      "outputs": []
    },
    {
      "cell_type": "code",
      "metadata": {
        "id": "c9_BMeKBnkce",
        "colab_type": "code",
        "colab": {
          "base_uri": "https://localhost:8080/",
          "height": 283
        },
        "outputId": "97f2fbed-3a3c-443d-906c-b6d2a8b1fd1b"
      },
      "source": [
        "test_initialisation(X, 100, sigmoid, 1)"
      ],
      "execution_count": 271,
      "outputs": [
        {
          "output_type": "display_data",
          "data": {
            "image/png": "[encoded data removed]",
            "text/plain": [
              "<Figure size 432x288 with 1 Axes>"
            ]
          },
          "metadata": {
            "tags": []
          }
        }
      ]
    },
    {
      "cell_type": "code",
      "metadata": {
        "id": "DVyGFFF1huHr",
        "colab_type": "code",
        "colab": {
          "base_uri": "https://localhost:8080/",
          "height": 283
        },
        "outputId": "769a0a7a-65c7-430b-cd57-59e1def7c3ae"
      },
      "source": [
        "test_initialisation(X, 100, sigmoid, np.sqrt(1 / hidden_units))"
      ],
      "execution_count": 272,
      "outputs": [
        {
          "output_type": "display_data",
          "data": {
            "image/png": "[encoded data removed]",
            "text/plain": [
              "<Figure size 432x288 with 1 Axes>"
            ]
          },
          "metadata": {
            "tags": []
          }
        }
      ]
    }
  ]
}