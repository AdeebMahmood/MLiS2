{
  "nbformat": 4,
  "nbformat_minor": 0,
  "metadata": {
    "colab": {
      "name": "perceptron.ipynb",
      "provenance": [],
      "authorship_tag": "ABX9TyOb2fQgbKdhQBcZQsFOwD3y",
      "include_colab_link": true
    },
    "kernelspec": {
      "name": "python3",
      "display_name": "Python 3"
    }
  },
  "cells": [
    {
      "cell_type": "markdown",
      "metadata": {
        "id": "view-in-github",
        "colab_type": "text"
      },
      "source": [
        "<a href=\"https://colab.research.google.com/github/adammoss/MLiS2/blob/master/intro/perceptron.ipynb\" target=\"_parent\"><img src=\"https://colab.research.google.com/assets/colab-badge.svg\" alt=\"Open In Colab\"/></a>"
      ]
    },
    {
      "cell_type": "markdown",
      "metadata": {
        "id": "aN_td5rjuUTC",
        "colab_type": "text"
      },
      "source": [
        " The perceptron model is given by \n",
        " $\n",
        "\\hat{y} = \\Theta \\left( \\mathbf{x}^T \\mathbf{w} \\right)\\,,\n",
        "$\n",
        "where $\\Theta$ is the Heaviside step function. We will again attempt to learn the AND and XOR functions, but because of the non-linearity of the step function we cannot solve for the weights using the normal equations. \n",
        "\n",
        "Perceptrons can be trained using the perceptron learning algorithm, which iteratively updates the weights depending on the size of the prediction error: \n",
        "\n",
        "1. Initialise the weights to either 0 or a small random value.\n",
        "\n",
        "2. Iteratively update the weights by \n",
        "$\n",
        "\\mathbf{w}  \\rightarrow  \\mathbf{w}  + \\alpha \\mathbf{X}^T \\left( \\mathbf{Y} - \\hat{\\mathbf{Y}} \\right)\\,, \n",
        "$ where $\\alpha$ is the learning rate. \n",
        "\n",
        "3. Repeat step 2 until a stopping condition it met. This could be, for example, a maximum number of iterations, or a condition that the loss has not improved significantly from the previous iteration. \n"
      ]
    },
    {
      "cell_type": "code",
      "metadata": {
        "id": "fQskpl1FubOu",
        "colab_type": "code",
        "colab": {}
      },
      "source": [
        "import numpy as np\n",
        "import matplotlib.pyplot as plt\n",
        "from matplotlib import cm"
      ],
      "execution_count": 0,
      "outputs": []
    },
    {
      "cell_type": "markdown",
      "metadata": {
        "id": "l1w9z9HxMWPp",
        "colab_type": "text"
      },
      "source": [
        "Let us first attempt to learn the AND function. We will set the initial weights to a small random value, the learning rate to $\\alpha=0.01$ and use a fixed number of iterations."
      ]
    },
    {
      "cell_type": "code",
      "metadata": {
        "id": "sSL4SeOeujMt",
        "colab_type": "code",
        "outputId": "53542930-5b59-4867-9b07-7b9b431deb93",
        "colab": {
          "base_uri": "https://localhost:8080/",
          "height": 85
        }
      },
      "source": [
        "X = np.array([[1,0,0], [1,0,1], [1,1,0], [1,1,1]])\n",
        "print(X)"
      ],
      "execution_count": 16,
      "outputs": [
        {
          "output_type": "stream",
          "text": [
            "[[1 0 0]\n",
            " [1 0 1]\n",
            " [1 1 0]\n",
            " [1 1 1]]\n"
          ],
          "name": "stdout"
        }
      ]
    },
    {
      "cell_type": "code",
      "metadata": {
        "id": "PCipjechulG-",
        "colab_type": "code",
        "outputId": "fcce9c9e-87e4-4683-9a4c-6c8ab136fbbe",
        "colab": {
          "base_uri": "https://localhost:8080/",
          "height": 85
        }
      },
      "source": [
        "Y = np.array([[0], [0], [0], [1]])\n",
        "print(Y)"
      ],
      "execution_count": 17,
      "outputs": [
        {
          "output_type": "stream",
          "text": [
            "[[0]\n",
            " [0]\n",
            " [0]\n",
            " [1]]\n"
          ],
          "name": "stdout"
        }
      ]
    },
    {
      "cell_type": "code",
      "metadata": {
        "id": "qDPzhbI4usAt",
        "colab_type": "code",
        "outputId": "a58fae83-bfc0-4286-90a8-9647ea9f6d70",
        "colab": {
          "base_uri": "https://localhost:8080/",
          "height": 68
        }
      },
      "source": [
        "np.random.seed(0)\n",
        "w = 0.1 * np.random.random(size=(3, 1))\n",
        "print(w)"
      ],
      "execution_count": 18,
      "outputs": [
        {
          "output_type": "stream",
          "text": [
            "[[0.05488135]\n",
            " [0.07151894]\n",
            " [0.06027634]]\n"
          ],
          "name": "stdout"
        }
      ]
    },
    {
      "cell_type": "code",
      "metadata": {
        "id": "TtZEBEc7w-P2",
        "colab_type": "code",
        "colab": {}
      },
      "source": [
        "learning_rate = 0.01\n",
        "num_epochs = 100"
      ],
      "execution_count": 0,
      "outputs": []
    },
    {
      "cell_type": "code",
      "metadata": {
        "id": "jnHSh6iYwwEx",
        "colab_type": "code",
        "colab": {}
      },
      "source": [
        "for i in range(num_epochs):\n",
        "  Yhat = np.heaviside(np.matmul(X, w), 0)\n",
        "  w += learning_rate * np.matmul(X.T, Y - Yhat)"
      ],
      "execution_count": 0,
      "outputs": []
    },
    {
      "cell_type": "code",
      "metadata": {
        "id": "nc3TZaGxxFjF",
        "colab_type": "code",
        "outputId": "3564a741-cae5-4579-f540-b57e8364628e",
        "colab": {
          "base_uri": "https://localhost:8080/",
          "height": 68
        }
      },
      "source": [
        "print(w)"
      ],
      "execution_count": 21,
      "outputs": [
        {
          "output_type": "stream",
          "text": [
            "[[-0.04511865]\n",
            " [ 0.03151894]\n",
            " [ 0.02027634]]\n"
          ],
          "name": "stdout"
        }
      ]
    },
    {
      "cell_type": "markdown",
      "metadata": {
        "id": "tI_D3xXaYGpY",
        "colab_type": "text"
      },
      "source": [
        "Check the classification of each example"
      ]
    },
    {
      "cell_type": "code",
      "metadata": {
        "id": "LG_zwIyFUKpG",
        "colab_type": "code",
        "outputId": "250cd6e3-db0d-4c7e-c062-4b6481892d76",
        "colab": {
          "base_uri": "https://localhost:8080/",
          "height": 85
        }
      },
      "source": [
        "Yhat = np.heaviside(np.matmul(X, w), 0)\n",
        "print(Yhat)"
      ],
      "execution_count": 22,
      "outputs": [
        {
          "output_type": "stream",
          "text": [
            "[[0.]\n",
            " [0.]\n",
            " [0.]\n",
            " [1.]]\n"
          ],
          "name": "stdout"
        }
      ]
    },
    {
      "cell_type": "markdown",
      "metadata": {
        "id": "UJEExacvYKdN",
        "colab_type": "text"
      },
      "source": [
        "Plot the decision boundary for all values of $\\mathbf{x}$"
      ]
    },
    {
      "cell_type": "code",
      "metadata": {
        "id": "vOGx1ozBysR0",
        "colab_type": "code",
        "colab": {}
      },
      "source": [
        "id0 = np.where(Y[:, 0] == 0)\n",
        "id1 = np.where(Y[:, 0] == 1)"
      ],
      "execution_count": 0,
      "outputs": []
    },
    {
      "cell_type": "code",
      "metadata": {
        "id": "DJEMDP-aTXNs",
        "colab_type": "code",
        "colab": {}
      },
      "source": [
        "xx, yy = np.mgrid[-1:2:.01, -1:2:.01]\n",
        "Yhat = np.heaviside(w[0] + w[1] * xx + w[2] * yy, 0)"
      ],
      "execution_count": 0,
      "outputs": []
    },
    {
      "cell_type": "code",
      "metadata": {
        "id": "rDsRKsjcxGba",
        "colab_type": "code",
        "outputId": "95301e6c-1152-48c4-c590-c4b516f6c687",
        "colab": {
          "base_uri": "https://localhost:8080/",
          "height": 285
        }
      },
      "source": [
        "plt.figure()\n",
        "plt.contourf(xx, yy, Yhat, alpha=0.5)\n",
        "plt.scatter(X[id0, 1], X[id0, 2], color='blue')\n",
        "plt.scatter(X[id1, 1], X[id1, 2], color='red')\n",
        "plt.xlabel('$x_1$', fontsize=16)\n",
        "plt.ylabel('$x_2$', fontsize=16)\n",
        "plt.show()"
      ],
      "execution_count": 25,
      "outputs": [
        {
          "output_type": "display_data",
          "data": {
            "image/png": "[encoded data removed]",
            "text/plain": [
              "<Figure size 432x288 with 1 Axes>"
            ]
          },
          "metadata": {
            "tags": []
          }
        }
      ]
    },
    {
      "cell_type": "markdown",
      "metadata": {
        "id": "dtT2YXF_YCGS",
        "colab_type": "text"
      },
      "source": [
        "Now let us attempt to learn the XOR function."
      ]
    },
    {
      "cell_type": "code",
      "metadata": {
        "id": "WUPH0xFzPbgW",
        "colab_type": "code",
        "outputId": "d4aced1f-4d79-4379-b599-08c59b27aef2",
        "colab": {
          "base_uri": "https://localhost:8080/",
          "height": 85
        }
      },
      "source": [
        "Y = np.array([[0], [1], [1], [0]])\n",
        "print(Y)"
      ],
      "execution_count": 26,
      "outputs": [
        {
          "output_type": "stream",
          "text": [
            "[[0]\n",
            " [1]\n",
            " [1]\n",
            " [0]]\n"
          ],
          "name": "stdout"
        }
      ]
    },
    {
      "cell_type": "code",
      "metadata": {
        "id": "FvkY78IPPljN",
        "colab_type": "code",
        "outputId": "b7371bc3-cff1-4fff-b85d-5f7601ec325b",
        "colab": {
          "base_uri": "https://localhost:8080/",
          "height": 68
        }
      },
      "source": [
        "np.random.seed(0)\n",
        "w = 0.1 * np.random.random(size=(3, 1))\n",
        "print(w)"
      ],
      "execution_count": 27,
      "outputs": [
        {
          "output_type": "stream",
          "text": [
            "[[0.05488135]\n",
            " [0.07151894]\n",
            " [0.06027634]]\n"
          ],
          "name": "stdout"
        }
      ]
    },
    {
      "cell_type": "code",
      "metadata": {
        "id": "BcG7Ma7HYoV2",
        "colab_type": "code",
        "colab": {}
      },
      "source": [
        "for i in range(num_epochs):\n",
        "  Yhat = np.heaviside(np.matmul(X, w), 0)\n",
        "  w += learning_rate * np.matmul(X.T, Y - Yhat)"
      ],
      "execution_count": 0,
      "outputs": []
    },
    {
      "cell_type": "code",
      "metadata": {
        "id": "SinXP2odYrGt",
        "colab_type": "code",
        "colab": {
          "base_uri": "https://localhost:8080/",
          "height": 68
        },
        "outputId": "af220e0f-99e9-4d9c-e07a-3345ab2a7e72"
      },
      "source": [
        "print(w)"
      ],
      "execution_count": 29,
      "outputs": [
        {
          "output_type": "stream",
          "text": [
            "[[0.00488135]\n",
            " [0.01151894]\n",
            " [0.01027634]]\n"
          ],
          "name": "stdout"
        }
      ]
    },
    {
      "cell_type": "markdown",
      "metadata": {
        "id": "J5TIACPHYzsr",
        "colab_type": "text"
      },
      "source": [
        "Check the classification of each example"
      ]
    },
    {
      "cell_type": "code",
      "metadata": {
        "id": "LhmxFAEPYzDk",
        "colab_type": "code",
        "colab": {
          "base_uri": "https://localhost:8080/",
          "height": 85
        },
        "outputId": "ae23ee83-989a-44ee-dc9e-724c58d34ba9"
      },
      "source": [
        "Yhat = np.heaviside(np.matmul(X, w), 0)\n",
        "print(Yhat)"
      ],
      "execution_count": 30,
      "outputs": [
        {
          "output_type": "stream",
          "text": [
            "[[1.]\n",
            " [1.]\n",
            " [1.]\n",
            " [1.]]\n"
          ],
          "name": "stdout"
        }
      ]
    },
    {
      "cell_type": "markdown",
      "metadata": {
        "id": "cJmkrLQVZCT2",
        "colab_type": "text"
      },
      "source": [
        "Plot the decision boundary for all values of $\\mathbf{x}$"
      ]
    },
    {
      "cell_type": "code",
      "metadata": {
        "id": "6skWqxGuYtRd",
        "colab_type": "code",
        "colab": {}
      },
      "source": [
        "id0 = np.where(Y[:, 0] == 0)\n",
        "id1 = np.where(Y[:, 0] == 1)"
      ],
      "execution_count": 0,
      "outputs": []
    },
    {
      "cell_type": "code",
      "metadata": {
        "id": "Yb_yvjN4ZE33",
        "colab_type": "code",
        "colab": {}
      },
      "source": [
        "xx, yy = np.mgrid[-1:2:.01, -1:2:.01]\n",
        "Yhat = np.heaviside(w[0] + w[1] * xx + w[2] * yy, 0)"
      ],
      "execution_count": 0,
      "outputs": []
    },
    {
      "cell_type": "code",
      "metadata": {
        "id": "MODNyTFwZHaP",
        "colab_type": "code",
        "colab": {
          "base_uri": "https://localhost:8080/",
          "height": 285
        },
        "outputId": "27ded186-0a70-46a0-d9d1-0f3a1d0b1ce9"
      },
      "source": [
        "plt.figure()\n",
        "plt.contourf(xx, yy, Yhat, alpha=0.5)\n",
        "plt.scatter(X[id0, 1], X[id0, 2], color='blue')\n",
        "plt.scatter(X[id1, 1], X[id1, 2], color='red')\n",
        "plt.xlabel('$x_1$', fontsize=16)\n",
        "plt.ylabel('$x_2$', fontsize=16)\n",
        "plt.show()"
      ],
      "execution_count": 33,
      "outputs": [
        {
          "output_type": "display_data",
          "data": {
            "image/png": "[encoded data removed]",
            "text/plain": [
              "<Figure size 432x288 with 1 Axes>"
            ]
          },
          "metadata": {
            "tags": []
          }
        }
      ]
    },
    {
      "cell_type": "code",
      "metadata": {
        "id": "pxyh396ecbnR",
        "colab_type": "code",
        "colab": {}
      },
      "source": [
        ""
      ],
      "execution_count": 0,
      "outputs": []
    }
  ]
}