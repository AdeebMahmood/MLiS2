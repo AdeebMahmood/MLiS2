{
  "nbformat": 4,
  "nbformat_minor": 0,
  "metadata": {
    "colab": {
      "name": "perceptron.ipynb",
      "provenance": [],
      "authorship_tag": "ABX9TyN87M4Nb3w9zbmbGkQ+6+pM",
      "include_colab_link": true
    },
    "kernelspec": {
      "name": "python3",
      "display_name": "Python 3"
    }
  },
  "cells": [
    {
      "cell_type": "markdown",
      "metadata": {
        "id": "view-in-github",
        "colab_type": "text"
      },
      "source": [
        "<a href=\"https://colab.research.google.com/github/adammoss/MLiS2/blob/master/intro/perceptron.ipynb\" target=\"_parent\"><img src=\"https://colab.research.google.com/assets/colab-badge.svg\" alt=\"Open In Colab\"/></a>"
      ]
    },
    {
      "cell_type": "markdown",
      "metadata": {
        "id": "aN_td5rjuUTC",
        "colab_type": "text"
      },
      "source": [
        " The perceptron model is given by \n",
        "\n",
        " $\n",
        "\\hat{y} = \\Theta \\left( \\mathbf{x}^T \\mathbf{w} \\right)\\,,\n",
        "$\n",
        "\n",
        "where $\\Theta$ is the Heaviside step function. It is an example of a binary classifier, and is capable of learning whether an example belongs to a specific binary class (labelled by 0 and 1). Because of the non-linearity of the step function we cannot solve for the weights using the normal equations. \n",
        "\n",
        "Perceptrons can be trained using the perceptron learning algorithm, which iteratively updates the weights depending on the size of the prediction error: \n",
        "\n",
        "1. Initialise the weights to either 0 or a small random value.\n",
        "\n",
        "2. Iteratively update the weights by \n",
        "$\n",
        "\\mathbf{w}  \\rightarrow  \\mathbf{w}  - \\alpha \\mathbf{X}^T \\left(\\hat{\\mathbf{Y}} - \\mathbf{Y} \\right)\\,, \n",
        "$ where $\\alpha$ is the learning rate. The choice of learning rate is not actually important for the perceptron learning algorithm, but we shall use this form to compare with gradient descent methods. \n",
        "\n",
        "3. Repeat step 2 until a stopping condition it met. This could be, for example, a maximum number of iterations, or a condition that the loss has not improved significantly from the previous iteration. \n"
      ]
    },
    {
      "cell_type": "code",
      "metadata": {
        "id": "fQskpl1FubOu",
        "colab_type": "code",
        "colab": {}
      },
      "source": [
        "import numpy as np\n",
        "import matplotlib.pyplot as plt\n",
        "from matplotlib import cm"
      ],
      "execution_count": 0,
      "outputs": []
    },
    {
      "cell_type": "markdown",
      "metadata": {
        "id": "l1w9z9HxMWPp",
        "colab_type": "text"
      },
      "source": [
        "Let us first attempt to learn the AND function. We will set the initial weights to a small random value, the learning rate to $\\alpha=0.1$ and use a fixed number of iterations."
      ]
    },
    {
      "cell_type": "code",
      "metadata": {
        "id": "D0lt87NjVQBh",
        "colab_type": "code",
        "colab": {}
      },
      "source": [
        "learning_rate = 0.1\n",
        "num_epochs = 10"
      ],
      "execution_count": 0,
      "outputs": []
    },
    {
      "cell_type": "code",
      "metadata": {
        "id": "sSL4SeOeujMt",
        "colab_type": "code",
        "outputId": "4ad7d05a-983e-450c-ac0e-8f6a3ee902a5",
        "colab": {
          "base_uri": "https://localhost:8080/",
          "height": 85
        }
      },
      "source": [
        "X = np.array([[1,0,0], [1,0,1], [1,1,0], [1,1,1]])\n",
        "print(X)"
      ],
      "execution_count": 3,
      "outputs": [
        {
          "output_type": "stream",
          "text": [
            "[[1 0 0]\n",
            " [1 0 1]\n",
            " [1 1 0]\n",
            " [1 1 1]]\n"
          ],
          "name": "stdout"
        }
      ]
    },
    {
      "cell_type": "code",
      "metadata": {
        "id": "PCipjechulG-",
        "colab_type": "code",
        "outputId": "687e0df4-200d-4703-86ec-c520ef1ed38b",
        "colab": {
          "base_uri": "https://localhost:8080/",
          "height": 85
        }
      },
      "source": [
        "Y = np.array([[0], [0], [0], [1]])\n",
        "print(Y)"
      ],
      "execution_count": 4,
      "outputs": [
        {
          "output_type": "stream",
          "text": [
            "[[0]\n",
            " [0]\n",
            " [0]\n",
            " [1]]\n"
          ],
          "name": "stdout"
        }
      ]
    },
    {
      "cell_type": "code",
      "metadata": {
        "id": "qDPzhbI4usAt",
        "colab_type": "code",
        "outputId": "00b7a11f-459a-4a59-cd59-c36e1b5c0f49",
        "colab": {
          "base_uri": "https://localhost:8080/",
          "height": 68
        }
      },
      "source": [
        "np.random.seed(0)\n",
        "w = 0.1 * np.random.random(size=(3, 1))\n",
        "print(w)"
      ],
      "execution_count": 5,
      "outputs": [
        {
          "output_type": "stream",
          "text": [
            "[[0.05488135]\n",
            " [0.07151894]\n",
            " [0.06027634]]\n"
          ],
          "name": "stdout"
        }
      ]
    },
    {
      "cell_type": "code",
      "metadata": {
        "id": "jnHSh6iYwwEx",
        "colab_type": "code",
        "colab": {}
      },
      "source": [
        "for i in range(num_epochs):\n",
        "  Yhat = np.heaviside(np.matmul(X, w), 0)\n",
        "  w -= learning_rate * np.matmul(X.T, Yhat - Y)"
      ],
      "execution_count": 0,
      "outputs": []
    },
    {
      "cell_type": "code",
      "metadata": {
        "id": "nc3TZaGxxFjF",
        "colab_type": "code",
        "outputId": "e0cc9301-d25b-4752-e7b0-a5c34da8a36a",
        "colab": {
          "base_uri": "https://localhost:8080/",
          "height": 68
        }
      },
      "source": [
        "print(w)"
      ],
      "execution_count": 7,
      "outputs": [
        {
          "output_type": "stream",
          "text": [
            "[[-0.24511865]\n",
            " [ 0.17151894]\n",
            " [ 0.16027634]]\n"
          ],
          "name": "stdout"
        }
      ]
    },
    {
      "cell_type": "markdown",
      "metadata": {
        "id": "tI_D3xXaYGpY",
        "colab_type": "text"
      },
      "source": [
        "Check the classification of each example"
      ]
    },
    {
      "cell_type": "code",
      "metadata": {
        "id": "LG_zwIyFUKpG",
        "colab_type": "code",
        "outputId": "ab3d948b-4236-4b9f-cec9-3939d6e54799",
        "colab": {
          "base_uri": "https://localhost:8080/",
          "height": 85
        }
      },
      "source": [
        "Yhat = np.heaviside(np.matmul(X, w), 0)\n",
        "print(Yhat)"
      ],
      "execution_count": 8,
      "outputs": [
        {
          "output_type": "stream",
          "text": [
            "[[0.]\n",
            " [0.]\n",
            " [0.]\n",
            " [1.]]\n"
          ],
          "name": "stdout"
        }
      ]
    },
    {
      "cell_type": "markdown",
      "metadata": {
        "id": "UJEExacvYKdN",
        "colab_type": "text"
      },
      "source": [
        "Plot the decision boundary for all values of $\\mathbf{x}$"
      ]
    },
    {
      "cell_type": "code",
      "metadata": {
        "id": "vOGx1ozBysR0",
        "colab_type": "code",
        "colab": {}
      },
      "source": [
        "id0 = np.where(Y[:, 0] == 0)\n",
        "id1 = np.where(Y[:, 0] == 1)"
      ],
      "execution_count": 0,
      "outputs": []
    },
    {
      "cell_type": "code",
      "metadata": {
        "id": "DJEMDP-aTXNs",
        "colab_type": "code",
        "colab": {}
      },
      "source": [
        "xx, yy = np.mgrid[-1:2:.01, -1:2:.01]\n",
        "Yhat = np.heaviside(w[0] + w[1] * xx + w[2] * yy, 0)"
      ],
      "execution_count": 0,
      "outputs": []
    },
    {
      "cell_type": "code",
      "metadata": {
        "id": "rDsRKsjcxGba",
        "colab_type": "code",
        "outputId": "618e6e3c-67b3-4365-82a4-687d71ef3310",
        "colab": {
          "base_uri": "https://localhost:8080/",
          "height": 285
        }
      },
      "source": [
        "plt.figure()\n",
        "plt.contourf(xx, yy, Yhat, alpha=0.5)\n",
        "plt.scatter(X[id0, 1], X[id0, 2], color='blue')\n",
        "plt.scatter(X[id1, 1], X[id1, 2], color='red')\n",
        "plt.xlabel('$x_1$', fontsize=16)\n",
        "plt.ylabel('$x_2$', fontsize=16)\n",
        "plt.show()"
      ],
      "execution_count": 11,
      "outputs": [
        {
          "output_type": "display_data",
          "data": {
            "image/png": "[encoded data removed]",
            "text/plain": [
              "<Figure size 432x288 with 1 Axes>"
            ]
          },
          "metadata": {
            "tags": []
          }
        }
      ]
    },
    {
      "cell_type": "markdown",
      "metadata": {
        "id": "dtT2YXF_YCGS",
        "colab_type": "text"
      },
      "source": [
        "Now let us attempt to learn the XOR function."
      ]
    },
    {
      "cell_type": "code",
      "metadata": {
        "id": "WUPH0xFzPbgW",
        "colab_type": "code",
        "outputId": "1360b29d-73b8-45f7-ea1e-d9ee03add39b",
        "colab": {
          "base_uri": "https://localhost:8080/",
          "height": 85
        }
      },
      "source": [
        "Y = np.array([[0], [1], [1], [0]])\n",
        "print(Y)"
      ],
      "execution_count": 12,
      "outputs": [
        {
          "output_type": "stream",
          "text": [
            "[[0]\n",
            " [1]\n",
            " [1]\n",
            " [0]]\n"
          ],
          "name": "stdout"
        }
      ]
    },
    {
      "cell_type": "code",
      "metadata": {
        "id": "FvkY78IPPljN",
        "colab_type": "code",
        "outputId": "da99821d-4323-4a8a-88bb-12ee7a3cf31a",
        "colab": {
          "base_uri": "https://localhost:8080/",
          "height": 68
        }
      },
      "source": [
        "np.random.seed(0)\n",
        "w = 0.1 * np.random.random(size=(3, 1))\n",
        "print(w)"
      ],
      "execution_count": 13,
      "outputs": [
        {
          "output_type": "stream",
          "text": [
            "[[0.05488135]\n",
            " [0.07151894]\n",
            " [0.06027634]]\n"
          ],
          "name": "stdout"
        }
      ]
    },
    {
      "cell_type": "code",
      "metadata": {
        "id": "BcG7Ma7HYoV2",
        "colab_type": "code",
        "colab": {}
      },
      "source": [
        "for i in range(num_epochs):\n",
        "  Yhat = np.heaviside(np.matmul(X, w), 0)\n",
        "  w -= learning_rate * np.matmul(X.T, Yhat - Y)"
      ],
      "execution_count": 0,
      "outputs": []
    },
    {
      "cell_type": "code",
      "metadata": {
        "id": "SinXP2odYrGt",
        "colab_type": "code",
        "outputId": "6e0eaaaf-5a0c-4975-de50-adc0ea1ff977",
        "colab": {
          "base_uri": "https://localhost:8080/",
          "height": 68
        }
      },
      "source": [
        "print(w)"
      ],
      "execution_count": 15,
      "outputs": [
        {
          "output_type": "stream",
          "text": [
            "[[0.05488135]\n",
            " [0.07151894]\n",
            " [0.06027634]]\n"
          ],
          "name": "stdout"
        }
      ]
    },
    {
      "cell_type": "markdown",
      "metadata": {
        "id": "J5TIACPHYzsr",
        "colab_type": "text"
      },
      "source": [
        "Check the classification of each example"
      ]
    },
    {
      "cell_type": "code",
      "metadata": {
        "id": "LhmxFAEPYzDk",
        "colab_type": "code",
        "outputId": "762863df-e5ae-423b-c465-d0936215082d",
        "colab": {
          "base_uri": "https://localhost:8080/",
          "height": 85
        }
      },
      "source": [
        "Yhat = np.heaviside(np.matmul(X, w), 0)\n",
        "print(Yhat)"
      ],
      "execution_count": 16,
      "outputs": [
        {
          "output_type": "stream",
          "text": [
            "[[1.]\n",
            " [1.]\n",
            " [1.]\n",
            " [1.]]\n"
          ],
          "name": "stdout"
        }
      ]
    },
    {
      "cell_type": "markdown",
      "metadata": {
        "id": "cJmkrLQVZCT2",
        "colab_type": "text"
      },
      "source": [
        "Plot the decision boundary for all values of $\\mathbf{x}$"
      ]
    },
    {
      "cell_type": "code",
      "metadata": {
        "id": "6skWqxGuYtRd",
        "colab_type": "code",
        "colab": {}
      },
      "source": [
        "id0 = np.where(Y[:, 0] == 0)\n",
        "id1 = np.where(Y[:, 0] == 1)"
      ],
      "execution_count": 0,
      "outputs": []
    },
    {
      "cell_type": "code",
      "metadata": {
        "id": "Yb_yvjN4ZE33",
        "colab_type": "code",
        "colab": {}
      },
      "source": [
        "xx, yy = np.mgrid[-1:2:.01, -1:2:.01]\n",
        "Yhat = np.heaviside(w[0] + w[1] * xx + w[2] * yy, 0)"
      ],
      "execution_count": 0,
      "outputs": []
    },
    {
      "cell_type": "code",
      "metadata": {
        "id": "MODNyTFwZHaP",
        "colab_type": "code",
        "outputId": "0d9db63d-fba9-420a-e6dc-a4dca9834d11",
        "colab": {
          "base_uri": "https://localhost:8080/",
          "height": 285
        }
      },
      "source": [
        "plt.figure()\n",
        "plt.contourf(xx, yy, Yhat, alpha=0.5)\n",
        "plt.scatter(X[id0, 1], X[id0, 2], color='blue')\n",
        "plt.scatter(X[id1, 1], X[id1, 2], color='red')\n",
        "plt.xlabel('$x_1$', fontsize=16)\n",
        "plt.ylabel('$x_2$', fontsize=16)\n",
        "plt.show()"
      ],
      "execution_count": 19,
      "outputs": [
        {
          "output_type": "display_data",
          "data": {
            "image/png": "[encoded data removed]",
            "text/plain": [
              "<Figure size 432x288 with 1 Axes>"
            ]
          },
          "metadata": {
            "tags": []
          }
        }
      ]
    },
    {
      "cell_type": "code",
      "metadata": {
        "id": "pxyh396ecbnR",
        "colab_type": "code",
        "colab": {}
      },
      "source": [
        ""
      ],
      "execution_count": 0,
      "outputs": []
    }
  ]
}