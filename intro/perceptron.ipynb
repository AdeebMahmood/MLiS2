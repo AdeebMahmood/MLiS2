{
  "nbformat": 4,
  "nbformat_minor": 0,
  "metadata": {
    "colab": {
      "name": "perceptron.ipynb",
      "provenance": [],
      "authorship_tag": "ABX9TyNUhI6/Mk+51H4FAwyv7ltS",
      "include_colab_link": true
    },
    "kernelspec": {
      "name": "python3",
      "display_name": "Python 3"
    }
  },
  "cells": [
    {
      "cell_type": "markdown",
      "metadata": {
        "id": "view-in-github",
        "colab_type": "text"
      },
      "source": [
        "<a href=\"https://colab.research.google.com/github/adammoss/MLiS2/blob/master/intro/perceptron.ipynb\" target=\"_parent\"><img src=\"https://colab.research.google.com/assets/colab-badge.svg\" alt=\"Open In Colab\"/></a>"
      ]
    },
    {
      "cell_type": "markdown",
      "metadata": {
        "id": "aN_td5rjuUTC",
        "colab_type": "text"
      },
      "source": [
        " The perceptron model is given by \n",
        " $\n",
        "\\hat{y} = \\Theta \\left( \\mathbf{x}^T \\mathbf{w} \\right)\\,,\n",
        "$\n",
        "where $\\Theta$ is the Heaviside step function. We will again attempt to learn the AND and XOR functions, but because of the non-linearity of the step function we cannot solve for the weights using the normal equations. \n",
        "\n",
        "Perceptrons can be trained using the perceptron learning algorithm, which iteratively updates the weights depending on the size of the prediction error: \n",
        "\n",
        "1. Initialise the weights to either 0 or a small random value.\n",
        "\n",
        "2. Iteratively update the weights by \n",
        "$\n",
        "\\mathbf{w}  \\rightarrow  \\mathbf{w}  + \\alpha \\mathbf{X}^T \\left( \\mathbf{Y} - \\hat{\\mathbf{Y}} \\right)\\,, \n",
        "$ where $\\alpha$ is the learning rate. \n",
        "\n",
        "3. Repeat step 2 until a stopping condition it met. This could be, for example, a maximum number of iterations, or a condition that the loss has not improved significantly from the previous iteration. \n"
      ]
    },
    {
      "cell_type": "code",
      "metadata": {
        "id": "fQskpl1FubOu",
        "colab_type": "code",
        "colab": {}
      },
      "source": [
        "import numpy as np\n",
        "import matplotlib.pyplot as plt\n",
        "from matplotlib import cm"
      ],
      "execution_count": 0,
      "outputs": []
    },
    {
      "cell_type": "markdown",
      "metadata": {
        "id": "l1w9z9HxMWPp",
        "colab_type": "text"
      },
      "source": [
        "Let us first attempt to learn the AND function. We will set the initial weights to a small random value, the learning rate to $\\alpha=0.01$ and use a fixed number of iterations."
      ]
    },
    {
      "cell_type": "code",
      "metadata": {
        "id": "sSL4SeOeujMt",
        "colab_type": "code",
        "outputId": "32d75ec2-8853-47eb-84f1-b717266ca74c",
        "colab": {
          "base_uri": "https://localhost:8080/",
          "height": 85
        }
      },
      "source": [
        "X = np.array([[1,0,0], [1,0,1], [1,1,0], [1,1,1]])\n",
        "print(X)"
      ],
      "execution_count": 468,
      "outputs": [
        {
          "output_type": "stream",
          "text": [
            "[[1 0 0]\n",
            " [1 0 1]\n",
            " [1 1 0]\n",
            " [1 1 1]]\n"
          ],
          "name": "stdout"
        }
      ]
    },
    {
      "cell_type": "code",
      "metadata": {
        "id": "PCipjechulG-",
        "colab_type": "code",
        "outputId": "c401bff6-52e7-446d-97e7-f430dbff0514",
        "colab": {
          "base_uri": "https://localhost:8080/",
          "height": 85
        }
      },
      "source": [
        "Y = np.array([[0], [0], [0], [1]])\n",
        "print(Y)"
      ],
      "execution_count": 469,
      "outputs": [
        {
          "output_type": "stream",
          "text": [
            "[[0]\n",
            " [0]\n",
            " [0]\n",
            " [1]]\n"
          ],
          "name": "stdout"
        }
      ]
    },
    {
      "cell_type": "code",
      "metadata": {
        "id": "qDPzhbI4usAt",
        "colab_type": "code",
        "colab": {
          "base_uri": "https://localhost:8080/",
          "height": 68
        },
        "outputId": "e27a5087-9cf9-4d52-f704-5eadd0eb0571"
      },
      "source": [
        "np.random.seed(0)\n",
        "w = 0.1 * np.random.random(size=(3, 1))\n",
        "print(w)"
      ],
      "execution_count": 470,
      "outputs": [
        {
          "output_type": "stream",
          "text": [
            "[[0.05488135]\n",
            " [0.07151894]\n",
            " [0.06027634]]\n"
          ],
          "name": "stdout"
        }
      ]
    },
    {
      "cell_type": "code",
      "metadata": {
        "id": "TtZEBEc7w-P2",
        "colab_type": "code",
        "colab": {}
      },
      "source": [
        "learning_rate = 0.01\n",
        "num_epochs = 100"
      ],
      "execution_count": 0,
      "outputs": []
    },
    {
      "cell_type": "code",
      "metadata": {
        "id": "jnHSh6iYwwEx",
        "colab_type": "code",
        "colab": {}
      },
      "source": [
        "for i in range(num_epochs):\n",
        "  Yhat = np.heaviside(np.matmul(X, w), 0)\n",
        "  w += alpha * np.matmul(X.T, Y - Yhat)"
      ],
      "execution_count": 0,
      "outputs": []
    },
    {
      "cell_type": "code",
      "metadata": {
        "id": "nc3TZaGxxFjF",
        "colab_type": "code",
        "outputId": "26aeec2d-8468-49a0-b376-af96dd7edd8e",
        "colab": {
          "base_uri": "https://localhost:8080/",
          "height": 68
        }
      },
      "source": [
        "print(w)"
      ],
      "execution_count": 473,
      "outputs": [
        {
          "output_type": "stream",
          "text": [
            "[[-0.24511865]\n",
            " [ 0.17151894]\n",
            " [ 0.16027634]]\n"
          ],
          "name": "stdout"
        }
      ]
    },
    {
      "cell_type": "markdown",
      "metadata": {
        "id": "tI_D3xXaYGpY",
        "colab_type": "text"
      },
      "source": [
        "Check the classification of each example"
      ]
    },
    {
      "cell_type": "code",
      "metadata": {
        "id": "LG_zwIyFUKpG",
        "colab_type": "code",
        "colab": {
          "base_uri": "https://localhost:8080/",
          "height": 85
        },
        "outputId": "0fdce160-7d80-4245-8e15-a6f2ee9d74da"
      },
      "source": [
        "Yhat = np.heaviside(np.matmul(X, w), 0)\n",
        "print(Yhat)"
      ],
      "execution_count": 474,
      "outputs": [
        {
          "output_type": "stream",
          "text": [
            "[[0.]\n",
            " [0.]\n",
            " [0.]\n",
            " [1.]]\n"
          ],
          "name": "stdout"
        }
      ]
    },
    {
      "cell_type": "markdown",
      "metadata": {
        "id": "UJEExacvYKdN",
        "colab_type": "text"
      },
      "source": [
        "Plot the decision boundary for all values of $\\mathbf{x}$"
      ]
    },
    {
      "cell_type": "code",
      "metadata": {
        "id": "vOGx1ozBysR0",
        "colab_type": "code",
        "colab": {}
      },
      "source": [
        "id0 = np.where(Y[:, 0] == 0)\n",
        "id1 = np.where(Y[:, 0] == 1)"
      ],
      "execution_count": 0,
      "outputs": []
    },
    {
      "cell_type": "code",
      "metadata": {
        "id": "DJEMDP-aTXNs",
        "colab_type": "code",
        "colab": {}
      },
      "source": [
        "xx, yy = np.mgrid[-1:2:.01, -1:2:.01]\n",
        "Yhat = np.heaviside(w[0] + w[1] * xx + w[2] * yy, 0)"
      ],
      "execution_count": 0,
      "outputs": []
    },
    {
      "cell_type": "code",
      "metadata": {
        "id": "rDsRKsjcxGba",
        "colab_type": "code",
        "outputId": "6103f387-b558-4876-d5bd-93312313877c",
        "colab": {
          "base_uri": "https://localhost:8080/",
          "height": 265
        }
      },
      "source": [
        "plt.figure()\n",
        "plt.contourf(xx, yy, Yhat, alpha=0.5)\n",
        "plt.scatter(X[id0, 1], X[id0, 2], color='blue')\n",
        "plt.scatter(X[id1, 1], X[id1, 2], color='red')\n",
        "plt.show()"
      ],
      "execution_count": 477,
      "outputs": [
        {
          "output_type": "display_data",
          "data": {
            "image/png": "[encoded data removed]",
            "text/plain": [
              "<Figure size 432x288 with 1 Axes>"
            ]
          },
          "metadata": {
            "tags": []
          }
        }
      ]
    },
    {
      "cell_type": "markdown",
      "metadata": {
        "id": "dtT2YXF_YCGS",
        "colab_type": "text"
      },
      "source": [
        "Now let us attempt to learn the XOR function."
      ]
    },
    {
      "cell_type": "code",
      "metadata": {
        "id": "WUPH0xFzPbgW",
        "colab_type": "code",
        "outputId": "af332d48-4234-49c1-8ad2-71c737d204a2",
        "colab": {
          "base_uri": "https://localhost:8080/",
          "height": 85
        }
      },
      "source": [
        "Y = np.array([[0], [1], [1], [0]])\n",
        "print(Y)"
      ],
      "execution_count": 478,
      "outputs": [
        {
          "output_type": "stream",
          "text": [
            "[[0]\n",
            " [1]\n",
            " [1]\n",
            " [0]]\n"
          ],
          "name": "stdout"
        }
      ]
    },
    {
      "cell_type": "code",
      "metadata": {
        "id": "FvkY78IPPljN",
        "colab_type": "code",
        "colab": {
          "base_uri": "https://localhost:8080/",
          "height": 68
        },
        "outputId": "c52e36c1-fd0c-42a5-b5e3-7195ae07f3d0"
      },
      "source": [
        "np.random.seed(0)\n",
        "w = 0.1 * np.random.random(size=(3, 1))\n",
        "print(w)"
      ],
      "execution_count": 479,
      "outputs": [
        {
          "output_type": "stream",
          "text": [
            "[[0.05488135]\n",
            " [0.07151894]\n",
            " [0.06027634]]\n"
          ],
          "name": "stdout"
        }
      ]
    },
    {
      "cell_type": "code",
      "metadata": {
        "id": "BcG7Ma7HYoV2",
        "colab_type": "code",
        "colab": {}
      },
      "source": [
        "for i in range(num_epochs):\n",
        "  Yhat = np.heaviside(np.matmul(X, w), 0)\n",
        "  w += alpha * np.matmul(X.T, Y - Yhat)"
      ],
      "execution_count": 0,
      "outputs": []
    },
    {
      "cell_type": "code",
      "metadata": {
        "id": "SinXP2odYrGt",
        "colab_type": "code",
        "colab": {
          "base_uri": "https://localhost:8080/",
          "height": 68
        },
        "outputId": "9b00e985-3f7b-4f1a-db88-b785fe8dddb9"
      },
      "source": [
        "print(w)"
      ],
      "execution_count": 481,
      "outputs": [
        {
          "output_type": "stream",
          "text": [
            "[[0.05488135]\n",
            " [0.07151894]\n",
            " [0.06027634]]\n"
          ],
          "name": "stdout"
        }
      ]
    },
    {
      "cell_type": "markdown",
      "metadata": {
        "id": "J5TIACPHYzsr",
        "colab_type": "text"
      },
      "source": [
        "Check the classification of each example"
      ]
    },
    {
      "cell_type": "code",
      "metadata": {
        "id": "LhmxFAEPYzDk",
        "colab_type": "code",
        "colab": {
          "base_uri": "https://localhost:8080/",
          "height": 85
        },
        "outputId": "17ce6812-58d4-402e-e601-1c40bb3d2810"
      },
      "source": [
        "Yhat = np.heaviside(np.matmul(X, w), 0)\n",
        "print(Yhat)"
      ],
      "execution_count": 482,
      "outputs": [
        {
          "output_type": "stream",
          "text": [
            "[[1.]\n",
            " [1.]\n",
            " [1.]\n",
            " [1.]]\n"
          ],
          "name": "stdout"
        }
      ]
    },
    {
      "cell_type": "markdown",
      "metadata": {
        "id": "cJmkrLQVZCT2",
        "colab_type": "text"
      },
      "source": [
        "Plot the decision boundary for all values of $\\mathbf{x}$"
      ]
    },
    {
      "cell_type": "code",
      "metadata": {
        "id": "6skWqxGuYtRd",
        "colab_type": "code",
        "colab": {}
      },
      "source": [
        "id0 = np.where(Y[:, 0] == 0)\n",
        "id1 = np.where(Y[:, 0] == 1)"
      ],
      "execution_count": 0,
      "outputs": []
    },
    {
      "cell_type": "code",
      "metadata": {
        "id": "Yb_yvjN4ZE33",
        "colab_type": "code",
        "colab": {}
      },
      "source": [
        "xx, yy = np.mgrid[-1:2:.01, -1:2:.01]\n",
        "Yhat = np.heaviside(w[0] + w[1] * xx + w[2] * yy, 0)"
      ],
      "execution_count": 0,
      "outputs": []
    },
    {
      "cell_type": "code",
      "metadata": {
        "id": "MODNyTFwZHaP",
        "colab_type": "code",
        "colab": {
          "base_uri": "https://localhost:8080/",
          "height": 265
        },
        "outputId": "b83b1083-d510-430d-abfb-a810ff3cfc0f"
      },
      "source": [
        "plt.figure()\n",
        "plt.contourf(xx, yy, Yhat, alpha=0.5)\n",
        "plt.scatter(X[id0, 1], X[id0, 2], color='blue')\n",
        "plt.scatter(X[id1, 1], X[id1, 2], color='red')\n",
        "plt.show()"
      ],
      "execution_count": 485,
      "outputs": [
        {
          "output_type": "display_data",
          "data": {
            "image/png": "[encoded data removed]",
            "text/plain": [
              "<Figure size 432x288 with 1 Axes>"
            ]
          },
          "metadata": {
            "tags": []
          }
        }
      ]
    },
    {
      "cell_type": "code",
      "metadata": {
        "id": "pxyh396ecbnR",
        "colab_type": "code",
        "colab": {}
      },
      "source": [
        ""
      ],
      "execution_count": 0,
      "outputs": []
    }
  ]
}