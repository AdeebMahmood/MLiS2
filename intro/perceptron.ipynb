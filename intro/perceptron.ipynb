{
  "nbformat": 4,
  "nbformat_minor": 0,
  "metadata": {
    "colab": {
      "name": "perceptron.ipynb",
      "provenance": [],
      "authorship_tag": "ABX9TyMjlIwAbSQ15EUcmeGZBzRZ",
      "include_colab_link": true
    },
    "kernelspec": {
      "name": "python3",
      "display_name": "Python 3"
    }
  },
  "cells": [
    {
      "cell_type": "markdown",
      "metadata": {
        "id": "view-in-github",
        "colab_type": "text"
      },
      "source": [
        "<a href=\"https://colab.research.google.com/github/adammoss/MLiS2/blob/master/intro/perceptron.ipynb\" target=\"_parent\"><img src=\"https://colab.research.google.com/assets/colab-badge.svg\" alt=\"Open In Colab\"/></a>"
      ]
    },
    {
      "cell_type": "markdown",
      "metadata": {
        "id": "aN_td5rjuUTC",
        "colab_type": "text"
      },
      "source": [
        " The perceptron model is given by \n",
        " $\n",
        "\\hat{y} = \\Theta \\left( \\mathbf{x}^T \\mathbf{w} \\right)\\,,\n",
        "$\n",
        "where $\\Theta$ is the Heaviside step function. We will again attempt to learn the AND and XOR functions, but because of the non-linearity of the step function we cannot solve for the weights using the normal equations. \n",
        "\n",
        "Perceptrons can be trained using the perceptron learning algorithm, which iteratively updates the weights depending on the size of the prediction error: \n",
        "\n",
        "1. Initialise the weights to either 0 or a small random value.\n",
        "\n",
        "2. Iteratively update the weights by \n",
        "$\n",
        "\\mathbf{w}  \\rightarrow  \\mathbf{w}  + \\alpha \\mathbf{X}^T \\left( \\mathbf{Y} - \\hat{\\mathbf{Y}} \\right)\\,, \n",
        "$ where $\\alpha$ is the learning rate. \n",
        "\n",
        "3. Repeat step 2 until a stopping condition it met. This could be, for example, a maximum number of iterations, or a condition that the loss has not improved significantly from the previous iteration. \n"
      ]
    },
    {
      "cell_type": "code",
      "metadata": {
        "id": "fQskpl1FubOu",
        "colab_type": "code",
        "colab": {}
      },
      "source": [
        "import numpy as np\n",
        "import matplotlib.pyplot as plt\n",
        "from matplotlib import cm"
      ],
      "execution_count": 0,
      "outputs": []
    },
    {
      "cell_type": "markdown",
      "metadata": {
        "id": "l1w9z9HxMWPp",
        "colab_type": "text"
      },
      "source": [
        "Let us first attempt to learn the AND function. We will set the initial weights to a small random value, the learning rate to $\\alpha=0.01$ and use a fixed number of iterations."
      ]
    },
    {
      "cell_type": "code",
      "metadata": {
        "id": "sSL4SeOeujMt",
        "colab_type": "code",
        "outputId": "db58080b-497d-48bd-b3f5-1c00dd5a4543",
        "colab": {
          "base_uri": "https://localhost:8080/",
          "height": 85
        }
      },
      "source": [
        "X = np.array([[1,0,0], [1,0,1], [1,1,0], [1,1,1]])\n",
        "print(X)"
      ],
      "execution_count": 3,
      "outputs": [
        {
          "output_type": "stream",
          "text": [
            "[[1 0 0]\n",
            " [1 0 1]\n",
            " [1 1 0]\n",
            " [1 1 1]]\n"
          ],
          "name": "stdout"
        }
      ]
    },
    {
      "cell_type": "code",
      "metadata": {
        "id": "PCipjechulG-",
        "colab_type": "code",
        "outputId": "86fed20b-14db-4e3d-a4b5-2d2fe1c698a3",
        "colab": {
          "base_uri": "https://localhost:8080/",
          "height": 85
        }
      },
      "source": [
        "Y = np.array([[0], [0], [0], [1]])\n",
        "print(Y)"
      ],
      "execution_count": 4,
      "outputs": [
        {
          "output_type": "stream",
          "text": [
            "[[0]\n",
            " [0]\n",
            " [0]\n",
            " [1]]\n"
          ],
          "name": "stdout"
        }
      ]
    },
    {
      "cell_type": "code",
      "metadata": {
        "id": "qDPzhbI4usAt",
        "colab_type": "code",
        "outputId": "bd2e54eb-59ef-4396-c13f-751981694112",
        "colab": {
          "base_uri": "https://localhost:8080/",
          "height": 68
        }
      },
      "source": [
        "np.random.seed(0)\n",
        "w = 0.1 * np.random.random(size=(3, 1))\n",
        "print(w)"
      ],
      "execution_count": 5,
      "outputs": [
        {
          "output_type": "stream",
          "text": [
            "[[0.05488135]\n",
            " [0.07151894]\n",
            " [0.06027634]]\n"
          ],
          "name": "stdout"
        }
      ]
    },
    {
      "cell_type": "code",
      "metadata": {
        "id": "TtZEBEc7w-P2",
        "colab_type": "code",
        "colab": {}
      },
      "source": [
        "learning_rate = 0.01\n",
        "num_epochs = 100"
      ],
      "execution_count": 0,
      "outputs": []
    },
    {
      "cell_type": "code",
      "metadata": {
        "id": "jnHSh6iYwwEx",
        "colab_type": "code",
        "colab": {
          "base_uri": "https://localhost:8080/",
          "height": 198
        },
        "outputId": "e4d8b1b5-f476-4bfc-ff0e-7807aecf35b0"
      },
      "source": [
        "for i in range(num_epochs):\n",
        "  Yhat = np.heaviside(np.matmul(X, w), 0)\n",
        "  w += learning_rate * np.matmul(X.T, Y - Yhat)"
      ],
      "execution_count": 7,
      "outputs": [
        {
          "output_type": "error",
          "ename": "NameError",
          "evalue": "ignored",
          "traceback": [
            "\u001b[0;31m---------------------------------------------------------------------------\u001b[0m",
            "\u001b[0;31mNameError\u001b[0m                                 Traceback (most recent call last)",
            "\u001b[0;32m<ipython-input-1-d49b085ab634>\u001b[0m in \u001b[0;36m<module>\u001b[0;34m()\u001b[0m\n\u001b[0;32m----> 1\u001b[0;31m \u001b[0;32mfor\u001b[0m \u001b[0mi\u001b[0m \u001b[0;32min\u001b[0m \u001b[0mrange\u001b[0m\u001b[0;34m(\u001b[0m\u001b[0mnum_epochs\u001b[0m\u001b[0;34m)\u001b[0m\u001b[0;34m:\u001b[0m\u001b[0;34m\u001b[0m\u001b[0;34m\u001b[0m\u001b[0m\n\u001b[0m\u001b[1;32m      2\u001b[0m   \u001b[0mYhat\u001b[0m \u001b[0;34m=\u001b[0m \u001b[0mnp\u001b[0m\u001b[0;34m.\u001b[0m\u001b[0mheaviside\u001b[0m\u001b[0;34m(\u001b[0m\u001b[0mnp\u001b[0m\u001b[0;34m.\u001b[0m\u001b[0mmatmul\u001b[0m\u001b[0;34m(\u001b[0m\u001b[0mX\u001b[0m\u001b[0;34m,\u001b[0m \u001b[0mw\u001b[0m\u001b[0;34m)\u001b[0m\u001b[0;34m,\u001b[0m \u001b[0;36m0\u001b[0m\u001b[0;34m)\u001b[0m\u001b[0;34m\u001b[0m\u001b[0;34m\u001b[0m\u001b[0m\n\u001b[1;32m      3\u001b[0m   \u001b[0mw\u001b[0m \u001b[0;34m+=\u001b[0m \u001b[0mlearning_rate\u001b[0m \u001b[0;34m*\u001b[0m \u001b[0mnp\u001b[0m\u001b[0;34m.\u001b[0m\u001b[0mmatmul\u001b[0m\u001b[0;34m(\u001b[0m\u001b[0mX\u001b[0m\u001b[0;34m.\u001b[0m\u001b[0mT\u001b[0m\u001b[0;34m,\u001b[0m \u001b[0mY\u001b[0m \u001b[0;34m-\u001b[0m \u001b[0mYhat\u001b[0m\u001b[0;34m)\u001b[0m\u001b[0;34m\u001b[0m\u001b[0;34m\u001b[0m\u001b[0m\n",
            "\u001b[0;31mNameError\u001b[0m: name 'num_epochs' is not defined"
          ]
        }
      ]
    },
    {
      "cell_type": "code",
      "metadata": {
        "id": "nc3TZaGxxFjF",
        "colab_type": "code",
        "outputId": "6982c2a4-79c9-4470-f879-d56a5e83c4dd",
        "colab": {
          "base_uri": "https://localhost:8080/",
          "height": 68
        }
      },
      "source": [
        "print(w)"
      ],
      "execution_count": 8,
      "outputs": [
        {
          "output_type": "stream",
          "text": [
            "[[-0.04511865]\n",
            " [ 0.03151894]\n",
            " [ 0.02027634]]\n"
          ],
          "name": "stdout"
        }
      ]
    },
    {
      "cell_type": "markdown",
      "metadata": {
        "id": "tI_D3xXaYGpY",
        "colab_type": "text"
      },
      "source": [
        "Check the classification of each example"
      ]
    },
    {
      "cell_type": "code",
      "metadata": {
        "id": "LG_zwIyFUKpG",
        "colab_type": "code",
        "outputId": "203d46d2-78e8-4c71-bb40-e6b7d4825631",
        "colab": {
          "base_uri": "https://localhost:8080/",
          "height": 85
        }
      },
      "source": [
        "Yhat = np.heaviside(np.matmul(X, w), 0)\n",
        "print(Yhat)"
      ],
      "execution_count": 9,
      "outputs": [
        {
          "output_type": "stream",
          "text": [
            "[[0.]\n",
            " [0.]\n",
            " [0.]\n",
            " [1.]]\n"
          ],
          "name": "stdout"
        }
      ]
    },
    {
      "cell_type": "markdown",
      "metadata": {
        "id": "UJEExacvYKdN",
        "colab_type": "text"
      },
      "source": [
        "Plot the decision boundary for all values of $\\mathbf{x}$"
      ]
    },
    {
      "cell_type": "code",
      "metadata": {
        "id": "vOGx1ozBysR0",
        "colab_type": "code",
        "colab": {}
      },
      "source": [
        "id0 = np.where(Y[:, 0] == 0)\n",
        "id1 = np.where(Y[:, 0] == 1)"
      ],
      "execution_count": 0,
      "outputs": []
    },
    {
      "cell_type": "code",
      "metadata": {
        "id": "DJEMDP-aTXNs",
        "colab_type": "code",
        "colab": {}
      },
      "source": [
        "xx, yy = np.mgrid[-1:2:.01, -1:2:.01]\n",
        "Yhat = np.heaviside(w[0] + w[1] * xx + w[2] * yy, 0)"
      ],
      "execution_count": 0,
      "outputs": []
    },
    {
      "cell_type": "code",
      "metadata": {
        "id": "rDsRKsjcxGba",
        "colab_type": "code",
        "outputId": "c6892638-1594-4929-bb71-6e83f92ce5e3",
        "colab": {
          "base_uri": "https://localhost:8080/",
          "height": 285
        }
      },
      "source": [
        "plt.figure()\n",
        "plt.contourf(xx, yy, Yhat, alpha=0.5)\n",
        "plt.scatter(X[id0, 1], X[id0, 2], color='blue')\n",
        "plt.scatter(X[id1, 1], X[id1, 2], color='red')\n",
        "plt.xlabel('$x_1$', fontsize=16)\n",
        "plt.ylabel('$x_2$', fontsize=16)\n",
        "plt.show()"
      ],
      "execution_count": 12,
      "outputs": [
        {
          "output_type": "display_data",
          "data": {
            "image/png": "[encoded data removed]",
            "text/plain": [
              "<Figure size 432x288 with 1 Axes>"
            ]
          },
          "metadata": {
            "tags": []
          }
        }
      ]
    },
    {
      "cell_type": "markdown",
      "metadata": {
        "id": "dtT2YXF_YCGS",
        "colab_type": "text"
      },
      "source": [
        "Now let us attempt to learn the XOR function."
      ]
    },
    {
      "cell_type": "code",
      "metadata": {
        "id": "WUPH0xFzPbgW",
        "colab_type": "code",
        "outputId": "5adad85c-c7cb-4dba-c8b4-a9b9e066eefe",
        "colab": {
          "base_uri": "https://localhost:8080/",
          "height": 85
        }
      },
      "source": [
        "Y = np.array([[0], [1], [1], [0]])\n",
        "print(Y)"
      ],
      "execution_count": 13,
      "outputs": [
        {
          "output_type": "stream",
          "text": [
            "[[0]\n",
            " [1]\n",
            " [1]\n",
            " [0]]\n"
          ],
          "name": "stdout"
        }
      ]
    },
    {
      "cell_type": "code",
      "metadata": {
        "id": "FvkY78IPPljN",
        "colab_type": "code",
        "outputId": "c9c77be1-8793-40f6-f30f-6caf65e91fcb",
        "colab": {
          "base_uri": "https://localhost:8080/",
          "height": 68
        }
      },
      "source": [
        "np.random.seed(0)\n",
        "w = 0.1 * np.random.random(size=(3, 1))\n",
        "print(w)"
      ],
      "execution_count": 14,
      "outputs": [
        {
          "output_type": "stream",
          "text": [
            "[[0.05488135]\n",
            " [0.07151894]\n",
            " [0.06027634]]\n"
          ],
          "name": "stdout"
        }
      ]
    },
    {
      "cell_type": "code",
      "metadata": {
        "id": "BcG7Ma7HYoV2",
        "colab_type": "code",
        "colab": {
          "base_uri": "https://localhost:8080/",
          "height": 198
        },
        "outputId": "422c1bbe-ea89-4f8d-b237-377fc418b891"
      },
      "source": [
        "for i in range(num_epochs):\n",
        "  Yhat = np.heaviside(np.matmul(X, w), 0)\n",
        "  w += alpha * np.matmul(X.T, Y - Yhat)"
      ],
      "execution_count": 15,
      "outputs": [
        {
          "output_type": "error",
          "ename": "NameError",
          "evalue": "ignored",
          "traceback": [
            "\u001b[0;31m---------------------------------------------------------------------------\u001b[0m",
            "\u001b[0;31mNameError\u001b[0m                                 Traceback (most recent call last)",
            "\u001b[0;32m<ipython-input-15-f5fc46e24d75>\u001b[0m in \u001b[0;36m<module>\u001b[0;34m()\u001b[0m\n\u001b[1;32m      1\u001b[0m \u001b[0;32mfor\u001b[0m \u001b[0mi\u001b[0m \u001b[0;32min\u001b[0m \u001b[0mrange\u001b[0m\u001b[0;34m(\u001b[0m\u001b[0mnum_epochs\u001b[0m\u001b[0;34m)\u001b[0m\u001b[0;34m:\u001b[0m\u001b[0;34m\u001b[0m\u001b[0;34m\u001b[0m\u001b[0m\n\u001b[1;32m      2\u001b[0m   \u001b[0mYhat\u001b[0m \u001b[0;34m=\u001b[0m \u001b[0mnp\u001b[0m\u001b[0;34m.\u001b[0m\u001b[0mheaviside\u001b[0m\u001b[0;34m(\u001b[0m\u001b[0mnp\u001b[0m\u001b[0;34m.\u001b[0m\u001b[0mmatmul\u001b[0m\u001b[0;34m(\u001b[0m\u001b[0mX\u001b[0m\u001b[0;34m,\u001b[0m \u001b[0mw\u001b[0m\u001b[0;34m)\u001b[0m\u001b[0;34m,\u001b[0m \u001b[0;36m0\u001b[0m\u001b[0;34m)\u001b[0m\u001b[0;34m\u001b[0m\u001b[0;34m\u001b[0m\u001b[0m\n\u001b[0;32m----> 3\u001b[0;31m   \u001b[0mw\u001b[0m \u001b[0;34m+=\u001b[0m \u001b[0malpha\u001b[0m \u001b[0;34m*\u001b[0m \u001b[0mnp\u001b[0m\u001b[0;34m.\u001b[0m\u001b[0mmatmul\u001b[0m\u001b[0;34m(\u001b[0m\u001b[0mX\u001b[0m\u001b[0;34m.\u001b[0m\u001b[0mT\u001b[0m\u001b[0;34m,\u001b[0m \u001b[0mY\u001b[0m \u001b[0;34m-\u001b[0m \u001b[0mYhat\u001b[0m\u001b[0;34m)\u001b[0m\u001b[0;34m\u001b[0m\u001b[0;34m\u001b[0m\u001b[0m\n\u001b[0m",
            "\u001b[0;31mNameError\u001b[0m: name 'alpha' is not defined"
          ]
        }
      ]
    },
    {
      "cell_type": "code",
      "metadata": {
        "id": "SinXP2odYrGt",
        "colab_type": "code",
        "colab": {}
      },
      "source": [
        "print(w)"
      ],
      "execution_count": 0,
      "outputs": []
    },
    {
      "cell_type": "markdown",
      "metadata": {
        "id": "J5TIACPHYzsr",
        "colab_type": "text"
      },
      "source": [
        "Check the classification of each example"
      ]
    },
    {
      "cell_type": "code",
      "metadata": {
        "id": "LhmxFAEPYzDk",
        "colab_type": "code",
        "colab": {}
      },
      "source": [
        "Yhat = np.heaviside(np.matmul(X, w), 0)\n",
        "print(Yhat)"
      ],
      "execution_count": 0,
      "outputs": []
    },
    {
      "cell_type": "markdown",
      "metadata": {
        "id": "cJmkrLQVZCT2",
        "colab_type": "text"
      },
      "source": [
        "Plot the decision boundary for all values of $\\mathbf{x}$"
      ]
    },
    {
      "cell_type": "code",
      "metadata": {
        "id": "6skWqxGuYtRd",
        "colab_type": "code",
        "colab": {}
      },
      "source": [
        "id0 = np.where(Y[:, 0] == 0)\n",
        "id1 = np.where(Y[:, 0] == 1)"
      ],
      "execution_count": 0,
      "outputs": []
    },
    {
      "cell_type": "code",
      "metadata": {
        "id": "Yb_yvjN4ZE33",
        "colab_type": "code",
        "colab": {}
      },
      "source": [
        "xx, yy = np.mgrid[-1:2:.01, -1:2:.01]\n",
        "Yhat = np.heaviside(w[0] + w[1] * xx + w[2] * yy, 0)"
      ],
      "execution_count": 0,
      "outputs": []
    },
    {
      "cell_type": "code",
      "metadata": {
        "id": "MODNyTFwZHaP",
        "colab_type": "code",
        "colab": {}
      },
      "source": [
        "plt.figure()\n",
        "plt.contourf(xx, yy, Yhat, alpha=0.5)\n",
        "plt.scatter(X[id0, 1], X[id0, 2], color='blue')\n",
        "plt.scatter(X[id1, 1], X[id1, 2], color='red')\n",
        "plt.xlabel('$x_1$', fontsize=16)\n",
        "plt.ylabel('$x_2$', fontsize=16)\n",
        "plt.show()"
      ],
      "execution_count": 0,
      "outputs": []
    },
    {
      "cell_type": "code",
      "metadata": {
        "id": "pxyh396ecbnR",
        "colab_type": "code",
        "colab": {}
      },
      "source": [
        ""
      ],
      "execution_count": 0,
      "outputs": []
    }
  ]
}