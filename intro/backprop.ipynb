{
  "nbformat": 4,
  "nbformat_minor": 0,
  "metadata": {
    "colab": {
      "name": "backprop.ipynb",
      "provenance": [],
      "authorship_tag": "ABX9TyN57+4LLPLtR4lEsOC7jqa8",
      "include_colab_link": true
    },
    "kernelspec": {
      "name": "python3",
      "display_name": "Python 3"
    }
  },
  "cells": [
    {
      "cell_type": "markdown",
      "metadata": {
        "id": "view-in-github",
        "colab_type": "text"
      },
      "source": [
        "<a href=\"https://colab.research.google.com/github/adammoss/MLiS2/blob/master/intro/backprop.ipynb\" target=\"_parent\"><img src=\"https://colab.research.google.com/assets/colab-badge.svg\" alt=\"Open In Colab\"/></a>"
      ]
    },
    {
      "cell_type": "markdown",
      "metadata": {
        "id": "hq1AS2ym_fP0",
        "colab_type": "text"
      },
      "source": [
        "Let us again attempt to learn the XOR function using the same MLP network,  this time starting with random initial weights and using back-propogation with simple gradient descent.\n",
        "\n",
        "The error functions for each neuron are\n",
        "\\begin{eqnarray}\n",
        "\\Delta_1^{(2)} &=& {\\partial{J} \\over \\partial a_1^{(2)}}\\,, \\\\\n",
        "\\Delta_1^{(1)} &=&  \\Delta_1^{(2)} W_{11}^{(2)}   \\Theta ( z_1^{(1)} )  \\\\\n",
        "\\Delta_2^{(1)} &=&  \\Delta_1^{(2)} W_{21}^{(2)}  \\Theta ( z_2^{(1)} )  \\,,\n",
        "\\end{eqnarray}\n",
        "since the Heavisde step function $\\Theta$ is the derivative of the ReLU activation function."
      ]
    },
    {
      "cell_type": "code",
      "metadata": {
        "id": "QVbMGrw2__Zm",
        "colab_type": "code",
        "colab": {}
      },
      "source": [
        "import numpy as np\n",
        "import matplotlib.pyplot as plt\n",
        "from matplotlib import cm"
      ],
      "execution_count": 0,
      "outputs": []
    },
    {
      "cell_type": "code",
      "metadata": {
        "id": "7udklsBw_TOu",
        "colab_type": "code",
        "colab": {}
      },
      "source": [
        "np.random.seed(0)"
      ],
      "execution_count": 0,
      "outputs": []
    },
    {
      "cell_type": "code",
      "metadata": {
        "id": "73KKJzkHZq0g",
        "colab_type": "code",
        "colab": {}
      },
      "source": [
        "num_epochs = 10000\n",
        "learning_rate = 0.01"
      ],
      "execution_count": 0,
      "outputs": []
    },
    {
      "cell_type": "code",
      "metadata": {
        "id": "f_EC8JkUAHwO",
        "colab_type": "code",
        "colab": {
          "base_uri": "https://localhost:8080/",
          "height": 85
        },
        "outputId": "6f13c0e9-7545-4e5d-9d64-f2e753757a99"
      },
      "source": [
        "X = np.array([[0,0], [0,1], [1,0], [1,1]])\n",
        "print(X)"
      ],
      "execution_count": 1618,
      "outputs": [
        {
          "output_type": "stream",
          "text": [
            "[[0 0]\n",
            " [0 1]\n",
            " [1 0]\n",
            " [1 1]]\n"
          ],
          "name": "stdout"
        }
      ]
    },
    {
      "cell_type": "code",
      "metadata": {
        "id": "JzYShJU4ANmR",
        "colab_type": "code",
        "colab": {
          "base_uri": "https://localhost:8080/",
          "height": 85
        },
        "outputId": "a75cb754-6094-4c61-d443-ad7aada412fb"
      },
      "source": [
        "Y = np.array([[0], [1], [1], [0]])\n",
        "print(Y)"
      ],
      "execution_count": 1619,
      "outputs": [
        {
          "output_type": "stream",
          "text": [
            "[[0]\n",
            " [1]\n",
            " [1]\n",
            " [0]]\n"
          ],
          "name": "stdout"
        }
      ]
    },
    {
      "cell_type": "markdown",
      "metadata": {
        "id": "ehgJZzOZi0_A",
        "colab_type": "text"
      },
      "source": [
        "Define the MLP class"
      ]
    },
    {
      "cell_type": "code",
      "metadata": {
        "id": "TuU43LLm_Aj1",
        "colab_type": "code",
        "colab": {}
      },
      "source": [
        "class MLP(object):\n",
        "\n",
        "  def __init__(self):\n",
        "    # Initialise with random weights\n",
        "    self.weights_1 = 0.1 * np.random.normal(size=(3,2))\n",
        "    self.weights_2 = 0.1 * np.random.normal(size=(3,1))\n",
        "\n",
        "  def forward(self, x):\n",
        "    # Do a forward pass\n",
        "    if len(x.shape) == 1:\n",
        "      # Single example, so add a batch dimension of 1\n",
        "      x = np.expand_dims(x, axis=0)\n",
        "    # Hidden layer \n",
        "    z_1 = np.matmul(np.hstack((np.ones(shape=(x.shape[0], 1)), x)), self.weights_1)\n",
        "    # Apply ReLU activation function\n",
        "    a_1 = np.maximum(z_1, 0)\n",
        "    # Output layer\n",
        "    z_2 = np.matmul(np.hstack((np.ones(shape=(a_1.shape[0], 1)), a_1)), self.weights_2)\n",
        "    a_2 = z_2\n",
        "    return z_1, a_1, z_2, a_2"
      ],
      "execution_count": 0,
      "outputs": []
    },
    {
      "cell_type": "markdown",
      "metadata": {
        "id": "dSTxT91KjAe4",
        "colab_type": "text"
      },
      "source": [
        "Pass the true solution through the network and check it gives zero loss"
      ]
    },
    {
      "cell_type": "code",
      "metadata": {
        "id": "GGnwcJdzUs1l",
        "colab_type": "code",
        "colab": {
          "base_uri": "https://localhost:8080/",
          "height": 34
        },
        "outputId": "a00a5fda-8744-4205-836b-fb4a5874c9d5"
      },
      "source": [
        "m = MLP()\n",
        "m.weights_1 = np.array([[0, -1], [1,1], [1,1]], dtype=np.float)\n",
        "m.weights_2 = np.array([[0], [1], [-2]], dtype=np.float)\n",
        "z_1, a_1, z_2, a_2 = m.forward(X)\n",
        "print(0.25 * np.sum((a_2 - Y)**2))"
      ],
      "execution_count": 1621,
      "outputs": [
        {
          "output_type": "stream",
          "text": [
            "0.0\n"
          ],
          "name": "stdout"
        }
      ]
    },
    {
      "cell_type": "markdown",
      "metadata": {
        "id": "GPBLY7qmjJS-",
        "colab_type": "text"
      },
      "source": [
        "Check visualising the loss function by taking a slice though w^2[0] and w^2[1] with all other weights  "
      ]
    },
    {
      "cell_type": "code",
      "metadata": {
        "id": "dT25Ym19Egxn",
        "colab_type": "code",
        "colab": {
          "base_uri": "https://localhost:8080/",
          "height": 265
        },
        "outputId": "0a3f1719-83fe-4256-a1f5-8e5f2e61eae8"
      },
      "source": [
        "m = MLP()\n",
        "m.weights_1 = np.array([[0, -1], [1,1], [1,1]], dtype=np.float)\n",
        "m.weights_2 = np.array([[0], [1], [-2]], dtype=np.float)\n",
        "# Test plotting the loss versus weights\n",
        "n = 50\n",
        "test_weights = np.linspace(-5, 5, n)\n",
        "loss = np.zeros((n, n))\n",
        "for i in range(n):\n",
        "  m.weights_2[0, 0] = test_weights[i]\n",
        "  for j in range(n):\n",
        "    m.weights_2[1, 0] = test_weights[j]\n",
        "    z_1, a_1, z_2, a_2 = m.forward(X)\n",
        "    loss[i, j] = 0.25 * np.sum((a_2 - Y)**2)\n",
        "plt.figure()\n",
        "plt.contourf(test_weights, test_weights, np.log(loss.T), levels=100)\n",
        "plt.show()"
      ],
      "execution_count": 1622,
      "outputs": [
        {
          "output_type": "display_data",
          "data": {
            "image/png": "[encoded data removed]",
            "text/plain": [
              "<Figure size 432x288 with 1 Axes>"
            ]
          },
          "metadata": {
            "tags": []
          }
        }
      ]
    },
    {
      "cell_type": "markdown",
      "metadata": {
        "id": "eaq2lIzwqoPY",
        "colab_type": "text"
      },
      "source": [
        "Check optimising weights and biases connecting hidden and output layers only"
      ]
    },
    {
      "cell_type": "code",
      "metadata": {
        "id": "6IP6GWSHP4Ne",
        "colab_type": "code",
        "colab": {
          "base_uri": "https://localhost:8080/",
          "height": 1000
        },
        "outputId": "0008fed3-d1c8-4915-cb93-c3decc371a89"
      },
      "source": [
        "m = MLP()\n",
        "m.weights_1 = np.array([[0, -1], [1,1], [1,1]], dtype=np.float)\n",
        "weights_2_history = []\n",
        "for epoch in range(num_epochs):\n",
        "  # Do forward pass\n",
        "  z_1, a_1, z_2, a_2 = m.forward(X)\n",
        "  loss = 0.25 * np.sum((a_2 - Y)**2)\n",
        "  if epoch % 100 == 0:\n",
        "    print(epoch, loss)\n",
        "  # Delta_2_1 has shape(4, 1), the first dimension being the batch dimension\n",
        "  delta_2_1 = 0.5 * ( a_2 - Y)\n",
        "  # Sum up over training examples\n",
        "  m.weights_2[0, 0] -= learning_rate * np.sum(delta_2_1[:, 0])\n",
        "  m.weights_2[1, 0] -= learning_rate * np.sum(delta_2_1[:, 0] * a_1[:, 0])\n",
        "  m.weights_2[2, 0] -= learning_rate * np.sum(delta_2_1[:, 0] * a_1[:, 1])\n",
        "  weights_2_history.append(np.copy(m.weights_2))\n",
        "weights_2_history = np.array(weights_2_history)"
      ],
      "execution_count": 1623,
      "outputs": [
        {
          "output_type": "stream",
          "text": [
            "0 0.4355446354933112\n",
            "100 0.2081155930827479\n",
            "200 0.16716858046849892\n",
            "300 0.13740577761446743\n",
            "400 0.11397501629094683\n",
            "500 0.09487371257524689\n",
            "600 0.07908063547359141\n",
            "700 0.06595069965481909\n",
            "800 0.05501164700785247\n",
            "900 0.045890493714484074\n",
            "1000 0.03828277002885988\n",
            "1100 0.031936606567038076\n",
            "1200 0.026642563563687136\n",
            "1300 0.022226135174370176\n",
            "1400 0.018541811372829054\n",
            "1500 0.015468224542276907\n",
            "1600 0.012904132562759817\n",
            "1700 0.010765077946335168\n",
            "1800 0.008980604014999406\n",
            "1900 0.00749193357244775\n",
            "2000 0.006250032700143078\n",
            "2100 0.005213995613215177\n",
            "2200 0.004349697284231518\n",
            "2300 0.003628669425517311\n",
            "2400 0.00302716279773092\n",
            "2500 0.002525364955999316\n",
            "2600 0.002106747666761571\n",
            "2700 0.0017575225002118642\n",
            "2800 0.0014661866665321857\n",
            "2900 0.0012231441366231978\n",
            "3000 0.001020389567785671\n",
            "3100 0.0008512446234835096\n",
            "3200 0.0007101380020790257\n",
            "3300 0.0005924219291196016\n",
            "3400 0.000494219068792677\n",
            "3500 0.00041229481211353485\n",
            "3600 0.00034395073527007707\n",
            "3700 0.0002869357188521909\n",
            "3800 0.00023937180040791938\n",
            "3900 0.0001996923180555457\n",
            "4000 0.00016659030772397655\n",
            "4100 0.0001389754543279416\n",
            "4200 0.00011593817893450549\n",
            "4300 9.671967902282772e-05\n",
            "4400 8.068693502218532e-05\n",
            "4500 6.731185989293405e-05\n",
            "4600 5.61539049785454e-05\n",
            "4700 4.6845549199728375e-05\n",
            "4800 3.908019363323984e-05\n",
            "4900 3.2602062746666075e-05\n",
            "5000 2.7197779655662622e-05\n",
            "5100 2.2689337909259634e-05\n",
            "5200 1.892823830762276e-05\n",
            "5300 1.5790597630611627e-05\n",
            "5400 1.317306816828611e-05\n",
            "5500 1.0989433650687643e-05\n",
            "5600 9.167769453561036e-06\n",
            "5700 7.648073542749971e-06\n",
            "5800 6.380290125272032e-06\n",
            "5900 5.322660909978336e-06\n",
            "6000 4.440349671624053e-06\n",
            "6100 3.7042948141452868e-06\n",
            "6200 3.0902521388784275e-06\n",
            "6300 2.577996288356277e-06\n",
            "6400 2.1506545628315853e-06\n",
            "6500 1.7941511667487797e-06\n",
            "6600 1.4967435797348479e-06\n",
            "6700 1.2486357810846047e-06\n",
            "6800 1.0416555881140201e-06\n",
            "6900 8.689854805434533e-07\n",
            "7000 7.249380447933873e-07\n",
            "7100 6.047686417729277e-07\n",
            "7200 5.045191278050853e-07\n",
            "7300 4.2088748116143646e-07\n",
            "7400 3.5111903996414964e-07\n",
            "7500 2.9291576904391364e-07\n",
            "7600 2.4436056718319877e-07\n",
            "7700 2.0385412157580904e-07\n",
            "7800 1.7006222960816427e-07\n",
            "7900 1.4187185285096853e-07\n",
            "8000 1.1835445576446432e-07\n",
            "8100 9.87354215640255e-08\n",
            "8200 8.236853786747113e-08\n",
            "8300 6.871471173114119e-08\n",
            "8400 5.732421298889334e-08\n",
            "8500 4.782186102508872e-08\n",
            "8600 3.989466706414081e-08\n",
            "8700 3.32815249353913e-08\n",
            "8800 2.7764610749673414e-08\n",
            "8900 2.316220820939242e-08\n",
            "9000 1.9322723231135265e-08\n",
            "9100 1.6119690734611858e-08\n",
            "9200 1.3447609132113519e-08\n",
            "9300 1.121846531345952e-08\n",
            "9400 9.358835667583925e-09\n",
            "9500 7.80746765315823e-09\n",
            "9600 6.513262260401074e-09\n",
            "9700 5.433590910314316e-09\n",
            "9800 4.532891353124099e-09\n",
            "9900 3.781496317681114e-09\n"
          ],
          "name": "stdout"
        }
      ]
    },
    {
      "cell_type": "code",
      "metadata": {
        "id": "BWD8M2WqRyvg",
        "colab_type": "code",
        "colab": {
          "base_uri": "https://localhost:8080/",
          "height": 265
        },
        "outputId": "d56a20f7-9ac0-4f51-e9b2-2285d1a8b464"
      },
      "source": [
        "plt.figure()\n",
        "ax = plt.subplot(2, 2, 1)\n",
        "ax.scatter(weights_2_history[:, 0, 0], weights_2_history[:, 1, 0])\n",
        "ax = plt.subplot(2, 2, 2)\n",
        "ax.scatter(weights_2_history[:, 0, 0], weights_2_history[:, 2, 0])\n",
        "ax = plt.subplot(2, 2, 3)\n",
        "ax.scatter(weights_2_history[:, 1, 0], weights_2_history[:, 2, 0])\n",
        "plt.show()"
      ],
      "execution_count": 1624,
      "outputs": [
        {
          "output_type": "display_data",
          "data": {
            "image/png": "[encoded data removed]",
            "text/plain": [
              "<Figure size 432x288 with 3 Axes>"
            ]
          },
          "metadata": {
            "tags": []
          }
        }
      ]
    },
    {
      "cell_type": "code",
      "metadata": {
        "id": "T9MVI58YWMpo",
        "colab_type": "code",
        "colab": {
          "base_uri": "https://localhost:8080/",
          "height": 68
        },
        "outputId": "f3fc3a5f-b68c-4b6b-c81e-558d74cfb313"
      },
      "source": [
        "print(m.weights_1)"
      ],
      "execution_count": 1625,
      "outputs": [
        {
          "output_type": "stream",
          "text": [
            "[[ 0. -1.]\n",
            " [ 1.  1.]\n",
            " [ 1.  1.]]\n"
          ],
          "name": "stdout"
        }
      ]
    },
    {
      "cell_type": "code",
      "metadata": {
        "id": "JMnXBF5YePYd",
        "colab_type": "code",
        "colab": {
          "base_uri": "https://localhost:8080/",
          "height": 68
        },
        "outputId": "8770ab73-bb1c-41e9-83f0-8f6bf03f1b2e"
      },
      "source": [
        "print(m.weights_2)"
      ],
      "execution_count": 1626,
      "outputs": [
        {
          "output_type": "stream",
          "text": [
            "[[ 7.64532192e-05]\n",
            " [ 9.99872493e-01]\n",
            " [-1.99978194e+00]]\n"
          ],
          "name": "stdout"
        }
      ]
    },
    {
      "cell_type": "code",
      "metadata": {
        "id": "Fn3V1F1tn6ku",
        "colab_type": "code",
        "colab": {
          "base_uri": "https://localhost:8080/",
          "height": 85
        },
        "outputId": "81b7d07e-81ff-44ab-ce0e-9b915158f357"
      },
      "source": [
        "z_1, a_1, z_2, a_2 = m.forward(X)\n",
        "print(a_2)"
      ],
      "execution_count": 1627,
      "outputs": [
        {
          "output_type": "stream",
          "text": [
            "[[7.64532192e-05]\n",
            " [9.99948946e-01]\n",
            " [9.99948946e-01]\n",
            " [3.95041928e-05]]\n"
          ],
          "name": "stdout"
        }
      ]
    },
    {
      "cell_type": "code",
      "metadata": {
        "id": "kaRG-DXJjiD1",
        "colab_type": "code",
        "colab": {
          "base_uri": "https://localhost:8080/",
          "height": 1000
        },
        "outputId": "5592a8ad-bfaa-4ee3-e677-2f81dd9a37c9"
      },
      "source": [
        "m = MLP()\n",
        "weights_1_history = []\n",
        "weights_2_history = []\n",
        "for epoch in range(num_epochs):\n",
        "  # Do forward pass\n",
        "  z_1, a_1, z_2, a_2 = m.forward(X)\n",
        "  loss = 0.25 * np.sum((a_2 - Y)**2)\n",
        "  if epoch % 100 == 0:\n",
        "    print(epoch, loss)\n",
        "  # Delta's have shape(4, 1), the first dimension being the batch dimension\n",
        "  delta_2_1 = 0.5 * ( a_2 - Y)\n",
        "  g_prime = np.heaviside(z_1, 0)\n",
        "  delta_1_1 = delta_2_1 * m.weights_2[1, 0] * g_prime[:, 0:1]\n",
        "  delta_1_2 = delta_2_1 * m.weights_2[2, 0] * g_prime[:, 1:2]\n",
        "  # Biases of layers connecting input and hidden layers\n",
        "  m.weights_1[0, 0] -= learning_rate * np.sum(delta_1_1[:, 0])\n",
        "  #print(delta_2_1, m.weights_2[2, 0], z_1[:, 1], np.heaviside(z_1[:, 1], 0), delta_1_2) \n",
        "  m.weights_1[0, 1] -= learning_rate * np.sum(delta_1_2[:, 0])\n",
        "  # Weights of layers connecting input and hidden layers \n",
        "  m.weights_1[1, 0] -= learning_rate * np.sum(delta_1_1[:, 0] * X[:, 0])\n",
        "  m.weights_1[2, 0] -= learning_rate * np.sum(delta_1_1[:, 0] * X[:, 1])\n",
        "  m.weights_1[1, 1] -= learning_rate * np.sum(delta_1_2[:, 0] * X[:, 0])\n",
        "  m.weights_1[2, 1] -= learning_rate * np.sum(delta_1_2[:, 0] * X[:, 1])\n",
        "  # Biases of layers connecting hidden and output layers\n",
        "  m.weights_2[0, 0] -= learning_rate * np.sum(delta_2_1[:, 0])\n",
        "  # Weights of layers connecting hidden and output layers\n",
        "  m.weights_2[1, 0] -= learning_rate * np.sum(delta_2_1[:, 0] * a_1[:, 0])\n",
        "  m.weights_2[2, 0] -= learning_rate * np.sum(delta_2_1[:, 0] * a_1[:, 1])\n",
        "  weights_1_history.append(np.copy(m.weights_1))\n",
        "  weights_2_history.append(np.copy(m.weights_2))\n",
        "weights_1_history = np.array(weights_1_history)\n",
        "weights_2_history = np.array(weights_2_history)"
      ],
      "execution_count": 1628,
      "outputs": [
        {
          "output_type": "stream",
          "text": [
            "0 0.7384189367424909\n",
            "100 0.25757097510314464\n",
            "200 0.25011836556059625\n",
            "300 0.24995779349032357\n",
            "400 0.24988725565558184\n",
            "500 0.2498015057291625\n",
            "600 0.24969224825568878\n",
            "700 0.24954484578008768\n",
            "800 0.24934181181021936\n",
            "900 0.2490584967619614\n",
            "1000 0.24865985454589537\n",
            "1100 0.24810031181317244\n",
            "1200 0.2473132177448137\n",
            "1300 0.24620508163799099\n",
            "1400 0.24466173877816452\n",
            "1500 0.24271954161127648\n",
            "1600 0.2404457699808692\n",
            "1700 0.2376280159724097\n",
            "1800 0.23409351628941258\n",
            "1900 0.2297379213333516\n",
            "2000 0.2247056348571527\n",
            "2100 0.21870915046030198\n",
            "2200 0.21222556604036064\n",
            "2300 0.20520350243921723\n",
            "2400 0.19797951865024144\n",
            "2500 0.19119699026459852\n",
            "2600 0.18469375476211164\n",
            "2700 0.17903810872982515\n",
            "2800 0.17390974893858405\n",
            "2900 0.16936889884192838\n",
            "3000 0.16535261220201003\n",
            "3100 0.1611426443183637\n",
            "3200 0.15641758462452876\n",
            "3300 0.1507436447693162\n",
            "3400 0.1439087341475015\n",
            "3500 0.135448016090583\n",
            "3600 0.12564448573561723\n",
            "3700 0.11462011365493127\n",
            "3800 0.10262447987155424\n",
            "3900 0.09045093332022268\n",
            "4000 0.07817649509368059\n",
            "4100 0.06660013882754316\n",
            "4200 0.055543580786466186\n",
            "4300 0.04572440500712187\n",
            "4400 0.03688962625328074\n",
            "4500 0.029388137265245078\n",
            "4600 0.023109795904910482\n",
            "4700 0.018045495929589924\n",
            "4800 0.013955894442718412\n",
            "4900 0.010729741096230204\n",
            "5000 0.0082076121074977\n",
            "5100 0.006215221294306853\n",
            "5200 0.004646970852825734\n",
            "5300 0.003484558061139249\n",
            "5400 0.002585192243478843\n",
            "5500 0.0019237946882930436\n",
            "5600 0.0014163491232846292\n",
            "5700 0.0010355052156987817\n",
            "5800 0.0007649014455501835\n",
            "5900 0.000558612784543589\n",
            "6000 0.0004056473626584357\n",
            "6100 0.0002974178468381222\n",
            "6200 0.00021611492308987656\n",
            "6300 0.00015642921907585005\n",
            "6400 0.00011429466078891134\n",
            "6500 8.252299880923875e-05\n",
            "6600 5.972977584270024e-05\n",
            "6700 4.350332574032053e-05\n",
            "6800 3.132772095296289e-05\n",
            "6900 2.2651725689070668e-05\n",
            "7000 1.643558214581786e-05\n",
            "7100 1.1816408478534046e-05\n",
            "7200 8.565322480119753e-06\n",
            "7300 6.1988946432788824e-06\n",
            "7400 4.449529587245727e-06\n",
            "7500 3.2407234843496046e-06\n",
            "7600 2.3295886256780696e-06\n",
            "7700 1.6791039874136275e-06\n",
            "7800 1.2177853341320162e-06\n",
            "7900 8.759211249181165e-07\n",
            "8000 6.310348721364764e-07\n",
            "8100 4.5771262779518674e-07\n",
            "8200 3.2789044915812093e-07\n",
            "8300 2.3768163507456534e-07\n",
            "8400 1.717445264973837e-07\n",
            "8500 1.231061225092924e-07\n",
            "8600 8.948177437169352e-08\n",
            "8700 6.432553230369657e-08\n",
            "8800 4.627898794571209e-08\n",
            "8900 3.3621396547922917e-08\n",
            "9000 2.4126015732764138e-08\n",
            "9100 1.741049503984036e-08\n",
            "9200 1.2593532931527086e-08\n",
            "9300 9.059528769946151e-09\n",
            "9400 6.542265813155807e-09\n",
            "9500 4.728585783766775e-09\n",
            "9600 3.394031439504015e-09\n",
            "9700 2.455202666730838e-09\n",
            "9800 1.7735534305408511e-09\n",
            "9900 1.2738974233476585e-09\n"
          ],
          "name": "stdout"
        }
      ]
    },
    {
      "cell_type": "code",
      "metadata": {
        "id": "l_UNqVI12Fez",
        "colab_type": "code",
        "colab": {
          "base_uri": "https://localhost:8080/",
          "height": 863
        },
        "outputId": "42daee03-ec7d-4480-d9db-27fbda496eb8"
      },
      "source": [
        "plt.figure(figsize=(15, 15))\n",
        "ax = plt.subplot(3, 3, 1)\n",
        "ax.plot(weights_1_history[:,0,0])\n",
        "ax = plt.subplot(3, 3, 2)\n",
        "ax.plot(weights_1_history[:,0,1])\n",
        "ax = plt.subplot(3, 3, 3)\n",
        "ax.plot(weights_1_history[:,1,0])\n",
        "ax = plt.subplot(3, 3, 4)\n",
        "ax.plot(weights_1_history[:,1,1])\n",
        "ax = plt.subplot(3, 3, 5)\n",
        "ax.plot(weights_1_history[:,2,1])\n",
        "ax = plt.subplot(3, 3, 6)\n",
        "ax.plot(weights_1_history[:,2,1])\n",
        "ax = plt.subplot(3, 3, 7)\n",
        "ax.plot(weights_2_history[:,0,0])\n",
        "ax = plt.subplot(3, 3, 8)\n",
        "ax.plot(weights_2_history[:,1,0])\n",
        "ax = plt.subplot(3, 3, 9)\n",
        "ax.plot(weights_2_history[:,2,0])\n",
        "plt.show()"
      ],
      "execution_count": 1629,
      "outputs": [
        {
          "output_type": "display_data",
          "data": {
            "image/png": "[encoded data removed]",
            "text/plain": [
              "<Figure size 1080x1080 with 9 Axes>"
            ]
          },
          "metadata": {
            "tags": []
          }
        }
      ]
    },
    {
      "cell_type": "code",
      "metadata": {
        "id": "lVModDozl3CF",
        "colab_type": "code",
        "colab": {
          "base_uri": "https://localhost:8080/",
          "height": 68
        },
        "outputId": "1b7da27f-9646-4284-9a0b-cb81d6963711"
      },
      "source": [
        "print(m.weights_1)"
      ],
      "execution_count": 1630,
      "outputs": [
        {
          "output_type": "stream",
          "text": [
            "[[-1.07686001e+00  6.28768955e-08]\n",
            " [ 1.07686030e+00  8.45565951e-01]\n",
            " [ 1.07686030e+00  8.45565951e-01]]\n"
          ],
          "name": "stdout"
        }
      ]
    },
    {
      "cell_type": "code",
      "metadata": {
        "id": "AbgcccxHoKjC",
        "colab_type": "code",
        "colab": {
          "base_uri": "https://localhost:8080/",
          "height": 68
        },
        "outputId": "652a771b-38e9-4b47-aea3-8a39f801fc4a"
      },
      "source": [
        "print(m.weights_2)"
      ],
      "execution_count": 1631,
      "outputs": [
        {
          "output_type": "stream",
          "text": [
            "[[ 4.77625652e-05]\n",
            " [-1.85714807e+00]\n",
            " [ 1.18255507e+00]]\n"
          ],
          "name": "stdout"
        }
      ]
    },
    {
      "cell_type": "code",
      "metadata": {
        "id": "nePskL-toOUq",
        "colab_type": "code",
        "colab": {
          "base_uri": "https://localhost:8080/",
          "height": 85
        },
        "outputId": "bb6c3f74-d5c8-4bf6-862f-7af76de9aa14"
      },
      "source": [
        "z_1, a_1, z_2, a_2 = m.forward(X)\n",
        "print(a_2)"
      ],
      "execution_count": 1632,
      "outputs": [
        {
          "output_type": "stream",
          "text": [
            "[[4.78369206e-05]\n",
            " [9.99975598e-01]\n",
            " [9.99975599e-01]\n",
            " [1.48766588e-05]]\n"
          ],
          "name": "stdout"
        }
      ]
    }
  ]
}