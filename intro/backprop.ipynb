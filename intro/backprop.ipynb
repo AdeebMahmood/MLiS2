{
  "nbformat": 4,
  "nbformat_minor": 0,
  "metadata": {
    "colab": {
      "name": "backprop.ipynb",
      "provenance": [],
      "authorship_tag": "ABX9TyPrlhFgqkzShXAy7d0GVCLF",
      "include_colab_link": true
    },
    "kernelspec": {
      "name": "python3",
      "display_name": "Python 3"
    }
  },
  "cells": [
    {
      "cell_type": "markdown",
      "metadata": {
        "id": "view-in-github",
        "colab_type": "text"
      },
      "source": [
        "<a href=\"https://colab.research.google.com/github/adammoss/MLiS2/blob/master/intro/backprop.ipynb\" target=\"_parent\"><img src=\"https://colab.research.google.com/assets/colab-badge.svg\" alt=\"Open In Colab\"/></a>"
      ]
    },
    {
      "cell_type": "markdown",
      "metadata": {
        "id": "hq1AS2ym_fP0",
        "colab_type": "text"
      },
      "source": [
        "Let us again attempt to learn the XOR function using the same MLP network,  this time starting with random initial weights and using back-propogation with simple gradient descent.\n",
        "\n",
        "The error functions for each neuron are\n",
        "\\begin{eqnarray}\n",
        "\\Delta_1^{(2)} &=& {\\partial{J} \\over \\partial a_1^{(2)}}\\,, \\\\\n",
        "\\Delta_1^{(1)} &=&  \\Delta_1^{(2)} W_{11}^{(2)}   \\Theta ( z_1^{(1)} )  \\\\\n",
        "\\Delta_2^{(1)} &=&  \\Delta_1^{(2)} W_{21}^{(2)}  \\Theta ( z_2^{(1)} )  \\,,\n",
        "\\end{eqnarray}\n",
        "since the Heavisde step function $\\Theta$ is the derivative of the ReLU activation function."
      ]
    },
    {
      "cell_type": "code",
      "metadata": {
        "id": "QVbMGrw2__Zm",
        "colab_type": "code",
        "colab": {}
      },
      "source": [
        "import numpy as np\n",
        "import matplotlib.pyplot as plt\n",
        "from matplotlib import cm"
      ],
      "execution_count": 0,
      "outputs": []
    },
    {
      "cell_type": "code",
      "metadata": {
        "id": "7udklsBw_TOu",
        "colab_type": "code",
        "colab": {}
      },
      "source": [
        "#np.random.seed(0)"
      ],
      "execution_count": 0,
      "outputs": []
    },
    {
      "cell_type": "code",
      "metadata": {
        "id": "73KKJzkHZq0g",
        "colab_type": "code",
        "colab": {}
      },
      "source": [
        "num_epochs = 1000\n",
        "learning_rate = 0.1"
      ],
      "execution_count": 0,
      "outputs": []
    },
    {
      "cell_type": "code",
      "metadata": {
        "id": "f_EC8JkUAHwO",
        "colab_type": "code",
        "colab": {
          "base_uri": "https://localhost:8080/",
          "height": 85
        },
        "outputId": "20b384f7-8339-42d5-b313-244e4aad6e2b"
      },
      "source": [
        "X = np.array([[0,0], [0,1], [1,0], [1,1]])\n",
        "print(X)"
      ],
      "execution_count": 520,
      "outputs": [
        {
          "output_type": "stream",
          "text": [
            "[[0 0]\n",
            " [0 1]\n",
            " [1 0]\n",
            " [1 1]]\n"
          ],
          "name": "stdout"
        }
      ]
    },
    {
      "cell_type": "code",
      "metadata": {
        "id": "JzYShJU4ANmR",
        "colab_type": "code",
        "colab": {
          "base_uri": "https://localhost:8080/",
          "height": 85
        },
        "outputId": "7e7a94df-6034-42e5-a7e0-17e371db02f1"
      },
      "source": [
        "Y = np.array([[0], [1], [1], [0]])\n",
        "print(Y)"
      ],
      "execution_count": 521,
      "outputs": [
        {
          "output_type": "stream",
          "text": [
            "[[0]\n",
            " [1]\n",
            " [1]\n",
            " [0]]\n"
          ],
          "name": "stdout"
        }
      ]
    },
    {
      "cell_type": "code",
      "metadata": {
        "id": "TuU43LLm_Aj1",
        "colab_type": "code",
        "colab": {}
      },
      "source": [
        "class MLP(object):\n",
        "\n",
        "  def __init__(self):\n",
        "    # Initialise with random weights\n",
        "    self.weights_1 = np.random.random(size=(3,2)) - 0.5\n",
        "    self.weights_2 = np.random.random(size=(3,1)) - 0.5\n",
        "\n",
        "  def forward(self, x):\n",
        "    if len(x.shape) == 1:\n",
        "      # Single example, add a batch dimension of 1\n",
        "      x = np.expand_dims(x, axis=0)\n",
        "    # Hidden layer \n",
        "    z_1 = np.matmul(np.hstack((np.ones(shape=(x.shape[0], 1)), x)), self.weights_1)\n",
        "    a_1 = np.maximum(z_1, 0)\n",
        "    # Output layer\n",
        "    z_2 = np.matmul(np.hstack((np.ones(shape=(a_1.shape[0], 1)), a_1)), self.weights_2)\n",
        "    a_2 = z_2\n",
        "    return z_1, a_1, z_2, a_2"
      ],
      "execution_count": 0,
      "outputs": []
    },
    {
      "cell_type": "code",
      "metadata": {
        "id": "dT25Ym19Egxn",
        "colab_type": "code",
        "colab": {
          "base_uri": "https://localhost:8080/",
          "height": 265
        },
        "outputId": "50a44097-4fb8-4faa-ac0f-c762f5c666e1"
      },
      "source": [
        "m = MLP()\n",
        "m.weights_1 = np.array([[0, -1], [1,1], [1,1]], dtype=np.float)\n",
        "m.weights_2 = np.array([[0], [1], [-2]], dtype=np.float)\n",
        "# Test loss versus weights\n",
        "n = 50\n",
        "test_weights = np.linspace(-5, 5, n)\n",
        "loss = np.zeros((n, n))\n",
        "for i in range(n):\n",
        "  m.weights_2[1, 0] = test_weights[i]\n",
        "  for j in range(n):\n",
        "    m.weights_2[2, 0] = test_weights[j]\n",
        "    z_1, a_1, z_2, a_2 = m.forward(X)\n",
        "    loss[i, j] = 0.25 * np.sum((a_2 - Y)**2)\n",
        "plt.contourf(test_weights, test_weights, np.log(loss), levels=100)\n",
        "plt.show()"
      ],
      "execution_count": 541,
      "outputs": [
        {
          "output_type": "display_data",
          "data": {
            "image/png": "[encoded data removed]",
            "text/plain": [
              "<Figure size 432x288 with 1 Axes>"
            ]
          },
          "metadata": {
            "tags": []
          }
        }
      ]
    },
    {
      "cell_type": "code",
      "metadata": {
        "id": "6IP6GWSHP4Ne",
        "colab_type": "code",
        "colab": {
          "base_uri": "https://localhost:8080/",
          "height": 187
        },
        "outputId": "2f17029c-5c4b-4641-9094-e5330a5b14a1"
      },
      "source": [
        "m = MLP()\n",
        "m.weights_1 = np.array([[0, -1], [1,1], [1,1]], dtype=np.float)\n",
        "m.weights_2 = np.array([[0], [1], [-2]], dtype=np.float) + 0.1 * np.random.normal(size=(3,1))\n",
        "for epoch in range(num_epochs):\n",
        "  # Do forward pass\n",
        "  z_1, a_1, z_2, a_2 = m.forward(X)\n",
        "  loss = 0.25 * np.sum((a_2 - Y)**2)\n",
        "  if epoch % 100 == 0:\n",
        "    print(epoch, loss)\n",
        "  # Delta_2_1 has shape(4, 1)\n",
        "  delta_2_1 = 0.5 * a_2 * ( a_2 - Y)\n",
        "  #print(a_1.shape)\n",
        "  #print(a_2.shape)\n",
        "  #print(delta_2_1.shape)\n",
        "  \n",
        "  #print(delta_2_1[:, 0] * a_1[:, 1])\n",
        "\n",
        "  m.weights_2[0, 0] -= learning_rate * np.sum(delta_2_1[:, 0])\n",
        "  #m.weights_2[1, 0] -= learning_rate * np.sum(delta_2_1[:, 0] * a_1[:, 0])\n",
        "  #m.weights_2[2, 0] -= learning_rate * np.sum(delta_2_1[:, 0] * a_1[:, 1])\n",
        "\n",
        "  #print(m.weights_2)\n",
        "\n",
        "  #loss = 0\n",
        "  #delta_2_1 = 0\n",
        "  #delta_1_1 = 0\n",
        "  #delta_1_2 = 0\n",
        "  #for i in range(4):\n",
        "  #  x = X[i, :]\n",
        "  #  y = Y[i]\n",
        "  #  z_1, a_1, z_2, a_2 = m.forward(X)\n",
        "  #  delta = 0.5 * a_2 * ( a_2 - y)\n",
        "  #  delta_2_1 += delta\n",
        "  #  #print(delta_2)\n",
        "  #  delta_1_1 += delta * w[1, 0] * np.heaviside(z_1[0], 0) * a_1[0]\n",
        "  #  delta_1_2 += delta * w[2, 0] * np.heaviside(z_1[1], 0) * a_1[1]\n",
        "  #  print(delta_2_1, delta_1_1, delta_1_2)\n",
        "  #w[0, 0] -= learning_rate * delta_2_1\n",
        "  #w[1, 0] -= learning_rate * delta_1_1 \n",
        "  #m.weights_2[2, 0] -= learning_rate * delta_1_2\n",
        "  "
      ],
      "execution_count": 547,
      "outputs": [
        {
          "output_type": "stream",
          "text": [
            "0 0.010126052004300973\n",
            "100 0.00023237632559576477\n",
            "200 0.00023237273475949704\n",
            "300 0.00023237273466784203\n",
            "400 0.0002323727346678396\n",
            "500 0.0002323727346678396\n",
            "600 0.00023237273466783953\n",
            "700 0.0002323727346678396\n",
            "800 0.0002323727346678396\n",
            "900 0.00023237273466783953\n"
          ],
          "name": "stdout"
        }
      ]
    },
    {
      "cell_type": "code",
      "metadata": {
        "id": "T9MVI58YWMpo",
        "colab_type": "code",
        "colab": {
          "base_uri": "https://localhost:8080/",
          "height": 68
        },
        "outputId": "62e2c5b4-2a10-444b-ef3d-121768c1b763"
      },
      "source": [
        "print(m.weights_1)"
      ],
      "execution_count": 548,
      "outputs": [
        {
          "output_type": "stream",
          "text": [
            "[[ 0. -1.]\n",
            " [ 1.  1.]\n",
            " [ 1.  1.]]\n"
          ],
          "name": "stdout"
        }
      ]
    },
    {
      "cell_type": "code",
      "metadata": {
        "id": "JMnXBF5YePYd",
        "colab_type": "code",
        "colab": {
          "base_uri": "https://localhost:8080/",
          "height": 68
        },
        "outputId": "0116b2ac-0d1b-41a8-a68b-31e0150b59fe"
      },
      "source": [
        "print(m.weights_2)"
      ],
      "execution_count": 549,
      "outputs": [
        {
          "output_type": "stream",
          "text": [
            "[[ 0.02364261]\n",
            " [ 0.97589264]\n",
            " [-1.99466551]]\n"
          ],
          "name": "stdout"
        }
      ]
    },
    {
      "cell_type": "code",
      "metadata": {
        "id": "FwTvWePrPNDm",
        "colab_type": "code",
        "colab": {}
      },
      "source": [
        ""
      ],
      "execution_count": 0,
      "outputs": []
    }
  ]
}