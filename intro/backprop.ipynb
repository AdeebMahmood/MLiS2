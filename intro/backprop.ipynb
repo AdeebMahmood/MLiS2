{
  "nbformat": 4,
  "nbformat_minor": 0,
  "metadata": {
    "colab": {
      "name": "backprop.ipynb",
      "provenance": [],
      "authorship_tag": "ABX9TyPbMc4Jjpsw3OMpR7KgSSSK",
      "include_colab_link": true
    },
    "kernelspec": {
      "name": "python3",
      "display_name": "Python 3"
    }
  },
  "cells": [
    {
      "cell_type": "markdown",
      "metadata": {
        "id": "view-in-github",
        "colab_type": "text"
      },
      "source": [
        "<a href=\"https://colab.research.google.com/github/adammoss/MLiS2/blob/master/intro/backprop.ipynb\" target=\"_parent\"><img src=\"https://colab.research.google.com/assets/colab-badge.svg\" alt=\"Open In Colab\"/></a>"
      ]
    },
    {
      "cell_type": "markdown",
      "metadata": {
        "id": "hq1AS2ym_fP0",
        "colab_type": "text"
      },
      "source": [
        "Let us again attempt to learn the XOR function using the same MLP network,  this time starting with random initial weights and using back-propogation with simple gradient descent.\n",
        "\n",
        "The error functions for each neuron are\n",
        "\\begin{eqnarray}\n",
        "\\Delta_1^{(2)} &=& {\\partial{J} \\over \\partial a_1^{(2)}}\\,, \\\\\n",
        "\\Delta_1^{(1)} &=&  \\Delta_1^{(2)} W_{11}^{(2)}   \\Theta ( z_1^{(1)} )  \\\\\n",
        "\\Delta_2^{(1)} &=&  \\Delta_1^{(2)} W_{21}^{(2)}  \\Theta ( z_2^{(1)} )  \\,,\n",
        "\\end{eqnarray}\n",
        "since the Heavisde step function $\\Theta$ is the derivative of the ReLU activation function."
      ]
    },
    {
      "cell_type": "code",
      "metadata": {
        "id": "QVbMGrw2__Zm",
        "colab_type": "code",
        "colab": {}
      },
      "source": [
        "import numpy as np\n",
        "import matplotlib.pyplot as plt\n",
        "from matplotlib import cm"
      ],
      "execution_count": 0,
      "outputs": []
    },
    {
      "cell_type": "code",
      "metadata": {
        "id": "7udklsBw_TOu",
        "colab_type": "code",
        "colab": {}
      },
      "source": [
        "#np.random.seed(0)"
      ],
      "execution_count": 0,
      "outputs": []
    },
    {
      "cell_type": "code",
      "metadata": {
        "id": "73KKJzkHZq0g",
        "colab_type": "code",
        "colab": {}
      },
      "source": [
        "num_epochs = 1000\n",
        "learning_rate = 0.1"
      ],
      "execution_count": 0,
      "outputs": []
    },
    {
      "cell_type": "code",
      "metadata": {
        "id": "f_EC8JkUAHwO",
        "colab_type": "code",
        "colab": {
          "base_uri": "https://localhost:8080/",
          "height": 85
        },
        "outputId": "d87a1511-6c52-4709-f790-57b2cfa59b59"
      },
      "source": [
        "X = np.array([[0,0], [0,1], [1,0], [1,1]])\n",
        "print(X)"
      ],
      "execution_count": 857,
      "outputs": [
        {
          "output_type": "stream",
          "text": [
            "[[0 0]\n",
            " [0 1]\n",
            " [1 0]\n",
            " [1 1]]\n"
          ],
          "name": "stdout"
        }
      ]
    },
    {
      "cell_type": "code",
      "metadata": {
        "id": "JzYShJU4ANmR",
        "colab_type": "code",
        "colab": {
          "base_uri": "https://localhost:8080/",
          "height": 85
        },
        "outputId": "32d30e2d-f5c6-4986-e2b7-5897cd090e29"
      },
      "source": [
        "Y = np.array([[0], [1], [1], [0]])\n",
        "print(Y)"
      ],
      "execution_count": 858,
      "outputs": [
        {
          "output_type": "stream",
          "text": [
            "[[0]\n",
            " [1]\n",
            " [1]\n",
            " [0]]\n"
          ],
          "name": "stdout"
        }
      ]
    },
    {
      "cell_type": "code",
      "metadata": {
        "id": "TuU43LLm_Aj1",
        "colab_type": "code",
        "colab": {}
      },
      "source": [
        "class MLP(object):\n",
        "\n",
        "  def __init__(self):\n",
        "    # Initialise with random weights\n",
        "    self.weights_1 = np.random.random(size=(3,2)) - 0.5\n",
        "    self.weights_2 = np.random.random(size=(3,1)) - 0.5\n",
        "\n",
        "  def forward(self, x):\n",
        "    # Do a forward pass\n",
        "    if len(x.shape) == 1:\n",
        "      # Single example, add a batch dimension of 1\n",
        "      x = np.expand_dims(x, axis=0)\n",
        "    # Hidden layer \n",
        "    z_1 = np.matmul(np.hstack((np.ones(shape=(x.shape[0], 1)), x)), self.weights_1)\n",
        "    a_1 = np.maximum(z_1, 0)\n",
        "    # Output layer\n",
        "    z_2 = np.matmul(np.hstack((np.ones(shape=(a_1.shape[0], 1)), a_1)), self.weights_2)\n",
        "    a_2 = z_2\n",
        "    return z_1, a_1, z_2, a_2"
      ],
      "execution_count": 0,
      "outputs": []
    },
    {
      "cell_type": "code",
      "metadata": {
        "id": "GGnwcJdzUs1l",
        "colab_type": "code",
        "colab": {
          "base_uri": "https://localhost:8080/",
          "height": 34
        },
        "outputId": "f33ee202-131b-441a-9eb2-b30683a0da72"
      },
      "source": [
        "m = MLP()\n",
        "m.weights_1 = np.array([[0, -1], [1,1], [1,1]], dtype=np.float)\n",
        "m.weights_2 = np.array([[1], [0], [-2]], dtype=np.float)\n",
        "z_1, a_1, z_2, a_2 = m.forward(X)\n",
        "print(0.25 * np.sum((a_2 - Y)**2))"
      ],
      "execution_count": 860,
      "outputs": [
        {
          "output_type": "stream",
          "text": [
            "0.5\n"
          ],
          "name": "stdout"
        }
      ]
    },
    {
      "cell_type": "code",
      "metadata": {
        "id": "dT25Ym19Egxn",
        "colab_type": "code",
        "colab": {
          "base_uri": "https://localhost:8080/",
          "height": 265
        },
        "outputId": "81ebb17d-4dd0-4849-ab8d-d15b1c3f7e80"
      },
      "source": [
        "m = MLP()\n",
        "m.weights_1 = np.array([[0, -1], [1,1], [1,1]], dtype=np.float)\n",
        "m.weights_2 = np.array([[0], [1], [-2]], dtype=np.float)\n",
        "# Test plotting the loss versus weights\n",
        "n = 50\n",
        "test_weights = np.linspace(-5, 5, n)\n",
        "loss = np.zeros((n, n))\n",
        "for i in range(n):\n",
        "  m.weights_2[0, 0] = test_weights[i]\n",
        "  for j in range(n):\n",
        "    m.weights_2[1, 0] = test_weights[j]\n",
        "    z_1, a_1, z_2, a_2 = m.forward(X)\n",
        "    loss[i, j] = 0.25 * np.sum((a_2 - Y)**2)\n",
        "plt.figure()\n",
        "plt.contourf(test_weights, test_weights, np.log(loss.T), levels=100)\n",
        "plt.show()"
      ],
      "execution_count": 861,
      "outputs": [
        {
          "output_type": "display_data",
          "data": {
            "image/png": "[encoded data removed]",
            "text/plain": [
              "<Figure size 432x288 with 1 Axes>"
            ]
          },
          "metadata": {
            "tags": []
          }
        }
      ]
    },
    {
      "cell_type": "code",
      "metadata": {
        "id": "6IP6GWSHP4Ne",
        "colab_type": "code",
        "colab": {
          "base_uri": "https://localhost:8080/",
          "height": 187
        },
        "outputId": "f7087a13-4c2e-4540-f5bd-5815f184aed4"
      },
      "source": [
        "num_epochs = 1000\n",
        "m = MLP()\n",
        "m.weights_1 = np.array([[0, -1], [1,1], [1,1]], dtype=np.float)\n",
        "#m.weights_2 = np.array([[0], [1], [-2]], dtype=np.float)\n",
        "#m.weights_2[0, 0] = 1.0\n",
        "#m.weights_2[1, 0] = 0.0\n",
        "#m.weights_2[2, 0] = 0.0\n",
        "weights_2_history = []\n",
        "for epoch in range(num_epochs):\n",
        "  # Do forward pass\n",
        "  z_1, a_1, z_2, a_2 = m.forward(X)\n",
        "  loss = 0.25 * np.sum((a_2 - Y)**2)\n",
        "  if epoch % 100 == 0:\n",
        "    print(epoch, loss)\n",
        "  # Delta_2_1 has shape(4, 1)\n",
        "  delta_2_1 = 0.5 * ( a_2 - Y)\n",
        "  # Sum up over training examples\n",
        "  m.weights_2[0, 0] -= learning_rate * np.sum(delta_2_1[:, 0])\n",
        "  m.weights_2[1, 0] -= learning_rate * np.sum(delta_2_1[:, 0] * a_1[:, 0])\n",
        "  m.weights_2[2, 0] -= learning_rate * np.sum(delta_2_1[:, 0] * a_1[:, 1])\n",
        "  weights_2_history.append(np.copy(m.weights_2))\n",
        "weights_2_history = np.array(weights_2_history)"
      ],
      "execution_count": 862,
      "outputs": [
        {
          "output_type": "stream",
          "text": [
            "0 1.5392312305728817\n",
            "100 0.020814775045357073\n",
            "200 0.003372960401709102\n",
            "300 0.0005465962345470958\n",
            "400 8.857721662064216e-05\n",
            "500 1.4354148104884995e-05\n",
            "600 2.3261237559472187e-06\n",
            "700 3.769538734339931e-07\n",
            "800 6.108626952182277e-08\n",
            "900 9.899174904598617e-09\n"
          ],
          "name": "stdout"
        }
      ]
    },
    {
      "cell_type": "code",
      "metadata": {
        "id": "BWD8M2WqRyvg",
        "colab_type": "code",
        "colab": {
          "base_uri": "https://localhost:8080/",
          "height": 265
        },
        "outputId": "6549caeb-93d0-4459-d0ad-96c43d8d0457"
      },
      "source": [
        "plt.figure()\n",
        "ax = plt.subplot(2, 2, 1)\n",
        "ax.scatter(weights_2_history[:, 0, 0], weights_2_history[:, 1, 0])\n",
        "ax = plt.subplot(2, 2, 2)\n",
        "ax.scatter(weights_2_history[:, 0, 0], weights_2_history[:, 2, 0])\n",
        "ax = plt.subplot(2, 2, 3)\n",
        "ax.scatter(weights_2_history[:, 1, 0], weights_2_history[:, 2, 0])\n",
        "plt.show()"
      ],
      "execution_count": 863,
      "outputs": [
        {
          "output_type": "display_data",
          "data": {
            "image/png": "[encoded data removed]",
            "text/plain": [
              "<Figure size 432x288 with 3 Axes>"
            ]
          },
          "metadata": {
            "tags": []
          }
        }
      ]
    },
    {
      "cell_type": "code",
      "metadata": {
        "id": "T9MVI58YWMpo",
        "colab_type": "code",
        "colab": {
          "base_uri": "https://localhost:8080/",
          "height": 68
        },
        "outputId": "7fb2ef21-c3b3-4a89-e5a7-b7ceda715152"
      },
      "source": [
        "print(m.weights_1)"
      ],
      "execution_count": 864,
      "outputs": [
        {
          "output_type": "stream",
          "text": [
            "[[ 0. -1.]\n",
            " [ 1.  1.]\n",
            " [ 1.  1.]]\n"
          ],
          "name": "stdout"
        }
      ]
    },
    {
      "cell_type": "code",
      "metadata": {
        "id": "JMnXBF5YePYd",
        "colab_type": "code",
        "colab": {
          "base_uri": "https://localhost:8080/",
          "height": 68
        },
        "outputId": "47d6f05c-16de-4c7c-b247-bd67a8d8ad9c"
      },
      "source": [
        "print(m.weights_2)"
      ],
      "execution_count": 865,
      "outputs": [
        {
          "output_type": "stream",
          "text": [
            "[[ 5.45188826e-05]\n",
            " [ 9.99909075e-01]\n",
            " [-1.99984450e+00]]\n"
          ],
          "name": "stdout"
        }
      ]
    }
  ]
}