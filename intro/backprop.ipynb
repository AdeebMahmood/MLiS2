{
  "nbformat": 4,
  "nbformat_minor": 0,
  "metadata": {
    "colab": {
      "name": "backprop.ipynb",
      "provenance": [],
      "authorship_tag": "ABX9TyNbnRugYAdELUzArPu0MUKq",
      "include_colab_link": true
    },
    "kernelspec": {
      "name": "python3",
      "display_name": "Python 3"
    }
  },
  "cells": [
    {
      "cell_type": "markdown",
      "metadata": {
        "id": "view-in-github",
        "colab_type": "text"
      },
      "source": [
        "<a href=\"https://colab.research.google.com/github/adammoss/MLiS2/blob/master/intro/backprop.ipynb\" target=\"_parent\"><img src=\"https://colab.research.google.com/assets/colab-badge.svg\" alt=\"Open In Colab\"/></a>"
      ]
    },
    {
      "cell_type": "markdown",
      "metadata": {
        "id": "hq1AS2ym_fP0",
        "colab_type": "text"
      },
      "source": [
        "Let us again attempt to learn the XOR function using the same MLP network,  this time starting with random initial weights and using back-propogation with simple gradient descent.\n",
        "\n",
        "The error functions for each neuron are\n",
        "\\begin{eqnarray}\n",
        "\\Delta_1^{(2)} &=& {\\partial{J} \\over \\partial a_1^{(2)}}\\,, \\\\\n",
        "\\Delta_1^{(1)} &=&  \\Delta_1^{(2)} W_{11}^{(2)}   \\Theta ( z_1^{(1)} )  \\\\\n",
        "\\Delta_2^{(1)} &=&  \\Delta_1^{(2)} W_{21}^{(2)}  \\Theta ( z_2^{(1)} )  \\,,\n",
        "\\end{eqnarray}\n",
        "since the Heaviside step function $\\Theta$ is the derivative of the ReLU activation function."
      ]
    },
    {
      "cell_type": "code",
      "metadata": {
        "id": "QVbMGrw2__Zm",
        "colab_type": "code",
        "colab": {}
      },
      "source": [
        "import numpy as np\n",
        "import matplotlib.pyplot as plt\n",
        "from matplotlib import cm"
      ],
      "execution_count": 0,
      "outputs": []
    },
    {
      "cell_type": "code",
      "metadata": {
        "id": "7udklsBw_TOu",
        "colab_type": "code",
        "colab": {}
      },
      "source": [
        "np.random.seed(2)"
      ],
      "execution_count": 0,
      "outputs": []
    },
    {
      "cell_type": "code",
      "metadata": {
        "id": "f_EC8JkUAHwO",
        "colab_type": "code",
        "outputId": "6e3bd53f-951c-4256-8b39-a19e0db2ad79",
        "colab": {
          "base_uri": "https://localhost:8080/",
          "height": 85
        }
      },
      "source": [
        "X = np.array([[0,0], [0,1], [1,0], [1,1]])\n",
        "print(X)"
      ],
      "execution_count": 28,
      "outputs": [
        {
          "output_type": "stream",
          "text": [
            "[[0 0]\n",
            " [0 1]\n",
            " [1 0]\n",
            " [1 1]]\n"
          ],
          "name": "stdout"
        }
      ]
    },
    {
      "cell_type": "code",
      "metadata": {
        "id": "JzYShJU4ANmR",
        "colab_type": "code",
        "outputId": "c55459e8-d23d-4f0c-d8c9-9fb8cf1d9d4b",
        "colab": {
          "base_uri": "https://localhost:8080/",
          "height": 85
        }
      },
      "source": [
        "Y = np.array([[0], [1], [1], [0]])\n",
        "print(Y)"
      ],
      "execution_count": 29,
      "outputs": [
        {
          "output_type": "stream",
          "text": [
            "[[0]\n",
            " [1]\n",
            " [1]\n",
            " [0]]\n"
          ],
          "name": "stdout"
        }
      ]
    },
    {
      "cell_type": "markdown",
      "metadata": {
        "id": "E3O5LePZVjzp",
        "colab_type": "text"
      },
      "source": [
        "Define the MLP model"
      ]
    },
    {
      "cell_type": "code",
      "metadata": {
        "id": "TuU43LLm_Aj1",
        "colab_type": "code",
        "colab": {}
      },
      "source": [
        "class MLP(object):\n",
        "\n",
        "  def __init__(self):\n",
        "    # Initialise with random weights\n",
        "    self.weights_1 = 0.1 * np.random.normal(size=(3,2))\n",
        "    self.weights_2 = 0.1 * np.random.normal(size=(3,1))\n",
        "\n",
        "  def forward(self, x):\n",
        "    # Do a forward pass\n",
        "    if len(x.shape) == 1:\n",
        "      # Single example, so add a batch dimension of 1\n",
        "      x = np.expand_dims(x, axis=0)\n",
        "    # Hidden layer \n",
        "    z_1 = np.matmul(np.hstack((np.ones(shape=(x.shape[0], 1)), x)), self.weights_1)\n",
        "    # Apply ReLU activation function\n",
        "    a_1 = np.maximum(z_1, 0)\n",
        "    # Output layer\n",
        "    z_2 = np.matmul(np.hstack((np.ones(shape=(a_1.shape[0], 1)), a_1)), self.weights_2)\n",
        "    # Linear activation \n",
        "    a_2 = z_2\n",
        "    return z_1, a_1, z_2, a_2"
      ],
      "execution_count": 0,
      "outputs": []
    },
    {
      "cell_type": "markdown",
      "metadata": {
        "id": "dSTxT91KjAe4",
        "colab_type": "text"
      },
      "source": [
        "Push the true solution through the network and check it gives zero loss"
      ]
    },
    {
      "cell_type": "code",
      "metadata": {
        "id": "GGnwcJdzUs1l",
        "colab_type": "code",
        "outputId": "a166e960-a7a9-48ad-980a-2d2e25a8e166",
        "colab": {
          "base_uri": "https://localhost:8080/",
          "height": 34
        }
      },
      "source": [
        "m = MLP()\n",
        "m.weights_1 = np.array([[0, -1], [1,1], [1,1]], dtype=np.float)\n",
        "m.weights_2 = np.array([[0], [1], [-2]], dtype=np.float)\n",
        "z_1, a_1, z_2, a_2 = m.forward(X)\n",
        "print(0.25 * np.sum((a_2 - Y)**2))"
      ],
      "execution_count": 31,
      "outputs": [
        {
          "output_type": "stream",
          "text": [
            "0.0\n"
          ],
          "name": "stdout"
        }
      ]
    },
    {
      "cell_type": "code",
      "metadata": {
        "id": "kkRYVpaF9pQc",
        "colab_type": "code",
        "colab": {}
      },
      "source": [
        "num_epochs = 500\n",
        "learning_rate = 0.1"
      ],
      "execution_count": 0,
      "outputs": []
    },
    {
      "cell_type": "markdown",
      "metadata": {
        "id": "eaq2lIzwqoPY",
        "colab_type": "text"
      },
      "source": [
        "Update random initial weights and biases by back-prop"
      ]
    },
    {
      "cell_type": "code",
      "metadata": {
        "id": "kaRG-DXJjiD1",
        "colab_type": "code",
        "outputId": "6f3f75f1-c69a-4987-96b7-51404b4010ac",
        "colab": {
          "base_uri": "https://localhost:8080/",
          "height": 102
        }
      },
      "source": [
        "m = MLP()\n",
        "loss_history = []\n",
        "weights_1_history = []\n",
        "weights_2_history = []\n",
        "for epoch in range(num_epochs):\n",
        "  # Do forward pass\n",
        "  z_1, a_1, z_2, a_2 = m.forward(X)\n",
        "  loss = 0.25 * np.sum((a_2 - Y)**2)\n",
        "  loss_history.append(loss)\n",
        "  if epoch % 100 == 0:\n",
        "    print(epoch, loss)\n",
        "  # Delta_2 has shape(4, 1), the first dimension being the batch dimension\n",
        "  delta_2 = 0.5 * ( a_2 - Y)\n",
        "  g_prime_1 = np.heaviside(z_1, 0)\n",
        "  # Delta_1 has shape (4, 2)\n",
        "  delta_1 = delta_2 * m.weights_2[1:3, 0] * g_prime_1\n",
        "  # Biases of layers connecting input and hidden layers\n",
        "  m.weights_1[0, :] -= learning_rate * np.sum(delta_1[:, :], axis=0)\n",
        "  # Weights of layers connecting input and hidden layers \n",
        "  m.weights_1[1:3, :] -= learning_rate * np.matmul(X.T, delta_1)\n",
        "  # Biases of layers connecting hidden and output layers\n",
        "  m.weights_2[0, 0] -= learning_rate * np.sum(delta_2[:, :], axis=0)\n",
        "  # Weights of layers connecting hidden and output layers\n",
        "  m.weights_2[1:3, 0:1] -= learning_rate * np.matmul(a_1.T, delta_2)\n",
        "  weights_1_history.append(np.copy(m.weights_1))\n",
        "  weights_2_history.append(np.copy(m.weights_2))\n",
        "loss_history = np.array(loss_history)\n",
        "weights_1_history = np.array(weights_1_history)\n",
        "weights_2_history = np.array(weights_2_history)"
      ],
      "execution_count": 33,
      "outputs": [
        {
          "output_type": "stream",
          "text": [
            "0 0.5523485297294992\n",
            "100 0.2075926848506814\n",
            "200 0.11289892843584105\n",
            "300 0.0014812675618753799\n",
            "400 3.4251827763133192e-06\n"
          ],
          "name": "stdout"
        }
      ]
    },
    {
      "cell_type": "code",
      "metadata": {
        "id": "l_UNqVI12Fez",
        "colab_type": "code",
        "outputId": "998b8806-0a45-455b-9295-a9f464ac4d4b",
        "colab": {
          "base_uri": "https://localhost:8080/",
          "height": 369
        }
      },
      "source": [
        "plt.figure(figsize=(15, 5))\n",
        "ax = plt.subplot(2, 5, 1)\n",
        "ax.plot(loss_history[:])\n",
        "ax.set_xlabel('Epoch')\n",
        "ax.set_ylabel('Loss')\n",
        "ax = plt.subplot(2, 5, 2)\n",
        "ax.plot(weights_1_history[:,0,0])\n",
        "ax = plt.subplot(2, 5, 3)\n",
        "ax.plot(weights_1_history[:,0,1])\n",
        "ax = plt.subplot(2, 5, 4)\n",
        "ax.plot(weights_1_history[:,1,0])\n",
        "ax = plt.subplot(2, 5, 5)\n",
        "ax.plot(weights_1_history[:,1,1])\n",
        "ax = plt.subplot(2, 5, 6)\n",
        "ax.plot(weights_1_history[:,2,1])\n",
        "ax = plt.subplot(2, 5, 7)\n",
        "ax.plot(weights_1_history[:,2,1])\n",
        "ax = plt.subplot(2, 5, 8)\n",
        "ax.plot(weights_2_history[:,0,0])\n",
        "ax = plt.subplot(2, 5, 9)\n",
        "ax.plot(weights_2_history[:,1,0])\n",
        "ax = plt.subplot(2, 5, 10)\n",
        "ax.plot(weights_2_history[:,2,0])\n",
        "plt.tight_layout()\n",
        "plt.show()"
      ],
      "execution_count": 34,
      "outputs": [
        {
          "output_type": "display_data",
          "data": {
            "image/png": "[encoded data removed]",
            "text/plain": [
              "<Figure size 1080x360 with 10 Axes>"
            ]
          },
          "metadata": {
            "tags": []
          }
        }
      ]
    },
    {
      "cell_type": "code",
      "metadata": {
        "id": "lVModDozl3CF",
        "colab_type": "code",
        "outputId": "5e15adba-fff2-44bd-908b-58512d7e8517",
        "colab": {
          "base_uri": "https://localhost:8080/",
          "height": 68
        }
      },
      "source": [
        "print(m.weights_1)"
      ],
      "execution_count": 35,
      "outputs": [
        {
          "output_type": "stream",
          "text": [
            "[[ 2.89951162e-06 -5.72659156e-06]\n",
            " [ 8.55850924e-01 -8.40680620e-01]\n",
            " [-8.55849632e-01  8.40673755e-01]]\n"
          ],
          "name": "stdout"
        }
      ]
    },
    {
      "cell_type": "code",
      "metadata": {
        "id": "AbgcccxHoKjC",
        "colab_type": "code",
        "outputId": "82482e4b-ce20-434a-ba2b-7a6fa118b819",
        "colab": {
          "base_uri": "https://localhost:8080/",
          "height": 68
        }
      },
      "source": [
        "print(m.weights_2)"
      ],
      "execution_count": 36,
      "outputs": [
        {
          "output_type": "stream",
          "text": [
            "[[9.82877968e-05]\n",
            " [1.16823513e+00]\n",
            " [1.18931798e+00]]\n"
          ],
          "name": "stdout"
        }
      ]
    },
    {
      "cell_type": "code",
      "metadata": {
        "id": "nePskL-toOUq",
        "colab_type": "code",
        "outputId": "4c13766a-6b67-4877-8a31-37264ba613fc",
        "colab": {
          "base_uri": "https://localhost:8080/",
          "height": 85
        }
      },
      "source": [
        "z_1, a_1, z_2, a_2 = m.forward(X)\n",
        "print(a_2)"
      ],
      "execution_count": 37,
      "outputs": [
        {
          "output_type": "stream",
          "text": [
            "[[1.01675108e-04]\n",
            " [9.99919890e-01]\n",
            " [9.99936789e-01]\n",
            " [1.03184563e-04]]\n"
          ],
          "name": "stdout"
        }
      ]
    }
  ]
}