{
  "nbformat": 4,
  "nbformat_minor": 0,
  "metadata": {
    "colab": {
      "name": "mlp.ipynb",
      "provenance": [],
      "authorship_tag": "ABX9TyPTxyAtng0hY+3SsYwEvWwy",
      "include_colab_link": true
    },
    "kernelspec": {
      "name": "python3",
      "display_name": "Python 3"
    }
  },
  "cells": [
    {
      "cell_type": "markdown",
      "metadata": {
        "id": "view-in-github",
        "colab_type": "text"
      },
      "source": [
        "<a href=\"https://colab.research.google.com/github/adammoss/MLiS2/blob/master/intro/mlp.ipynb\" target=\"_parent\"><img src=\"https://colab.research.google.com/assets/colab-badge.svg\" alt=\"Open In Colab\"/></a>"
      ]
    },
    {
      "cell_type": "markdown",
      "metadata": {
        "id": "RVuO9rNPetO2",
        "colab_type": "text"
      },
      "source": [
        "The multi-layer perceptron model we use to reproduce the XOR function is given by\n",
        "\n",
        "$\n",
        "\\hat{\\mathbf{Y}} =  \\left({\\rm ReLU} \\left( \\mathbf{X} \\mathbf{W} \\right) \\right)   \\mathbf{w}  \\,,\n",
        "$\n",
        "\n",
        "with one hidden layer containing two hidden units.\n",
        "\n",
        "The optimal weights are \n",
        "$\n",
        "\\mathbf{W} = \\begin{bmatrix}\n",
        "0 & -1  \\\\\n",
        "1 & 1   \\\\\n",
        "1& 1  \n",
        "\\end{bmatrix}\\,, \\quad \\mathbf{w} = \\begin{bmatrix}\n",
        "0 \\\\\n",
        "1  \\\\\n",
        "2   \n",
        "\\end{bmatrix}\\,.\n",
        "$\n",
        "\n"
      ]
    },
    {
      "cell_type": "code",
      "metadata": {
        "id": "xGB5xgVD6BZO",
        "colab_type": "code",
        "colab": {}
      },
      "source": [
        "import numpy as np\n",
        "import matplotlib.pyplot as plt\n",
        "from matplotlib import cm"
      ],
      "execution_count": 0,
      "outputs": []
    },
    {
      "cell_type": "code",
      "metadata": {
        "id": "ZD1SaACt6EX0",
        "colab_type": "code",
        "outputId": "ea20d9d9-a76c-4619-fdab-5285e98fb4e5",
        "colab": {
          "base_uri": "https://localhost:8080/",
          "height": 85
        }
      },
      "source": [
        "X = np.array([[0,0], [0,1], [1,0], [1,1]])\n",
        "X = np.hstack((np.ones(shape=(X.shape[0], 1)), X))\n",
        "print(X)"
      ],
      "execution_count": 0,
      "outputs": [
        {
          "output_type": "stream",
          "text": [
            "[[1. 0. 0.]\n",
            " [1. 0. 1.]\n",
            " [1. 1. 0.]\n",
            " [1. 1. 1.]]\n"
          ],
          "name": "stdout"
        }
      ]
    },
    {
      "cell_type": "code",
      "metadata": {
        "id": "qPt9LDPLPC0b",
        "colab_type": "code",
        "outputId": "6c12f116-abc2-4f0f-b790-e646eeeba056",
        "colab": {
          "base_uri": "https://localhost:8080/",
          "height": 85
        }
      },
      "source": [
        "Y = np.array([[0], [1], [1], [0]])\n",
        "print(Y)"
      ],
      "execution_count": 0,
      "outputs": [
        {
          "output_type": "stream",
          "text": [
            "[[0]\n",
            " [1]\n",
            " [1]\n",
            " [0]]\n"
          ],
          "name": "stdout"
        }
      ]
    },
    {
      "cell_type": "code",
      "metadata": {
        "colab_type": "code",
        "outputId": "a49f4bc8-2e6b-4435-f1aa-acdd9c949723",
        "id": "Cs-EuafdKULK",
        "colab": {
          "base_uri": "https://localhost:8080/",
          "height": 68
        }
      },
      "source": [
        "W = np.array([[0, -1], [1,1], [1,1]], dtype=np.float)\n",
        "print(W)"
      ],
      "execution_count": 0,
      "outputs": [
        {
          "output_type": "stream",
          "text": [
            "[[ 0. -1.]\n",
            " [ 1.  1.]\n",
            " [ 1.  1.]]\n"
          ],
          "name": "stdout"
        }
      ]
    },
    {
      "cell_type": "code",
      "metadata": {
        "id": "YRV02cWxLLmE",
        "colab_type": "code",
        "outputId": "fe7f1300-d57a-420c-c27a-d3ba320262b1",
        "colab": {
          "base_uri": "https://localhost:8080/",
          "height": 68
        }
      },
      "source": [
        "w = np.array([[0], [1], [-2]], dtype=np.float)\n",
        "print(w)"
      ],
      "execution_count": 0,
      "outputs": [
        {
          "output_type": "stream",
          "text": [
            "[[ 0.]\n",
            " [ 1.]\n",
            " [-2.]]\n"
          ],
          "name": "stdout"
        }
      ]
    },
    {
      "cell_type": "code",
      "metadata": {
        "id": "5xn4LTSMOAS1",
        "colab_type": "code",
        "outputId": "bfb00831-475b-4345-d169-10ccbea06f16",
        "colab": {
          "base_uri": "https://localhost:8080/",
          "height": 85
        }
      },
      "source": [
        "h = np.maximum(np.matmul(X, W), 0)\n",
        "h = np.hstack((np.ones(shape=(h.shape[0], 1)), h))\n",
        "print(h)"
      ],
      "execution_count": 0,
      "outputs": [
        {
          "output_type": "stream",
          "text": [
            "[[1. 0. 0.]\n",
            " [1. 1. 0.]\n",
            " [1. 1. 0.]\n",
            " [1. 2. 1.]]\n"
          ],
          "name": "stdout"
        }
      ]
    },
    {
      "cell_type": "code",
      "metadata": {
        "id": "H0sZe6CsLqg6",
        "colab_type": "code",
        "outputId": "64ae198c-c03d-43dd-86c1-7261c83f5ed8",
        "colab": {
          "base_uri": "https://localhost:8080/",
          "height": 85
        }
      },
      "source": [
        "Yhat = np.matmul(h, w)\n",
        "print(Yhat)"
      ],
      "execution_count": 0,
      "outputs": [
        {
          "output_type": "stream",
          "text": [
            "[[0.]\n",
            " [1.]\n",
            " [1.]\n",
            " [0.]]\n"
          ],
          "name": "stdout"
        }
      ]
    },
    {
      "cell_type": "markdown",
      "metadata": {
        "id": "jdoQH-8N5nAl",
        "colab_type": "text"
      },
      "source": [
        "It is instructive to see how the MLP is able to learn the XOR function by plotting the rep-\n",
        "resentation of data it learns in the hidden space"
      ]
    },
    {
      "cell_type": "code",
      "metadata": {
        "id": "65le4cCEOOS-",
        "colab_type": "code",
        "colab": {}
      },
      "source": [
        "id0 = np.where(Y[:, 0] == 0)\n",
        "id1 = np.where(Y[:, 0] == 1)"
      ],
      "execution_count": 0,
      "outputs": []
    },
    {
      "cell_type": "code",
      "metadata": {
        "id": "tMEpfurNO6q6",
        "colab_type": "code",
        "outputId": "2b0a075f-3cdf-485e-d3ca-c09839e4e9c0",
        "colab": {
          "base_uri": "https://localhost:8080/",
          "height": 285
        }
      },
      "source": [
        "plt.figure()\n",
        "plt.scatter(X[id0, 1], X[id0, 2], color='blue')\n",
        "plt.scatter(X[id1, 1], X[id1, 2], color='red')\n",
        "plt.xlabel('$x_1$', fontsize=16)\n",
        "plt.ylabel('$x_2$', fontsize=16)\n",
        "plt.show()"
      ],
      "execution_count": 0,
      "outputs": [
        {
          "output_type": "display_data",
          "data": {
            "image/png": "[encoded data removed]",
            "text/plain": [
              "<Figure size 432x288 with 1 Axes>"
            ]
          },
          "metadata": {
            "tags": []
          }
        }
      ]
    },
    {
      "cell_type": "code",
      "metadata": {
        "id": "_F9cawXwPLN0",
        "colab_type": "code",
        "outputId": "7f2f9c95-7bfe-4b8d-b855-069ec5d63c7e",
        "colab": {
          "base_uri": "https://localhost:8080/",
          "height": 288
        }
      },
      "source": [
        "plt.figure()\n",
        "plt.scatter(h[id0, 1], h[id0, 2], color='blue')\n",
        "plt.scatter(h[id1, 1], h[id1, 2], color='red')\n",
        "plt.xlabel('$h_1$', fontsize=16)\n",
        "plt.ylabel('$h_2$', fontsize=16)\n",
        "plt.show()"
      ],
      "execution_count": 0,
      "outputs": [
        {
          "output_type": "display_data",
          "data": {
            "image/png": "[encoded data removed]",
            "text/plain": [
              "<Figure size 432x288 with 1 Axes>"
            ]
          },
          "metadata": {
            "tags": []
          }
        }
      ]
    },
    {
      "cell_type": "markdown",
      "metadata": {
        "id": "0vpRfiQO5tnK",
        "colab_type": "text"
      },
      "source": [
        "The original data is not linearly separable, but in the representation space it has mapped the two points with output 1 into a single point, and this space is now separable."
      ]
    }
  ]
}