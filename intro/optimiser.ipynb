{
  "nbformat": 4,
  "nbformat_minor": 0,
  "metadata": {
    "colab": {
      "name": "optimiser.ipynb",
      "provenance": [],
      "authorship_tag": "ABX9TyOXY3kXn7rEGXDLBgdCvcTV",
      "include_colab_link": true
    },
    "kernelspec": {
      "name": "python3",
      "display_name": "Python 3"
    }
  },
  "cells": [
    {
      "cell_type": "markdown",
      "metadata": {
        "id": "view-in-github",
        "colab_type": "text"
      },
      "source": [
        "<a href=\"https://colab.research.google.com/github/adammoss/MLiS2/blob/master/intro/optimiser.ipynb\" target=\"_parent\"><img src=\"https://colab.research.google.com/assets/colab-badge.svg\" alt=\"Open In Colab\"/></a>"
      ]
    },
    {
      "cell_type": "code",
      "metadata": {
        "id": "d5wmFXZ6xnKD",
        "colab_type": "code",
        "colab": {
          "base_uri": "https://localhost:8080/",
          "height": 34
        },
        "outputId": "878312a2-85f6-4f32-f089-d4fa9844281c"
      },
      "source": [
        "\n",
        "try:\n",
        "  # %tensorflow_version only exists in Colab.\n",
        "  %tensorflow_version 2.x\n",
        "except Exception:\n",
        "  pass"
      ],
      "execution_count": 1,
      "outputs": [
        {
          "output_type": "stream",
          "text": [
            "TensorFlow 2.x selected.\n"
          ],
          "name": "stdout"
        }
      ]
    },
    {
      "cell_type": "code",
      "metadata": {
        "id": "fMksMVJSxr0w",
        "colab_type": "code",
        "colab": {}
      },
      "source": [
        "from __future__ import absolute_import, division, print_function, unicode_literals\n",
        "\n",
        "import tensorflow as tf\n",
        "from tensorflow import keras\n",
        "from tensorflow.keras import layers\n",
        "import matplotlib.pyplot as plt\n",
        "import numpy as np"
      ],
      "execution_count": 0,
      "outputs": []
    },
    {
      "cell_type": "code",
      "metadata": {
        "id": "GtidJTCVxwHp",
        "colab_type": "code",
        "colab": {
          "base_uri": "https://localhost:8080/",
          "height": 34
        },
        "outputId": "f6647d91-9944-44b7-d7a9-9ab59a8901d8"
      },
      "source": [
        "print(tf.__version__)"
      ],
      "execution_count": 3,
      "outputs": [
        {
          "output_type": "stream",
          "text": [
            "2.1.0-rc1\n"
          ],
          "name": "stdout"
        }
      ]
    },
    {
      "cell_type": "code",
      "metadata": {
        "id": "8Jyl5pymy1sb",
        "colab_type": "code",
        "colab": {}
      },
      "source": [
        "def reset():\t\n",
        "\tx1 = tf.Variable(10.0) \n",
        "\tx2 = tf.Variable(10.0) \n",
        "\treturn x1, x2"
      ],
      "execution_count": 0,
      "outputs": []
    },
    {
      "cell_type": "code",
      "metadata": {
        "id": "mdACjlFry8Vg",
        "colab_type": "code",
        "colab": {}
      },
      "source": [
        "def fu(x1, x2): \n",
        "\treturn x1 ** 2.0 - x1 * 3  + x2 ** 2"
      ],
      "execution_count": 0,
      "outputs": []
    },
    {
      "cell_type": "code",
      "metadata": {
        "id": "J3HBG47RyiES",
        "colab_type": "code",
        "colab": {
          "base_uri": "https://localhost:8080/",
          "height": 867
        },
        "outputId": "3f22466f-c51a-4033-cedf-b79a27b9737a"
      },
      "source": [
        "x1, x2 = reset()\n",
        "opt = keras.optimizers.SGD(learning_rate=0.1)\n",
        "for i in range(50):\n",
        "\twith tf.GradientTape() as tape:\n",
        "\t\ty = fu(x1, x2)\n",
        "\tgrads = tape.gradient(y, [x1, x2])\n",
        "\tprocessed_grads = [g for g in grads]\n",
        "\tgrads_and_vars = zip(processed_grads, [x1, x2])\n",
        "\tprint ('y = {:.1f}, x1 = {:.1f}, x2 = {:.1f},  grads0 = {:.1f}, grads1 = {:.1f} '.format(y.numpy(), x1.numpy(), x2.numpy(), grads[0].numpy(), grads[1].numpy()))\n",
        "\topt.apply_gradients(grads_and_vars)"
      ],
      "execution_count": 9,
      "outputs": [
        {
          "output_type": "stream",
          "text": [
            "y = 170.0, x1 = 10.0, x2 = 10.0,  grads0 = 17.0, grads1 = 20.0 \n",
            "y = 108.0, x1 = 8.3, x2 = 8.0,  grads0 = 13.6, grads1 = 16.0 \n",
            "y = 68.3, x1 = 6.9, x2 = 6.4,  grads0 = 10.9, grads1 = 12.8 \n",
            "y = 42.9, x1 = 5.9, x2 = 5.1,  grads0 = 8.7, grads1 = 10.2 \n",
            "y = 26.6, x1 = 5.0, x2 = 4.1,  grads0 = 7.0, grads1 = 8.2 \n",
            "y = 16.2, x1 = 4.3, x2 = 3.3,  grads0 = 5.6, grads1 = 6.6 \n",
            "y = 9.6, x1 = 3.7, x2 = 2.6,  grads0 = 4.5, grads1 = 5.2 \n",
            "y = 5.3, x1 = 3.3, x2 = 2.1,  grads0 = 3.6, grads1 = 4.2 \n",
            "y = 2.6, x1 = 2.9, x2 = 1.7,  grads0 = 2.9, grads1 = 3.4 \n",
            "y = 0.9, x1 = 2.6, x2 = 1.3,  grads0 = 2.3, grads1 = 2.7 \n",
            "y = -0.3, x1 = 2.4, x2 = 1.1,  grads0 = 1.8, grads1 = 2.1 \n",
            "y = -1.0, x1 = 2.2, x2 = 0.9,  grads0 = 1.5, grads1 = 1.7 \n",
            "y = -1.4, x1 = 2.1, x2 = 0.7,  grads0 = 1.2, grads1 = 1.4 \n",
            "y = -1.7, x1 = 2.0, x2 = 0.5,  grads0 = 0.9, grads1 = 1.1 \n",
            "y = -1.9, x1 = 1.9, x2 = 0.4,  grads0 = 0.7, grads1 = 0.9 \n",
            "y = -2.0, x1 = 1.8, x2 = 0.4,  grads0 = 0.6, grads1 = 0.7 \n",
            "y = -2.1, x1 = 1.7, x2 = 0.3,  grads0 = 0.5, grads1 = 0.6 \n",
            "y = -2.2, x1 = 1.7, x2 = 0.2,  grads0 = 0.4, grads1 = 0.5 \n",
            "y = -2.2, x1 = 1.7, x2 = 0.2,  grads0 = 0.3, grads1 = 0.4 \n",
            "y = -2.2, x1 = 1.6, x2 = 0.1,  grads0 = 0.2, grads1 = 0.3 \n",
            "y = -2.2, x1 = 1.6, x2 = 0.1,  grads0 = 0.2, grads1 = 0.2 \n",
            "y = -2.2, x1 = 1.6, x2 = 0.1,  grads0 = 0.2, grads1 = 0.2 \n",
            "y = -2.2, x1 = 1.6, x2 = 0.1,  grads0 = 0.1, grads1 = 0.1 \n",
            "y = -2.2, x1 = 1.6, x2 = 0.1,  grads0 = 0.1, grads1 = 0.1 \n",
            "y = -2.2, x1 = 1.5, x2 = 0.0,  grads0 = 0.1, grads1 = 0.1 \n",
            "y = -2.2, x1 = 1.5, x2 = 0.0,  grads0 = 0.1, grads1 = 0.1 \n",
            "y = -2.2, x1 = 1.5, x2 = 0.0,  grads0 = 0.1, grads1 = 0.1 \n",
            "y = -2.2, x1 = 1.5, x2 = 0.0,  grads0 = 0.0, grads1 = 0.0 \n",
            "y = -2.2, x1 = 1.5, x2 = 0.0,  grads0 = 0.0, grads1 = 0.0 \n",
            "y = -2.2, x1 = 1.5, x2 = 0.0,  grads0 = 0.0, grads1 = 0.0 \n",
            "y = -2.2, x1 = 1.5, x2 = 0.0,  grads0 = 0.0, grads1 = 0.0 \n",
            "y = -2.2, x1 = 1.5, x2 = 0.0,  grads0 = 0.0, grads1 = 0.0 \n",
            "y = -2.2, x1 = 1.5, x2 = 0.0,  grads0 = 0.0, grads1 = 0.0 \n",
            "y = -2.2, x1 = 1.5, x2 = 0.0,  grads0 = 0.0, grads1 = 0.0 \n",
            "y = -2.2, x1 = 1.5, x2 = 0.0,  grads0 = 0.0, grads1 = 0.0 \n",
            "y = -2.2, x1 = 1.5, x2 = 0.0,  grads0 = 0.0, grads1 = 0.0 \n",
            "y = -2.2, x1 = 1.5, x2 = 0.0,  grads0 = 0.0, grads1 = 0.0 \n",
            "y = -2.2, x1 = 1.5, x2 = 0.0,  grads0 = 0.0, grads1 = 0.0 \n",
            "y = -2.2, x1 = 1.5, x2 = 0.0,  grads0 = 0.0, grads1 = 0.0 \n",
            "y = -2.2, x1 = 1.5, x2 = 0.0,  grads0 = 0.0, grads1 = 0.0 \n",
            "y = -2.2, x1 = 1.5, x2 = 0.0,  grads0 = 0.0, grads1 = 0.0 \n",
            "y = -2.2, x1 = 1.5, x2 = 0.0,  grads0 = 0.0, grads1 = 0.0 \n",
            "y = -2.2, x1 = 1.5, x2 = 0.0,  grads0 = 0.0, grads1 = 0.0 \n",
            "y = -2.2, x1 = 1.5, x2 = 0.0,  grads0 = 0.0, grads1 = 0.0 \n",
            "y = -2.2, x1 = 1.5, x2 = 0.0,  grads0 = 0.0, grads1 = 0.0 \n",
            "y = -2.2, x1 = 1.5, x2 = 0.0,  grads0 = 0.0, grads1 = 0.0 \n",
            "y = -2.2, x1 = 1.5, x2 = 0.0,  grads0 = 0.0, grads1 = 0.0 \n",
            "y = -2.2, x1 = 1.5, x2 = 0.0,  grads0 = 0.0, grads1 = 0.0 \n",
            "y = -2.2, x1 = 1.5, x2 = 0.0,  grads0 = 0.0, grads1 = 0.0 \n",
            "y = -2.2, x1 = 1.5, x2 = 0.0,  grads0 = 0.0, grads1 = 0.0 \n"
          ],
          "name": "stdout"
        }
      ]
    },
    {
      "cell_type": "code",
      "metadata": {
        "id": "RveJjAPdysCC",
        "colab_type": "code",
        "colab": {}
      },
      "source": [
        ""
      ],
      "execution_count": 0,
      "outputs": []
    }
  ]
}