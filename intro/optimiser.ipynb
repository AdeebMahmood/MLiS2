{
  "nbformat": 4,
  "nbformat_minor": 0,
  "metadata": {
    "colab": {
      "name": "optimiser.ipynb",
      "provenance": [],
      "authorship_tag": "ABX9TyP8JfVT2lN3cvD6B1l/Ou/y",
      "include_colab_link": true
    },
    "kernelspec": {
      "name": "python3",
      "display_name": "Python 3"
    }
  },
  "cells": [
    {
      "cell_type": "markdown",
      "metadata": {
        "id": "view-in-github",
        "colab_type": "text"
      },
      "source": [
        "<a href=\"https://colab.research.google.com/github/adammoss/MLiS2/blob/master/intro/optimiser.ipynb\" target=\"_parent\"><img src=\"https://colab.research.google.com/assets/colab-badge.svg\" alt=\"Open In Colab\"/></a>"
      ]
    },
    {
      "cell_type": "markdown",
      "metadata": {
        "id": "MVr8V-T00krB",
        "colab_type": "text"
      },
      "source": [
        "The Rosenbrock function is a non-convex function commonly used for bench-marking optimisation methods. It is given by\n",
        "\n",
        "$\n",
        "f(x, y) = \\left( 1 - x \\right)^2 + 100 \\left( y - x^2 \\right)^2\n",
        "$\n",
        "\n",
        "and has a global minima at $(x, y) = (1, 1)$. In this example we will benchmark several of the optimisers included with TensorFlow, including SGD, SGD + momentum, RMSprop and Adam."
      ]
    },
    {
      "cell_type": "code",
      "metadata": {
        "id": "d5wmFXZ6xnKD",
        "colab_type": "code",
        "colab": {}
      },
      "source": [
        "\n",
        "try:\n",
        "  # %tensorflow_version only exists in Colab.\n",
        "  %tensorflow_version 2.x\n",
        "except Exception:\n",
        "  pass"
      ],
      "execution_count": 0,
      "outputs": []
    },
    {
      "cell_type": "code",
      "metadata": {
        "id": "fMksMVJSxr0w",
        "colab_type": "code",
        "colab": {}
      },
      "source": [
        "from __future__ import absolute_import, division, print_function, unicode_literals\n",
        "\n",
        "import tensorflow as tf\n",
        "from tensorflow import keras\n",
        "from tensorflow.keras import layers\n",
        "import matplotlib.pyplot as plt\n",
        "import numpy as np"
      ],
      "execution_count": 0,
      "outputs": []
    },
    {
      "cell_type": "code",
      "metadata": {
        "id": "GtidJTCVxwHp",
        "colab_type": "code",
        "colab": {
          "base_uri": "https://localhost:8080/",
          "height": 34
        },
        "outputId": "95de2c7e-0284-43c5-f92b-334cc15cda54"
      },
      "source": [
        "print(tf.__version__)"
      ],
      "execution_count": 155,
      "outputs": [
        {
          "output_type": "stream",
          "text": [
            "2.1.0-rc1\n"
          ],
          "name": "stdout"
        }
      ]
    },
    {
      "cell_type": "code",
      "metadata": {
        "id": "8Jyl5pymy1sb",
        "colab_type": "code",
        "colab": {}
      },
      "source": [
        "def reset():\t\n",
        "\tx1 = tf.Variable(0.0) \n",
        "\tx2 = tf.Variable(1.0) \n",
        "\treturn x1, x2"
      ],
      "execution_count": 0,
      "outputs": []
    },
    {
      "cell_type": "code",
      "metadata": {
        "id": "mdACjlFry8Vg",
        "colab_type": "code",
        "colab": {}
      },
      "source": [
        "def rosenbrock(x, y): \n",
        "\treturn (1 - x)**2 + 100 * (y - x**2)**2"
      ],
      "execution_count": 0,
      "outputs": []
    },
    {
      "cell_type": "code",
      "metadata": {
        "id": "J3HBG47RyiES",
        "colab_type": "code",
        "colab": {}
      },
      "source": [
        "def benchmark(f, opt, iterations):\n",
        "  x, y = reset()\n",
        "  history = []\n",
        "  for i in range(iterations):\n",
        "    with tf.GradientTape() as tape:\n",
        "      z = f(x, y)\n",
        "    grads = tape.gradient(z, [x, y])\n",
        "    processed_grads = [g for g in grads]\n",
        "    grads_and_vars = zip(processed_grads, [x, y])\n",
        "    opt.apply_gradients(grads_and_vars)\n",
        "    history.append([x.numpy(), y.numpy(), grads[0].numpy(), grads[1].numpy()])\n",
        "  return np.array(history)"
      ],
      "execution_count": 0,
      "outputs": []
    },
    {
      "cell_type": "code",
      "metadata": {
        "id": "SrdDQ1XqGE45",
        "colab_type": "code",
        "colab": {}
      },
      "source": [
        "sgd_history = benchmark(rosenbrock, keras.optimizers.SGD(learning_rate=0.001), 1000)"
      ],
      "execution_count": 0,
      "outputs": []
    },
    {
      "cell_type": "code",
      "metadata": {
        "id": "XRifBvAzHLTx",
        "colab_type": "code",
        "colab": {}
      },
      "source": [
        "xx, yy = np.mgrid[-3:3:.01, -1:3:.01]\n",
        "zz = rosenbrock(xx, yy)"
      ],
      "execution_count": 0,
      "outputs": []
    },
    {
      "cell_type": "code",
      "metadata": {
        "id": "gBGMdVO_1yas",
        "colab_type": "code",
        "colab": {
          "base_uri": "https://localhost:8080/",
          "height": 313
        },
        "outputId": "fd1583d4-1537-427f-a5ec-7dc6b21b41ca"
      },
      "source": [
        "plt.figure()\n",
        "plt.contourf(xx, yy, np.log(zz), alpha=0.1)\n",
        "plt.xlabel('x')\n",
        "plt.ylabel('y')\n",
        "plt.plot(sgd_history[:, 0], sgd_history[:, 1], label='SGD')\n",
        "plt.xlim([-2,2])\n",
        "plt.legend()\n",
        "plt.show()"
      ],
      "execution_count": 166,
      "outputs": [
        {
          "output_type": "stream",
          "text": [
            "/usr/local/lib/python3.6/dist-packages/ipykernel_launcher.py:2: RuntimeWarning: divide by zero encountered in log\n",
            "  \n"
          ],
          "name": "stderr"
        },
        {
          "output_type": "display_data",
          "data": {
            "image/png": "[encoded data removed]",
            "text/plain": [
              "<Figure size 432x288 with 1 Axes>"
            ]
          },
          "metadata": {
            "tags": []
          }
        }
      ]
    },
    {
      "cell_type": "code",
      "metadata": {
        "id": "zYou0SXo2Tla",
        "colab_type": "code",
        "colab": {
          "base_uri": "https://localhost:8080/",
          "height": 279
        },
        "outputId": "4fdb0ed7-c02a-4faa-e806-5a8ce01d19d4"
      },
      "source": [
        "plt.figure()\n",
        "plt.xlabel('Epoch')\n",
        "plt.ylabel('Distance from true solution')\n",
        "plt.plot(((sgd_history[:, 0] - 1)**2 + (sgd_history[:, 1] - 1)**2)**0.5, label = 'SGD')\n",
        "plt.legend()\n",
        "plt.show()"
      ],
      "execution_count": 165,
      "outputs": [
        {
          "output_type": "display_data",
          "data": {
            "image/png": "[encoded data removed]",
            "text/plain": [
              "<Figure size 432x288 with 1 Axes>"
            ]
          },
          "metadata": {
            "tags": []
          }
        }
      ]
    }
  ]
}