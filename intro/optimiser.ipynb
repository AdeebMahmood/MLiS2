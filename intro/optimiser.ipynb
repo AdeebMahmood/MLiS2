{
  "nbformat": 4,
  "nbformat_minor": 0,
  "metadata": {
    "colab": {
      "name": "optimiser.ipynb",
      "provenance": [],
      "authorship_tag": "ABX9TyMtUyO1FxboaoxayvczFIPx",
      "include_colab_link": true
    },
    "kernelspec": {
      "name": "python3",
      "display_name": "Python 3"
    }
  },
  "cells": [
    {
      "cell_type": "markdown",
      "metadata": {
        "id": "view-in-github",
        "colab_type": "text"
      },
      "source": [
        "<a href=\"https://colab.research.google.com/github/adammoss/MLiS2/blob/master/intro/optimiser.ipynb\" target=\"_parent\"><img src=\"https://colab.research.google.com/assets/colab-badge.svg\" alt=\"Open In Colab\"/></a>"
      ]
    },
    {
      "cell_type": "markdown",
      "metadata": {
        "id": "MVr8V-T00krB",
        "colab_type": "text"
      },
      "source": [
        "The Rosenbrock function is a non-convex function commonly used for bench-marking optimisation methods. It is given by\n",
        "\n",
        "$\n",
        "f(x, y) = \\left( 1 - x \\right)^2 + 100 \\left( y - x^2 \\right)^2\n",
        "$\n",
        "\n",
        "and has a global minima at $(x, y) = (1, 1)$. \n",
        "\n",
        "In this example we will benchmark several of the optimisers included with TensorFlow, including SGD, SGD + momentum, RMSprop and Adam, starting from (x, y) = (0, 1). Learning rates were chosen to be (approximately) the largest values possible and that converged to the true solution. "
      ]
    },
    {
      "cell_type": "code",
      "metadata": {
        "id": "d5wmFXZ6xnKD",
        "colab_type": "code",
        "colab": {}
      },
      "source": [
        "\n",
        "try:\n",
        "  # %tensorflow_version only exists in Colab.\n",
        "  %tensorflow_version 2.x\n",
        "except Exception:\n",
        "  pass"
      ],
      "execution_count": 0,
      "outputs": []
    },
    {
      "cell_type": "code",
      "metadata": {
        "id": "fMksMVJSxr0w",
        "colab_type": "code",
        "colab": {}
      },
      "source": [
        "from __future__ import absolute_import, division, print_function, unicode_literals\n",
        "\n",
        "import tensorflow as tf\n",
        "from tensorflow import keras\n",
        "from tensorflow.keras import layers\n",
        "import matplotlib.pyplot as plt\n",
        "import numpy as np"
      ],
      "execution_count": 0,
      "outputs": []
    },
    {
      "cell_type": "code",
      "metadata": {
        "id": "GtidJTCVxwHp",
        "colab_type": "code",
        "colab": {
          "base_uri": "https://localhost:8080/",
          "height": 34
        },
        "outputId": "bc024b9f-ca36-4957-8a92-19e3ce1483a1"
      },
      "source": [
        "print(tf.__version__)"
      ],
      "execution_count": 303,
      "outputs": [
        {
          "output_type": "stream",
          "text": [
            "2.1.0-rc1\n"
          ],
          "name": "stdout"
        }
      ]
    },
    {
      "cell_type": "code",
      "metadata": {
        "id": "8Jyl5pymy1sb",
        "colab_type": "code",
        "colab": {}
      },
      "source": [
        "def reset():\t\n",
        "\tx1 = tf.Variable(0.0) \n",
        "\tx2 = tf.Variable(1.0) \n",
        "\treturn x1, x2"
      ],
      "execution_count": 0,
      "outputs": []
    },
    {
      "cell_type": "code",
      "metadata": {
        "id": "mdACjlFry8Vg",
        "colab_type": "code",
        "colab": {}
      },
      "source": [
        "def rosenbrock(x, y): \n",
        "\treturn (1 - x)**2 + 100 * (y - x**2)**2"
      ],
      "execution_count": 0,
      "outputs": []
    },
    {
      "cell_type": "code",
      "metadata": {
        "id": "J3HBG47RyiES",
        "colab_type": "code",
        "colab": {}
      },
      "source": [
        "def benchmark(f, opt, iterations):\n",
        "  x, y = reset()\n",
        "  history = []\n",
        "  for i in range(iterations):\n",
        "    with tf.GradientTape() as tape:\n",
        "      z = f(x, y)\n",
        "    grads = tape.gradient(z, [x, y])\n",
        "    processed_grads = [g for g in grads]\n",
        "    grads_and_vars = zip(processed_grads, [x, y])\n",
        "    opt.apply_gradients(grads_and_vars)\n",
        "    history.append([x.numpy(), y.numpy(), grads[0].numpy(), grads[1].numpy()])\n",
        "  return np.array(history)"
      ],
      "execution_count": 0,
      "outputs": []
    },
    {
      "cell_type": "code",
      "metadata": {
        "id": "AAswZ9mVODcT",
        "colab_type": "code",
        "colab": {}
      },
      "source": [
        "iterations = 100"
      ],
      "execution_count": 0,
      "outputs": []
    },
    {
      "cell_type": "code",
      "metadata": {
        "id": "SrdDQ1XqGE45",
        "colab_type": "code",
        "colab": {}
      },
      "source": [
        "sgd_history = benchmark(rosenbrock, keras.optimizers.SGD(learning_rate=0.001), iterations)"
      ],
      "execution_count": 0,
      "outputs": []
    },
    {
      "cell_type": "code",
      "metadata": {
        "id": "s4fQ4QwCJmqB",
        "colab_type": "code",
        "colab": {}
      },
      "source": [
        "momentum_history = benchmark(rosenbrock, keras.optimizers.SGD(learning_rate=0.001, nesterov=True, momentum=0.2), iterations)"
      ],
      "execution_count": 0,
      "outputs": []
    },
    {
      "cell_type": "code",
      "metadata": {
        "id": "IF80Cqo9J5kM",
        "colab_type": "code",
        "colab": {}
      },
      "source": [
        "rmsprop_history = benchmark(rosenbrock, keras.optimizers.RMSprop(learning_rate=0.01), iterations)"
      ],
      "execution_count": 0,
      "outputs": []
    },
    {
      "cell_type": "code",
      "metadata": {
        "id": "UzRuQ5V4KUnJ",
        "colab_type": "code",
        "colab": {}
      },
      "source": [
        "adam_history = benchmark(rosenbrock, keras.optimizers.Adam(learning_rate=0.05), iterations)"
      ],
      "execution_count": 0,
      "outputs": []
    },
    {
      "cell_type": "code",
      "metadata": {
        "id": "XRifBvAzHLTx",
        "colab_type": "code",
        "colab": {}
      },
      "source": [
        "xx, yy = np.mgrid[-1:2:.01, -0.5:2:.01]\n",
        "zz = rosenbrock(xx, yy)"
      ],
      "execution_count": 0,
      "outputs": []
    },
    {
      "cell_type": "code",
      "metadata": {
        "id": "gBGMdVO_1yas",
        "colab_type": "code",
        "colab": {
          "base_uri": "https://localhost:8080/",
          "height": 317
        },
        "outputId": "936e7dbd-e854-4304-8adf-f89fe5bcbe73"
      },
      "source": [
        "plt.figure()\n",
        "plt.contourf(xx, yy, np.log(zz), alpha=0.1)\n",
        "plt.xlabel('x')\n",
        "plt.ylabel('y')\n",
        "plt.plot(sgd_history[:, 0], sgd_history[:, 1], label='SGD')\n",
        "plt.plot(momentum_history[:, 0], momentum_history[:, 1], label='SGD + momentum')\n",
        "plt.plot(rmsprop_history[:, 0], rmsprop_history[:, 1], label='RMSprop')\n",
        "plt.plot(adam_history[:, 0], adam_history[:, 1], label='Adam')\n",
        "plt.xlim([-1,1.5])\n",
        "plt.ylim([-0.5,2])\n",
        "plt.legend(loc='upper left')\n",
        "plt.show()"
      ],
      "execution_count": 313,
      "outputs": [
        {
          "output_type": "stream",
          "text": [
            "/usr/local/lib/python3.6/dist-packages/ipykernel_launcher.py:2: RuntimeWarning: divide by zero encountered in log\n",
            "  \n"
          ],
          "name": "stderr"
        },
        {
          "output_type": "display_data",
          "data": {
            "image/png": "[encoded data removed]",
            "text/plain": [
              "<Figure size 432x288 with 1 Axes>"
            ]
          },
          "metadata": {
            "tags": []
          }
        }
      ]
    },
    {
      "cell_type": "code",
      "metadata": {
        "id": "zYou0SXo2Tla",
        "colab_type": "code",
        "colab": {
          "base_uri": "https://localhost:8080/",
          "height": 282
        },
        "outputId": "983000f5-c169-437b-db51-13371e22c20d"
      },
      "source": [
        "plt.figure()\n",
        "plt.xlabel('Epoch')\n",
        "plt.ylabel('Distance from true solution')\n",
        "plt.plot(((sgd_history[:, 0] - 1)**2 + (sgd_history[:, 1] - 1)**2)**0.5, label = 'SGD')\n",
        "plt.plot(((momentum_history[:, 0] - 1)**2 + (momentum_history[:, 1] - 1)**2)**0.5, label = 'SGD + momentum')\n",
        "plt.plot(((rmsprop_history[:, 0] - 1)**2 + (rmsprop_history[:, 1] - 1)**2)**0.5, label = 'RMSprop')\n",
        "plt.plot(((adam_history[:, 0] - 1)**2 + (adam_history[:, 1] - 1)**2)**0.5, label = 'Adam')\n",
        "plt.legend()\n",
        "plt.show()"
      ],
      "execution_count": 314,
      "outputs": [
        {
          "output_type": "display_data",
          "data": {
            "image/png": "[encoded data removed]",
            "text/plain": [
              "<Figure size 432x288 with 1 Axes>"
            ]
          },
          "metadata": {
            "tags": []
          }
        }
      ]
    }
  ]
}