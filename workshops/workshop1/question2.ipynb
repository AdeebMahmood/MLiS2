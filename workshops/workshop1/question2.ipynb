{
  "nbformat": 4,
  "nbformat_minor": 0,
  "metadata": {
    "colab": {
      "name": "Copy of workshop1_question2.ipynb",
      "provenance": [],
      "authorship_tag": "ABX9TyPK7ijJKQRuLw1rsmep8QgS",
      "include_colab_link": true
    },
    "kernelspec": {
      "name": "python3",
      "display_name": "Python 3"
    }
  },
  "cells": [
    {
      "cell_type": "markdown",
      "metadata": {
        "id": "view-in-github",
        "colab_type": "text"
      },
      "source": [
        "<a href=\"https://colab.research.google.com/github/adammoss/MLiS2_workshops/blob/master/workshop1/question2.ipynb\" target=\"_parent\"><img src=\"https://colab.research.google.com/assets/colab-badge.svg\" alt=\"Open In Colab\"/></a>"
      ]
    },
    {
      "cell_type": "markdown",
      "metadata": {
        "id": "hq1AS2ym_fP0",
        "colab_type": "text"
      },
      "source": [
        "This is the solution to question 3 of the workshop 1. The changes required to the example in lectures are (1) implement a sigmoid function and use the output layer (2) modify back-prop equations to use BCE loss"
      ]
    },
    {
      "cell_type": "code",
      "metadata": {
        "id": "QVbMGrw2__Zm",
        "colab_type": "code",
        "colab": {}
      },
      "source": [
        "import numpy as np\n",
        "import matplotlib.pyplot as plt"
      ],
      "execution_count": 0,
      "outputs": []
    },
    {
      "cell_type": "code",
      "metadata": {
        "id": "7udklsBw_TOu",
        "colab_type": "code",
        "colab": {}
      },
      "source": [
        "np.random.seed(0)"
      ],
      "execution_count": 0,
      "outputs": []
    },
    {
      "cell_type": "code",
      "metadata": {
        "id": "f_EC8JkUAHwO",
        "colab_type": "code",
        "outputId": "d9afee4c-8a0e-4390-84b1-0368c9cdd764",
        "colab": {
          "base_uri": "https://localhost:8080/",
          "height": 85
        }
      },
      "source": [
        "X = np.array([[0,0], [0,1], [1,0], [1,1]])\n",
        "print(X)"
      ],
      "execution_count": 0,
      "outputs": [
        {
          "output_type": "stream",
          "text": [
            "[[0 0]\n",
            " [0 1]\n",
            " [1 0]\n",
            " [1 1]]\n"
          ],
          "name": "stdout"
        }
      ]
    },
    {
      "cell_type": "code",
      "metadata": {
        "id": "JzYShJU4ANmR",
        "colab_type": "code",
        "outputId": "350e4a24-4e5f-40cb-a5e3-03949516d8a4",
        "colab": {
          "base_uri": "https://localhost:8080/",
          "height": 85
        }
      },
      "source": [
        "Y = np.array([[0], [1], [1], [0]])\n",
        "print(Y)"
      ],
      "execution_count": 0,
      "outputs": [
        {
          "output_type": "stream",
          "text": [
            "[[0]\n",
            " [1]\n",
            " [1]\n",
            " [0]]\n"
          ],
          "name": "stdout"
        }
      ]
    },
    {
      "cell_type": "markdown",
      "metadata": {
        "id": "grJdIQ73q8rB",
        "colab_type": "text"
      },
      "source": [
        "Define sigmoid function"
      ]
    },
    {
      "cell_type": "code",
      "metadata": {
        "id": "FYO4yk2PqfkC",
        "colab_type": "code",
        "colab": {}
      },
      "source": [
        "def sigmoid(z):\n",
        "  return 1 / (1 + np.exp(-z))"
      ],
      "execution_count": 0,
      "outputs": []
    },
    {
      "cell_type": "markdown",
      "metadata": {
        "id": "E3O5LePZVjzp",
        "colab_type": "text"
      },
      "source": [
        "Define the MLP model"
      ]
    },
    {
      "cell_type": "code",
      "metadata": {
        "id": "TuU43LLm_Aj1",
        "colab_type": "code",
        "colab": {}
      },
      "source": [
        "class MLP(object):\n",
        "\n",
        "  def __init__(self):\n",
        "    # Initialise with random weights\n",
        "    self.weights_1 = 0.1 * np.random.normal(size=(3,2))\n",
        "    self.weights_2 = 0.1 * np.random.normal(size=(3,1))\n",
        "\n",
        "  def forward(self, x):\n",
        "    # Do a forward pass\n",
        "    if len(x.shape) == 1:\n",
        "      # Single example, so add a batch dimension of 1\n",
        "      x = np.expand_dims(x, axis=0)\n",
        "    # Hidden layer \n",
        "    z_1 = np.matmul(np.hstack((np.ones(shape=(x.shape[0], 1)), x)), self.weights_1)\n",
        "    # Apply ReLU activation function\n",
        "    a_1 = np.maximum(z_1, 0)\n",
        "    # Output layer\n",
        "    z_2 = np.matmul(np.hstack((np.ones(shape=(a_1.shape[0], 1)), a_1)), self.weights_2)\n",
        "    # Simoid function activation \n",
        "    a_2 = sigmoid(z_2)\n",
        "    return z_1, a_1, z_2, a_2"
      ],
      "execution_count": 0,
      "outputs": []
    },
    {
      "cell_type": "code",
      "metadata": {
        "id": "kkRYVpaF9pQc",
        "colab_type": "code",
        "colab": {}
      },
      "source": [
        "num_epochs = 2000\n",
        "learning_rate = 0.1"
      ],
      "execution_count": 0,
      "outputs": []
    },
    {
      "cell_type": "markdown",
      "metadata": {
        "id": "eaq2lIzwqoPY",
        "colab_type": "text"
      },
      "source": [
        "Update random initial weights and biases by back-prop"
      ]
    },
    {
      "cell_type": "code",
      "metadata": {
        "id": "kaRG-DXJjiD1",
        "colab_type": "code",
        "outputId": "2bcc976e-0034-4618-b45e-51659766fad8",
        "colab": {
          "base_uri": "https://localhost:8080/",
          "height": 357
        }
      },
      "source": [
        "m = MLP()\n",
        "loss_history = []\n",
        "weights_1_history = []\n",
        "weights_2_history = []\n",
        "for epoch in range(num_epochs):\n",
        "  # Do forward pass\n",
        "  z_1, a_1, z_2, a_2 = m.forward(X)\n",
        "  # Loss is now BCE loss\n",
        "  loss = 0.25 * np.sum(-(Y * np.log(a_2) + (1 - Y)*np.log(1 - a_2)))\n",
        "  loss_history.append(loss)\n",
        "  if epoch % 100 == 0:\n",
        "    print(epoch, loss)\n",
        "  # Delta_2 has shape(4, 1), the first dimension being the batch dimension - this is modified due to the BCE loss\n",
        "  delta_2 =  a_2 - Y\n",
        "  g_prime_1 = np.heaviside(z_1, 0)\n",
        "  # Delta_1 has shape (4, 2)\n",
        "  delta_1 = np.matmul(delta_2, m.weights_2[1:3, :].T) * g_prime_1\n",
        "  # Biases of layers connecting input and hidden layers\n",
        "  m.weights_1[0, :] -= learning_rate * np.sum(delta_1[:, :], axis=0)\n",
        "  # Weights of layers connecting input and hidden layers \n",
        "  m.weights_1[1:3, :] -= learning_rate * np.matmul(X.T, delta_1)\n",
        "  # Biases of layers connecting hidden and output layers\n",
        "  m.weights_2[0, 0] -= learning_rate * np.sum(delta_2[:, :], axis=0)\n",
        "  # Weights of layers connecting hidden and output layers\n",
        "  m.weights_2[1:3, 0:1] -= learning_rate * np.matmul(a_1.T, delta_2)\n",
        "  weights_1_history.append(np.copy(m.weights_1))\n",
        "  weights_2_history.append(np.copy(m.weights_2))\n",
        "loss_history = np.array(loss_history)\n",
        "weights_1_history = np.array(weights_1_history)\n",
        "weights_2_history = np.array(weights_2_history)"
      ],
      "execution_count": 0,
      "outputs": [
        {
          "output_type": "stream",
          "text": [
            "0 0.694211312919729\n",
            "100 0.5838311811974212\n",
            "200 0.3601728403011589\n",
            "300 0.09233050167681013\n",
            "400 0.04028480291139616\n",
            "500 0.023916302462751293\n",
            "600 0.016709403840414538\n",
            "700 0.012546646993330635\n",
            "800 0.010072365760486686\n",
            "900 0.008360024505589345\n",
            "1000 0.0070897956203535405\n",
            "1100 0.006166371954171484\n",
            "1200 0.005461926969176597\n",
            "1300 0.004873030017423621\n",
            "1400 0.004404481437105187\n",
            "1500 0.004014625667113565\n",
            "1600 0.003694615094646483\n",
            "1700 0.003406718356230137\n",
            "1800 0.0031608321466970145\n",
            "1900 0.0029490149707997074\n"
          ],
          "name": "stdout"
        }
      ]
    },
    {
      "cell_type": "code",
      "metadata": {
        "id": "l_UNqVI12Fez",
        "colab_type": "code",
        "outputId": "c206764a-b6bf-4d57-ccda-6840c0dbe6ce",
        "colab": {
          "base_uri": "https://localhost:8080/",
          "height": 369
        }
      },
      "source": [
        "plt.figure(figsize=(15, 5))\n",
        "ax = plt.subplot(2, 5, 1)\n",
        "ax.plot(loss_history[:])\n",
        "ax.set_xlabel('Epoch', fontsize=14)\n",
        "ax.set_ylabel('Loss', fontsize=14)\n",
        "ax = plt.subplot(2, 5, 2)\n",
        "ax.plot(weights_1_history[:,0,0])\n",
        "ax.set_xlabel('Epoch', fontsize=14)\n",
        "ax.set_ylabel('$c_1$', fontsize=14)\n",
        "ax = plt.subplot(2, 5, 3)\n",
        "ax.plot(weights_1_history[:,0,1])\n",
        "ax.set_xlabel('Epoch', fontsize=14)\n",
        "ax.set_ylabel('$c_2$', fontsize=14)\n",
        "ax = plt.subplot(2, 5, 4)\n",
        "ax.plot(weights_1_history[:,1,0])\n",
        "ax.set_xlabel('Epoch', fontsize=14)\n",
        "ax.set_ylabel('$W_{11}$', fontsize=14)\n",
        "ax = plt.subplot(2, 5, 5)\n",
        "ax.plot(weights_1_history[:,1,1])\n",
        "ax.set_xlabel('Epoch', fontsize=14)\n",
        "ax.set_ylabel('$W_{12}$', fontsize=14)\n",
        "ax = plt.subplot(2, 5, 6)\n",
        "ax.plot(weights_1_history[:,2,0])\n",
        "ax.set_xlabel('Epoch', fontsize=14)\n",
        "ax.set_ylabel('$W_{21}$', fontsize=14)\n",
        "ax = plt.subplot(2, 5, 7)\n",
        "ax.plot(weights_1_history[:,2,1])\n",
        "ax.set_xlabel('Epoch', fontsize=14)\n",
        "ax.set_ylabel('$W_{22}$', fontsize=14)\n",
        "ax = plt.subplot(2, 5, 8)\n",
        "ax.plot(weights_2_history[:,0,0])\n",
        "ax.set_xlabel('Epoch', fontsize=14)\n",
        "ax.set_ylabel('$b$', fontsize=14)\n",
        "ax = plt.subplot(2, 5, 9)\n",
        "ax.plot(weights_2_history[:,1,0])\n",
        "ax.set_xlabel('Epoch', fontsize=14)\n",
        "ax.set_ylabel('$w_1$', fontsize=14)\n",
        "ax = plt.subplot(2, 5, 10)\n",
        "ax.plot(weights_2_history[:,2,0])\n",
        "ax.set_xlabel('Epoch', fontsize=14)\n",
        "ax.set_ylabel('$w_2$', fontsize=14)\n",
        "plt.tight_layout()\n",
        "plt.show()"
      ],
      "execution_count": 0,
      "outputs": [
        {
          "output_type": "display_data",
          "data": {
            "image/png": "[encoded data removed]",
            "text/plain": [
              "<Figure size 1080x360 with 10 Axes>"
            ]
          },
          "metadata": {
            "tags": []
          }
        }
      ]
    },
    {
      "cell_type": "code",
      "metadata": {
        "id": "lVModDozl3CF",
        "colab_type": "code",
        "outputId": "12df0bc9-cd1f-42eb-978f-5006d4f0c561",
        "colab": {
          "base_uri": "https://localhost:8080/",
          "height": 68
        }
      },
      "source": [
        "print(m.weights_1)"
      ],
      "execution_count": 0,
      "outputs": [
        {
          "output_type": "stream",
          "text": [
            "[[ 2.57258076e+00 -4.42820999e-05]\n",
            " [ 2.63808540e+00  4.26374147e+00]\n",
            " [-2.57497505e+00 -4.26351327e+00]]\n"
          ],
          "name": "stdout"
        }
      ]
    },
    {
      "cell_type": "code",
      "metadata": {
        "id": "AbgcccxHoKjC",
        "colab_type": "code",
        "outputId": "252f7572-18ba-455a-ce20-90748f5ec0bb",
        "colab": {
          "base_uri": "https://localhost:8080/",
          "height": 68
        }
      },
      "source": [
        "print(m.weights_2)"
      ],
      "execution_count": 0,
      "outputs": [
        {
          "output_type": "stream",
          "text": [
            "[[ 4.8433445 ]\n",
            " [-4.43529991]\n",
            " [ 5.97460047]]\n"
          ],
          "name": "stdout"
        }
      ]
    },
    {
      "cell_type": "code",
      "metadata": {
        "id": "nePskL-toOUq",
        "colab_type": "code",
        "outputId": "4d7cb8aa-c0c9-464e-e9aa-f810fb9cf056",
        "colab": {
          "base_uri": "https://localhost:8080/",
          "height": 85
        }
      },
      "source": [
        "z_1, a_1, z_2, a_2 = m.forward(X)\n",
        "print(a_2)"
      ],
      "execution_count": 0,
      "outputs": [
        {
          "output_type": "stream",
          "text": [
            "[[0.00140428]\n",
            " [0.99218097]\n",
            " [0.9992587 ]\n",
            " [0.00106296]]\n"
          ],
          "name": "stdout"
        }
      ]
    }
  ]
}